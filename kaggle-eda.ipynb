{
 "cells": [
  {
   "cell_type": "markdown",
   "id": "d03f33fc",
   "metadata": {
    "papermill": {
     "duration": 0.056782,
     "end_time": "2021-07-14T09:27:39.915440",
     "exception": false,
     "start_time": "2021-07-14T09:27:39.858658",
     "status": "completed"
    },
    "tags": []
   },
   "source": [
    "# EDA"
   ]
  },
  {
   "cell_type": "code",
   "execution_count": 1,
   "id": "0a466f84",
   "metadata": {
    "execution": {
     "iopub.execute_input": "2021-07-14T09:27:40.033198Z",
     "iopub.status.busy": "2021-07-14T09:27:40.031372Z",
     "iopub.status.idle": "2021-07-14T09:27:40.043911Z",
     "shell.execute_reply": "2021-07-14T09:27:40.044542Z",
     "shell.execute_reply.started": "2021-07-13T15:25:49.259740Z"
    },
    "papermill": {
     "duration": 0.075078,
     "end_time": "2021-07-14T09:27:40.044847",
     "exception": false,
     "start_time": "2021-07-14T09:27:39.969769",
     "status": "completed"
    },
    "tags": []
   },
   "outputs": [],
   "source": [
    "import numpy as np\n",
    "import pandas as pd\n",
    "from tqdm import tqdm\n",
    "import matplotlib.pyplot as plt\n",
    "from datetime import datetime\n",
    "import os\n",
    "from collections import defaultdict\n",
    "from pprint import pprint"
   ]
  },
  {
   "cell_type": "markdown",
   "id": "290a24fd",
   "metadata": {
    "papermill": {
     "duration": 0.053815,
     "end_time": "2021-07-14T09:27:40.153322",
     "exception": false,
     "start_time": "2021-07-14T09:27:40.099507",
     "status": "completed"
    },
    "tags": []
   },
   "source": [
    "files:"
   ]
  },
  {
   "cell_type": "code",
   "execution_count": 2,
   "id": "dfd9c185",
   "metadata": {
    "execution": {
     "iopub.execute_input": "2021-07-14T09:27:40.267275Z",
     "iopub.status.busy": "2021-07-14T09:27:40.266294Z",
     "iopub.status.idle": "2021-07-14T09:27:40.272601Z",
     "shell.execute_reply": "2021-07-14T09:27:40.272048Z",
     "shell.execute_reply.started": "2021-07-13T15:25:50.611347Z"
    },
    "papermill": {
     "duration": 0.065324,
     "end_time": "2021-07-14T09:27:40.272748",
     "exception": false,
     "start_time": "2021-07-14T09:27:40.207424",
     "status": "completed"
    },
    "tags": []
   },
   "outputs": [
    {
     "name": "stdout",
     "output_type": "stream",
     "text": [
      "/kaggle/input/bigdata2021-rl-recsys/item_info.csv\n",
      "/kaggle/input/bigdata2021-rl-recsys/trainset.csv\n",
      "/kaggle/input/bigdata2021-rl-recsys/track2_testset.csv\n",
      "/kaggle/input/bigdata2021-rl-recsys/track1_testset.csv\n"
     ]
    }
   ],
   "source": [
    "for dirname, _, filenames in os.walk('/kaggle/input'):\n",
    "    for filename in filenames:\n",
    "        print(os.path.join(dirname, filename))"
   ]
  },
  {
   "cell_type": "code",
   "execution_count": 3,
   "id": "eb518608",
   "metadata": {
    "execution": {
     "iopub.execute_input": "2021-07-14T09:27:40.388588Z",
     "iopub.status.busy": "2021-07-14T09:27:40.387809Z",
     "iopub.status.idle": "2021-07-14T09:27:40.390985Z",
     "shell.execute_reply": "2021-07-14T09:27:40.390399Z",
     "shell.execute_reply.started": "2021-07-13T15:25:51.054818Z"
    },
    "papermill": {
     "duration": 0.062718,
     "end_time": "2021-07-14T09:27:40.391130",
     "exception": false,
     "start_time": "2021-07-14T09:27:40.328412",
     "status": "completed"
    },
    "tags": []
   },
   "outputs": [],
   "source": [
    "def change_into_datetime(time_int):\n",
    "    \"\"\"\n",
    "    input: 1582992009 (int)\n",
    "    output: 2020-02-29 16:00:09 (str)\n",
    "    \"\"\"\n",
    "    return datetime.utcfromtimestamp(time_int).strftime('%Y-%m-%d %H:%M:%S')"
   ]
  },
  {
   "cell_type": "markdown",
   "id": "d1c5978c",
   "metadata": {
    "papermill": {
     "duration": 0.054221,
     "end_time": "2021-07-14T09:27:40.502329",
     "exception": false,
     "start_time": "2021-07-14T09:27:40.448108",
     "status": "completed"
    },
    "tags": []
   },
   "source": [
    "## Let's first see `trainset.csv`"
   ]
  },
  {
   "cell_type": "markdown",
   "id": "193a8f5e",
   "metadata": {
    "papermill": {
     "duration": 0.055555,
     "end_time": "2021-07-14T09:27:40.612876",
     "exception": false,
     "start_time": "2021-07-14T09:27:40.557321",
     "status": "completed"
    },
    "tags": []
   },
   "source": [
    "read data"
   ]
  },
  {
   "cell_type": "code",
   "execution_count": 4,
   "id": "92de1b86",
   "metadata": {
    "execution": {
     "iopub.execute_input": "2021-07-14T09:27:40.724721Z",
     "iopub.status.busy": "2021-07-14T09:27:40.724051Z",
     "iopub.status.idle": "2021-07-14T09:27:45.712786Z",
     "shell.execute_reply": "2021-07-14T09:27:45.711811Z",
     "shell.execute_reply.started": "2021-07-13T15:26:05.057784Z"
    },
    "papermill": {
     "duration": 5.04575,
     "end_time": "2021-07-14T09:27:45.712994",
     "exception": false,
     "start_time": "2021-07-14T09:27:40.667244",
     "status": "completed"
    },
    "tags": []
   },
   "outputs": [],
   "source": [
    "# read csv\n",
    "df_trainset = pd.read_csv('/kaggle/input/bigdata2021-rl-recsys/trainset.csv', sep=' ')\n"
   ]
  },
  {
   "cell_type": "code",
   "execution_count": 5,
   "id": "07e439cd",
   "metadata": {
    "execution": {
     "iopub.execute_input": "2021-07-14T09:27:45.843542Z",
     "iopub.status.busy": "2021-07-14T09:27:45.842821Z",
     "iopub.status.idle": "2021-07-14T09:28:56.148700Z",
     "shell.execute_reply": "2021-07-14T09:28:56.147737Z",
     "shell.execute_reply.started": "2021-07-13T11:47:41.003572Z"
    },
    "papermill": {
     "duration": 70.373396,
     "end_time": "2021-07-14T09:28:56.148898",
     "exception": false,
     "start_time": "2021-07-14T09:27:45.775502",
     "status": "completed"
    },
    "tags": []
   },
   "outputs": [
    {
     "name": "stderr",
     "output_type": "stream",
     "text": [
      "100%|██████████| 260087/260087 [01:10<00:00, 3701.40it/s]"
     ]
    },
    {
     "name": "stdout",
     "output_type": "stream",
     "text": [
      "# of row, col: 260087 7\n"
     ]
    },
    {
     "name": "stderr",
     "output_type": "stream",
     "text": [
      "\n"
     ]
    },
    {
     "data": {
      "text/html": [
       "<div>\n",
       "<style scoped>\n",
       "    .dataframe tbody tr th:only-of-type {\n",
       "        vertical-align: middle;\n",
       "    }\n",
       "\n",
       "    .dataframe tbody tr th {\n",
       "        vertical-align: top;\n",
       "    }\n",
       "\n",
       "    .dataframe thead th {\n",
       "        text-align: right;\n",
       "    }\n",
       "</style>\n",
       "<table border=\"1\" class=\"dataframe\">\n",
       "  <thead>\n",
       "    <tr style=\"text-align: right;\">\n",
       "      <th></th>\n",
       "      <th>user_id</th>\n",
       "      <th>user_click_history</th>\n",
       "      <th>user_protrait</th>\n",
       "      <th>exposed_items</th>\n",
       "      <th>labels</th>\n",
       "      <th>time</th>\n",
       "      <th>datetime</th>\n",
       "    </tr>\n",
       "  </thead>\n",
       "  <tbody>\n",
       "    <tr>\n",
       "      <th>0</th>\n",
       "      <td>1</td>\n",
       "      <td>30:2020-02-02 00:25:30,34:2020-02-08 16:22:17,...</td>\n",
       "      <td>64054,21804,80911,36504,8867,7615,54240,37294,...</td>\n",
       "      <td>1,20,28,99,86,119,213,237,164</td>\n",
       "      <td>1,1,1,1,1,1,1,1,1</td>\n",
       "      <td>1582992009</td>\n",
       "      <td>2020-02-29 16:00:09</td>\n",
       "    </tr>\n",
       "    <tr>\n",
       "      <th>1</th>\n",
       "      <td>2</td>\n",
       "      <td>20:2020-02-02 11:59:22,13:2020-02-02 11:59:25,...</td>\n",
       "      <td>64054,26565,93755,88510,6344,7615,54240,21927,...</td>\n",
       "      <td>1,4,26,112,86,117,191,234,172</td>\n",
       "      <td>1,1,1,1,1,1,1,1,0</td>\n",
       "      <td>1582992010</td>\n",
       "      <td>2020-02-29 16:00:10</td>\n",
       "    </tr>\n",
       "    <tr>\n",
       "      <th>2</th>\n",
       "      <td>3</td>\n",
       "      <td>39:2020-02-03 23:36:15,6:2020-02-03 23:36:21,1...</td>\n",
       "      <td>64054,64086,63021,88510,93500,7615,54240,21927...</td>\n",
       "      <td>22,4,28,48,105,42,193,236,159</td>\n",
       "      <td>1,1,1,0,1,0,0,0,0</td>\n",
       "      <td>1582992014</td>\n",
       "      <td>2020-02-29 16:00:14</td>\n",
       "    </tr>\n",
       "    <tr>\n",
       "      <th>3</th>\n",
       "      <td>4</td>\n",
       "      <td>6:2020-02-02 15:33:28,9:2020-02-02 15:33:32,15...</td>\n",
       "      <td>64054,21531,6599,16721,37078,7615,54240,65505,...</td>\n",
       "      <td>5,16,1,74,133,122,235,218,172</td>\n",
       "      <td>1,1,1,1,1,1,1,1,0</td>\n",
       "      <td>1582992014</td>\n",
       "      <td>2020-02-29 16:00:14</td>\n",
       "    </tr>\n",
       "    <tr>\n",
       "      <th>4</th>\n",
       "      <td>5</td>\n",
       "      <td>37:2020-02-03 15:25:45,36:2020-02-03 15:25:54,...</td>\n",
       "      <td>64054,66036,6599,88510,76066,20543,83978,37294...</td>\n",
       "      <td>6,1,16,85,73,112,239,172,205</td>\n",
       "      <td>1,1,1,1,1,1,1,1,1</td>\n",
       "      <td>1582992017</td>\n",
       "      <td>2020-02-29 16:00:17</td>\n",
       "    </tr>\n",
       "  </tbody>\n",
       "</table>\n",
       "</div>"
      ],
      "text/plain": [
       "   user_id                                 user_click_history  \\\n",
       "0        1  30:2020-02-02 00:25:30,34:2020-02-08 16:22:17,...   \n",
       "1        2  20:2020-02-02 11:59:22,13:2020-02-02 11:59:25,...   \n",
       "2        3  39:2020-02-03 23:36:15,6:2020-02-03 23:36:21,1...   \n",
       "3        4  6:2020-02-02 15:33:28,9:2020-02-02 15:33:32,15...   \n",
       "4        5  37:2020-02-03 15:25:45,36:2020-02-03 15:25:54,...   \n",
       "\n",
       "                                       user_protrait  \\\n",
       "0  64054,21804,80911,36504,8867,7615,54240,37294,...   \n",
       "1  64054,26565,93755,88510,6344,7615,54240,21927,...   \n",
       "2  64054,64086,63021,88510,93500,7615,54240,21927...   \n",
       "3  64054,21531,6599,16721,37078,7615,54240,65505,...   \n",
       "4  64054,66036,6599,88510,76066,20543,83978,37294...   \n",
       "\n",
       "                   exposed_items             labels        time  \\\n",
       "0  1,20,28,99,86,119,213,237,164  1,1,1,1,1,1,1,1,1  1582992009   \n",
       "1  1,4,26,112,86,117,191,234,172  1,1,1,1,1,1,1,1,0  1582992010   \n",
       "2  22,4,28,48,105,42,193,236,159  1,1,1,0,1,0,0,0,0  1582992014   \n",
       "3  5,16,1,74,133,122,235,218,172  1,1,1,1,1,1,1,1,0  1582992014   \n",
       "4   6,1,16,85,73,112,239,172,205  1,1,1,1,1,1,1,1,1  1582992017   \n",
       "\n",
       "              datetime  \n",
       "0  2020-02-29 16:00:09  \n",
       "1  2020-02-29 16:00:10  \n",
       "2  2020-02-29 16:00:14  \n",
       "3  2020-02-29 16:00:14  \n",
       "4  2020-02-29 16:00:17  "
      ]
     },
     "execution_count": 5,
     "metadata": {},
     "output_type": "execute_result"
    }
   ],
   "source": [
    "\n",
    "for i in tqdm(range(df_trainset.shape[0])):\n",
    "    # change time into human readable format\n",
    "    t = int(df_trainset.at[i, 'time'])\n",
    "    df_trainset.at[i, 'datetime'] = change_into_datetime(t)\n",
    "\n",
    "    # change time in user_click_history into human readable format\n",
    "    # notice that some user_click_history == '0:0', which means there is no click history for this user\n",
    "    t = df_trainset.at[i, 'user_click_history']\n",
    "    if t == '0:0':\n",
    "        df_trainset.at[i, 'user_click_history'] = ''\n",
    "    else:\n",
    "        new_user_click_history = [sample.split(':')[0] + ':' + change_into_datetime(int(sample.split(':')[1])) for sample in t.split(',')]\n",
    "        df_trainset.at[i, 'user_click_history'] = ','.join(new_user_click_history)\n",
    "\n",
    "print('# of row, col:', df_trainset.shape[0], df_trainset.shape[1])\n",
    "df_trainset.head()"
   ]
  },
  {
   "cell_type": "markdown",
   "id": "fdc0bc61",
   "metadata": {
    "papermill": {
     "duration": 0.257283,
     "end_time": "2021-07-14T09:28:56.663051",
     "exception": false,
     "start_time": "2021-07-14T09:28:56.405768",
     "status": "completed"
    },
    "tags": []
   },
   "source": [
    "### user_click_history analysis"
   ]
  },
  {
   "cell_type": "markdown",
   "id": "ac672955",
   "metadata": {
    "papermill": {
     "duration": 0.253905,
     "end_time": "2021-07-14T09:28:57.195182",
     "exception": false,
     "start_time": "2021-07-14T09:28:56.941277",
     "status": "completed"
    },
    "tags": []
   },
   "source": [
    "sample one click history:"
   ]
  },
  {
   "cell_type": "code",
   "execution_count": 6,
   "id": "a8ac37cc",
   "metadata": {
    "execution": {
     "iopub.execute_input": "2021-07-14T09:28:57.722399Z",
     "iopub.status.busy": "2021-07-14T09:28:57.721732Z",
     "iopub.status.idle": "2021-07-14T09:28:57.724974Z",
     "shell.execute_reply": "2021-07-14T09:28:57.725615Z",
     "shell.execute_reply.started": "2021-07-13T07:59:31.613978Z"
    },
    "papermill": {
     "duration": 0.272014,
     "end_time": "2021-07-14T09:28:57.725796",
     "exception": false,
     "start_time": "2021-07-14T09:28:57.453782",
     "status": "completed"
    },
    "scrolled": true,
    "tags": []
   },
   "outputs": [
    {
     "data": {
      "text/plain": [
       "'15:2020-02-01 19:28:12,10:2020-02-01 19:28:22,39:2020-02-01 19:28:26,127:2020-02-01 19:29:25,24:2020-02-01 19:29:58,16:2020-02-01 19:30:05,16:2020-02-02 16:04:26,23:2020-02-02 16:04:29,118:2020-02-02 16:04:41,118:2020-02-02 16:04:42,6:2020-02-09 10:48:56,31:2020-02-09 10:49:06,2:2020-02-09 10:52:55,6:2020-02-09 11:00:57,6:2020-02-09 11:04:41,6:2020-02-10 10:21:22,6:2020-02-10 10:43:49,126:2020-02-10 10:43:56,112:2020-02-10 10:44:02,72:2020-02-10 10:44:09,126:2020-02-10 10:46:05,211:2020-02-10 10:46:10,211:2020-02-10 10:48:00,235:2020-02-10 10:48:03,235:2020-02-10 10:49:33,211:2020-02-10 10:51:16,29:2020-02-10 10:51:26,28:2020-02-10 10:51:30,28:2020-02-10 10:51:56,28:2020-02-10 10:53:14,35:2020-02-10 10:53:18,15:2020-02-10 15:06:30,15:2020-02-11 11:46:21,131:2020-02-11 11:46:25,126:2020-02-11 11:46:28,28:2020-02-15 21:10:29,14:2020-02-15 21:23:11,13:2020-02-15 21:23:16,6:2020-02-16 17:00:52,6:2020-02-16 17:15:21,6:2020-02-17 08:51:00,100:2020-02-17 08:51:09,86:2020-02-17 08:51:14,91:2020-02-17 08:51:16,91:2020-02-17 08:52:57,86:2020-02-17 11:36:45,234:2020-02-17 11:36:49,211:2020-02-17 11:36:52,32:2020-02-23 04:35:30,31:2020-02-23 04:35:44,6:2020-02-23 04:35:56,5:2020-02-23 04:35:59,86:2020-02-23 04:36:02,109:2020-02-23 04:36:06,103:2020-02-23 04:36:09,86:2020-02-23 04:41:55,234:2020-02-23 04:41:58,25:2020-02-23 04:42:09,30:2020-02-23 04:42:30'"
      ]
     },
     "execution_count": 6,
     "metadata": {},
     "output_type": "execute_result"
    }
   ],
   "source": [
    "df_trainset.at[9999, 'user_click_history']#.split(',')"
   ]
  },
  {
   "cell_type": "code",
   "execution_count": 7,
   "id": "6b161c2e",
   "metadata": {
    "execution": {
     "iopub.execute_input": "2021-07-14T09:28:58.257341Z",
     "iopub.status.busy": "2021-07-14T09:28:58.256368Z",
     "iopub.status.idle": "2021-07-14T09:28:58.263287Z",
     "shell.execute_reply": "2021-07-14T09:28:58.262703Z",
     "shell.execute_reply.started": "2021-07-13T07:59:31.621432Z"
    },
    "papermill": {
     "duration": 0.278776,
     "end_time": "2021-07-14T09:28:58.263432",
     "exception": false,
     "start_time": "2021-07-14T09:28:57.984656",
     "status": "completed"
    },
    "tags": []
   },
   "outputs": [
    {
     "data": {
      "text/plain": [
       "''"
      ]
     },
     "execution_count": 7,
     "metadata": {},
     "output_type": "execute_result"
    }
   ],
   "source": [
    "df_trainset.at[152453, 'user_click_history']"
   ]
  },
  {
   "cell_type": "markdown",
   "id": "2bbdd086",
   "metadata": {
    "papermill": {
     "duration": 0.25299,
     "end_time": "2021-07-14T09:28:58.794015",
     "exception": false,
     "start_time": "2021-07-14T09:28:58.541025",
     "status": "completed"
    },
    "tags": []
   },
   "source": [
    "calc len of user_click_history"
   ]
  },
  {
   "cell_type": "code",
   "execution_count": 8,
   "id": "b57af316",
   "metadata": {
    "execution": {
     "iopub.execute_input": "2021-07-14T09:28:59.321749Z",
     "iopub.status.busy": "2021-07-14T09:28:59.321038Z",
     "iopub.status.idle": "2021-07-14T09:29:06.082843Z",
     "shell.execute_reply": "2021-07-14T09:29:06.081745Z",
     "shell.execute_reply.started": "2021-07-13T07:59:31.632948Z"
    },
    "papermill": {
     "duration": 7.029588,
     "end_time": "2021-07-14T09:29:06.083108",
     "exception": false,
     "start_time": "2021-07-14T09:28:59.053520",
     "status": "completed"
    },
    "scrolled": true,
    "tags": []
   },
   "outputs": [
    {
     "name": "stderr",
     "output_type": "stream",
     "text": [
      "100%|██████████| 260087/260087 [00:06<00:00, 41667.51it/s]\n"
     ]
    },
    {
     "data": {
      "image/png": "[encoded data removed]",
      "text/plain": [
       "<Figure size 432x288 with 1 Axes>"
      ]
     },
     "metadata": {
      "needs_background": "light"
     },
     "output_type": "display_data"
    },
    {
     "name": "stdout",
     "output_type": "stream",
     "text": [
      "There are 28184 users have 0 click history\n",
      "There are 3836 users have 1 click history\n",
      "There are 3556 users have 2 click history\n",
      "There are 3102 users have 3 click history\n",
      "There are 2957 users have 4 click history\n",
      "There are 2880 users have 5 click history\n",
      "There are 2868 users have 6 click history\n",
      "There are 3240 users have 7 click history\n",
      "There are 3589 users have 8 click history\n",
      "There are 3305 users have 9 click history\n",
      "There are 3130 users have 10 click history\n",
      "There are 2912 users have 11 click history\n",
      "There are 3008 users have 12 click history\n",
      "There are 2840 users have 13 click history\n",
      "There are 2853 users have 14 click history\n",
      "There are 3155 users have 15 click history\n",
      "There are 3269 users have 16 click history\n",
      "There are 3201 users have 17 click history\n",
      "There are 2983 users have 18 click history\n",
      "There are 2679 users have 19 click history\n",
      "There are 2611 users have 20 click history\n",
      "There are 2650 users have 21 click history\n",
      "There are 2714 users have 22 click history\n",
      "There are 2635 users have 23 click history\n",
      "There are 2560 users have 24 click history\n",
      "There are 2683 users have 25 click history\n",
      "There are 2535 users have 26 click history\n",
      "There are 2699 users have 27 click history\n",
      "There are 2584 users have 28 click history\n",
      "There are 2720 users have 29 click history\n",
      "There are 2578 users have 30 click history\n",
      "There are 2644 users have 31 click history\n",
      "There are 2609 users have 32 click history\n",
      "There are 2678 users have 33 click history\n",
      "There are 2687 users have 34 click history\n",
      "There are 2589 users have 35 click history\n",
      "There are 2636 users have 36 click history\n",
      "There are 2525 users have 37 click history\n",
      "There are 2615 users have 38 click history\n",
      "There are 2588 users have 39 click history\n",
      "There are 2637 users have 40 click history\n",
      "There are 2523 users have 41 click history\n",
      "There are 2508 users have 42 click history\n",
      "There are 2582 users have 43 click history\n",
      "There are 2426 users have 44 click history\n",
      "There are 2636 users have 45 click history\n",
      "There are 2602 users have 46 click history\n",
      "There are 2603 users have 47 click history\n",
      "There are 2556 users have 48 click history\n",
      "There are 2654 users have 49 click history\n",
      "There are 2645 users have 50 click history\n",
      "There are 2556 users have 51 click history\n",
      "There are 2723 users have 52 click history\n",
      "There are 2529 users have 53 click history\n",
      "There are 2578 users have 54 click history\n",
      "There are 2754 users have 55 click history\n",
      "There are 2537 users have 56 click history\n",
      "There are 2685 users have 57 click history\n",
      "There are 2585 users have 58 click history\n",
      "There are 2782 users have 59 click history\n",
      "There are 2609 users have 60 click history\n",
      "There are 2662 users have 61 click history\n",
      "There are 2583 users have 62 click history\n",
      "There are 2598 users have 63 click history\n",
      "There are 2777 users have 64 click history\n",
      "There are 2639 users have 65 click history\n",
      "There are 2517 users have 66 click history\n",
      "There are 2387 users have 67 click history\n",
      "There are 2360 users have 68 click history\n",
      "There are 2110 users have 69 click history\n",
      "There are 1927 users have 70 click history\n",
      "There are 1736 users have 71 click history\n",
      "There are 1595 users have 72 click history\n",
      "There are 1342 users have 73 click history\n",
      "There are 1258 users have 74 click history\n",
      "There are 1110 users have 75 click history\n",
      "There are 952 users have 76 click history\n",
      "There are 965 users have 77 click history\n",
      "There are 876 users have 78 click history\n",
      "There are 836 users have 79 click history\n",
      "There are 770 users have 80 click history\n",
      "There are 805 users have 81 click history\n",
      "There are 771 users have 82 click history\n",
      "There are 848 users have 83 click history\n",
      "There are 766 users have 84 click history\n",
      "There are 677 users have 85 click history\n",
      "There are 713 users have 86 click history\n",
      "There are 699 users have 87 click history\n",
      "There are 661 users have 88 click history\n",
      "There are 687 users have 89 click history\n",
      "There are 662 users have 90 click history\n",
      "There are 713 users have 91 click history\n",
      "There are 659 users have 92 click history\n",
      "There are 690 users have 93 click history\n",
      "There are 623 users have 94 click history\n",
      "There are 646 users have 95 click history\n",
      "There are 667 users have 96 click history\n",
      "There are 664 users have 97 click history\n",
      "There are 620 users have 98 click history\n",
      "There are 658 users have 99 click history\n"
     ]
    }
   ],
   "source": [
    "for i in tqdm(range(df_trainset.shape[0])):\n",
    "    user_click_history = df_trainset.at[i, 'user_click_history']\n",
    "    if user_click_history == '':\n",
    "        len_user_click_history = 0\n",
    "    else:\n",
    "        len_user_click_history = int(len(user_click_history.split(',')))\n",
    "    df_trainset.at[i, 'len_user_click_history'] = len_user_click_history\n",
    "\n",
    "arr = np.array(df_trainset['len_user_click_history'])\n",
    "plt.hist(arr, color='blue', edgecolor='black', bins=100)\n",
    "plt.title('Histogram of len_user_click_history')\n",
    "plt.xlabel('# of user_click_history')\n",
    "plt.ylabel('Count')\n",
    "plt.show()\n",
    "\n",
    "arr = np.array(df_trainset['len_user_click_history'])\n",
    "for i in range(100):\n",
    "    print('There are', len(arr[arr == i]), 'users have', i, 'click history')"
   ]
  },
  {
   "cell_type": "markdown",
   "id": "f31e0567",
   "metadata": {
    "papermill": {
     "duration": 0.277141,
     "end_time": "2021-07-14T09:29:06.699533",
     "exception": false,
     "start_time": "2021-07-14T09:29:06.422392",
     "status": "completed"
    },
    "tags": []
   },
   "source": [
    "what items are users clicking?"
   ]
  },
  {
   "cell_type": "code",
   "execution_count": 9,
   "id": "fd68b5a1",
   "metadata": {
    "execution": {
     "iopub.execute_input": "2021-07-14T09:29:07.261293Z",
     "iopub.status.busy": "2021-07-14T09:29:07.260585Z",
     "iopub.status.idle": "2021-07-14T09:29:17.084167Z",
     "shell.execute_reply": "2021-07-14T09:29:17.083605Z",
     "shell.execute_reply.started": "2021-07-13T07:59:37.456075Z"
    },
    "papermill": {
     "duration": 10.108343,
     "end_time": "2021-07-14T09:29:17.084337",
     "exception": false,
     "start_time": "2021-07-14T09:29:06.975994",
     "status": "completed"
    },
    "scrolled": true,
    "tags": []
   },
   "outputs": [
    {
     "name": "stderr",
     "output_type": "stream",
     "text": [
      "100%|██████████| 260087/260087 [00:09<00:00, 26601.21it/s]"
     ]
    },
    {
     "name": "stdout",
     "output_type": "stream",
     "text": [
      "[('1', 370354),\n",
      " ('28', 324683),\n",
      " ('164', 289927),\n",
      " ('14', 284915),\n",
      " ('29', 258330),\n",
      " ('196', 233589),\n",
      " ('200', 216048),\n",
      " ('5', 190309),\n",
      " ('32', 188267),\n",
      " ('2', 171447),\n",
      " ('15', 167346),\n",
      " ('127', 152368),\n",
      " ('73', 145888),\n",
      " ('199', 143226),\n",
      " ('86', 143203),\n",
      " ('33', 136150),\n",
      " ('126', 126780),\n",
      " ('7', 120695),\n",
      " ('235', 120047),\n",
      " ('30', 119854),\n",
      " ('101', 118376),\n",
      " ('4', 116919),\n",
      " ('125', 114040),\n",
      " ('3', 113207),\n",
      " ('31', 113135),\n",
      " ('34', 112362),\n",
      " ('77', 111075),\n",
      " ('72', 107915),\n",
      " ('6', 107823),\n",
      " ('172', 107103),\n",
      " ('234', 104991),\n",
      " ('10', 103417),\n",
      " ('21', 97580),\n",
      " ('18', 96617),\n",
      " ('35', 95681),\n",
      " ('81', 95136),\n",
      " ('39', 93147),\n",
      " ('25', 92231),\n",
      " ('19', 91433),\n",
      " ('130', 90898),\n",
      " ('51', 89937),\n",
      " ('56', 87003),\n",
      " ('26', 84288),\n",
      " ('20', 83510),\n",
      " ('17', 82821),\n",
      " ('16', 82517),\n",
      " ('132', 78696),\n",
      " ('129', 76225),\n",
      " ('38', 75701),\n",
      " ('100', 75084),\n",
      " ('233', 74623),\n",
      " ('9', 74396),\n",
      " ('213', 73690),\n",
      " ('8', 72634),\n",
      " ('24', 71076),\n",
      " ('99', 70854),\n",
      " ('131', 68907),\n",
      " ('184', 67629),\n",
      " ('107', 66993),\n",
      " ('80', 65990),\n",
      " ('74', 65827),\n",
      " ('84', 64140),\n",
      " ('240', 63479),\n",
      " ('11', 63406),\n",
      " ('239', 63271),\n",
      " ('27', 59754),\n",
      " ('105', 58548),\n",
      " ('13', 58383),\n",
      " ('106', 57261),\n",
      " ('76', 57252),\n",
      " ('237', 56166),\n",
      " ('78', 54840),\n",
      " ('36', 53448),\n",
      " ('12', 52893),\n",
      " ('79', 51637),\n",
      " ('133', 51323),\n",
      " ('61', 51160),\n",
      " ('37', 50663),\n",
      " ('137', 50170),\n",
      " ('104', 48922),\n",
      " ('212', 48272),\n",
      " ('113', 48134),\n",
      " ('238', 46978),\n",
      " ('128', 45971),\n",
      " ('75', 41266),\n",
      " ('136', 40584),\n",
      " ('102', 40339),\n",
      " ('43', 40144),\n",
      " ('23', 39612),\n",
      " ('85', 36234),\n",
      " ('52', 36042),\n",
      " ('22', 35973),\n",
      " ('111', 34785),\n",
      " ('211', 34774),\n",
      " ('114', 33377),\n",
      " ('112', 33133),\n",
      " ('83', 32892),\n",
      " ('183', 31668),\n",
      " ('58', 31652),\n",
      " ('53', 31564),\n",
      " ('87', 30778),\n",
      " ('55', 30503),\n",
      " ('103', 30132),\n",
      " ('134', 30012),\n",
      " ('135', 29611),\n",
      " ('108', 28891),\n",
      " ('88', 28793),\n",
      " ('54', 28615),\n",
      " ('41', 28307),\n",
      " ('192', 27803),\n",
      " ('82', 27182),\n",
      " ('218', 26765),\n",
      " ('110', 26497),\n",
      " ('188', 24602),\n",
      " ('217', 24568),\n",
      " ('109', 23143),\n",
      " ('40', 22824),\n",
      " ('219', 22471),\n",
      " ('46', 21429),\n",
      " ('221', 18764),\n",
      " ('190', 18211),\n",
      " ('220', 17766),\n",
      " ('216', 16810),\n",
      " ('193', 15170),\n",
      " ('191', 14094),\n",
      " ('187', 13580),\n",
      " ('189', 13449),\n",
      " ('45', 13129),\n",
      " ('159', 13085),\n",
      " ('44', 12117),\n",
      " ('214', 11914),\n",
      " ('236', 11452),\n",
      " ('194', 11346),\n",
      " ('57', 10967),\n",
      " ('59', 9995),\n",
      " ('149', 8202),\n",
      " ('148', 8043),\n",
      " ('160', 7856),\n",
      " ('185', 7529),\n",
      " ('47', 7130),\n",
      " ('171', 6865),\n",
      " ('142', 6807),\n",
      " ('50', 6640),\n",
      " ('93', 6562),\n",
      " ('42', 6256),\n",
      " ('222', 6227),\n",
      " ('195', 5758),\n",
      " ('89', 5139),\n",
      " ('170', 4802),\n",
      " ('138', 4776),\n",
      " ('90', 4720),\n",
      " ('154', 4659),\n",
      " ('140', 4623),\n",
      " ('215', 4496),\n",
      " ('115', 4256),\n",
      " ('139', 4197),\n",
      " ('91', 4088),\n",
      " ('49', 4001),\n",
      " ('60', 3961),\n",
      " ('141', 3826),\n",
      " ('150', 3726),\n",
      " ('48', 3670),\n",
      " ('119', 3629),\n",
      " ('66', 3545),\n",
      " ('117', 3456),\n",
      " ('151', 3383),\n",
      " ('92', 3351),\n",
      " ('62', 3272),\n",
      " ('145', 3253),\n",
      " ('116', 3203),\n",
      " ('161', 3185),\n",
      " ('245', 3135),\n",
      " ('144', 3077),\n",
      " ('186', 2927),\n",
      " ('124', 2925),\n",
      " ('118', 2837),\n",
      " ('97', 2803),\n",
      " ('96', 2754),\n",
      " ('165', 2722),\n",
      " ('205', 2653),\n",
      " ('121', 2653),\n",
      " ('153', 2615),\n",
      " ('120', 2583),\n",
      " ('64', 2428),\n",
      " ('241', 2426),\n",
      " ('95', 2418),\n",
      " ('143', 2337),\n",
      " ('147', 2258),\n",
      " ('122', 2252),\n",
      " ('94', 2232),\n",
      " ('166', 2037),\n",
      " ('244', 2032),\n",
      " ('201', 2004),\n",
      " ('155', 1983),\n",
      " ('204', 1968),\n",
      " ('227', 1954),\n",
      " ('65', 1921),\n",
      " ('173', 1859),\n",
      " ('206', 1704),\n",
      " ('63', 1670),\n",
      " ('202', 1649),\n",
      " ('146', 1639),\n",
      " ('68', 1621),\n",
      " ('98', 1598),\n",
      " ('223', 1590),\n",
      " ('123', 1507),\n",
      " ('225', 1482),\n",
      " ('69', 1431),\n",
      " ('67', 1403),\n",
      " ('203', 1396),\n",
      " ('163', 1329),\n",
      " ('156', 1305),\n",
      " ('243', 1298),\n",
      " ('250', 1282),\n",
      " ('248', 1264),\n",
      " ('224', 1182),\n",
      " ('210', 1180),\n",
      " ('208', 1165),\n",
      " ('242', 1140),\n",
      " ('197', 1114),\n",
      " ('249', 1088),\n",
      " ('226', 1073),\n",
      " ('247', 1051),\n",
      " ('71', 1026),\n",
      " ('162', 999),\n",
      " ('209', 999),\n",
      " ('231', 955),\n",
      " ('70', 949),\n",
      " ('177', 931),\n",
      " ('198', 928),\n",
      " ('158', 921),\n",
      " ('246', 918),\n",
      " ('230', 729),\n",
      " ('232', 699),\n",
      " ('167', 642),\n",
      " ('207', 634),\n",
      " ('176', 527),\n",
      " ('229', 502),\n",
      " ('175', 486),\n",
      " ('228', 458),\n",
      " ('157', 439),\n",
      " ('179', 399),\n",
      " ('182', 388),\n",
      " ('181', 372),\n",
      " ('174', 356),\n",
      " ('152', 325),\n",
      " ('168', 310),\n",
      " ('178', 288),\n",
      " ('180', 271),\n",
      " ('338', 131),\n",
      " ('169', 85),\n",
      " ('354', 50),\n",
      " ('285', 25),\n",
      " ('299', 16),\n",
      " ('309', 15),\n",
      " ('316', 15),\n",
      " ('289', 13),\n",
      " ('364', 12),\n",
      " ('292', 11),\n",
      " ('351', 9),\n",
      " ('333', 9),\n",
      " ('272', 8),\n",
      " ('319', 6),\n",
      " ('307', 6),\n",
      " ('367', 6),\n",
      " ('300', 6),\n",
      " ('278', 6),\n",
      " ('335', 6),\n",
      " ('352', 5),\n",
      " ('337', 5),\n",
      " ('268', 5),\n",
      " ('328', 4),\n",
      " ('348', 4),\n",
      " ('298', 4),\n",
      " ('366', 4),\n",
      " ('353', 3),\n",
      " ('365', 3),\n",
      " ('375', 3),\n",
      " ('340', 3),\n",
      " ('275', 3),\n",
      " ('342', 3),\n",
      " ('357', 3),\n",
      " ('306', 2),\n",
      " ('355', 2),\n",
      " ('330', 2),\n",
      " ('266', 2),\n",
      " ('350', 2),\n",
      " ('344', 2),\n",
      " ('370', 1),\n",
      " ('303', 1),\n",
      " ('334', 1),\n",
      " ('273', 1)]\n"
     ]
    },
    {
     "name": "stderr",
     "output_type": "stream",
     "text": [
      "\n"
     ]
    }
   ],
   "source": [
    "counter = defaultdict(lambda: 0)\n",
    "for i in tqdm(range(df_trainset.shape[0])):\n",
    "    user_click_history = df_trainset.at[i, 'user_click_history']\n",
    "    if user_click_history == '':\n",
    "        continue\n",
    "    for c in user_click_history.split(','):\n",
    "        itemid = c.split(':')[0]\n",
    "        counter[itemid] += 1\n",
    "counter = dict(counter)\n",
    "counter_sorted = sorted(counter.items(), key=lambda x: x[1], reverse=True)\n",
    "pprint(counter_sorted)"
   ]
  },
  {
   "cell_type": "code",
   "execution_count": 10,
   "id": "ad50026d",
   "metadata": {
    "execution": {
     "iopub.execute_input": "2021-07-14T09:29:17.726462Z",
     "iopub.status.busy": "2021-07-14T09:29:17.725725Z",
     "iopub.status.idle": "2021-07-14T09:29:22.299061Z",
     "shell.execute_reply": "2021-07-14T09:29:22.298368Z",
     "shell.execute_reply.started": "2021-07-13T07:59:45.978446Z"
    },
    "papermill": {
     "duration": 4.893658,
     "end_time": "2021-07-14T09:29:22.299221",
     "exception": false,
     "start_time": "2021-07-14T09:29:17.405563",
     "status": "completed"
    },
    "tags": []
   },
   "outputs": [
    {
     "data": {
      "image/png": "[encoded data removed]",
      "text/plain": [
       "<Figure size 1080x360 with 1 Axes>"
      ]
     },
     "metadata": {
      "needs_background": "light"
     },
     "output_type": "display_data"
    },
    {
     "data": {
      "image/png": "[encoded data removed]",
      "text/plain": [
       "<Figure size 1080x360 with 1 Axes>"
      ]
     },
     "metadata": {
      "needs_background": "light"
     },
     "output_type": "display_data"
    },
    {
     "data": {
      "image/png": "[encoded data removed]",
      "text/plain": [
       "<Figure size 1080x360 with 1 Axes>"
      ]
     },
     "metadata": {
      "needs_background": "light"
     },
     "output_type": "display_data"
    }
   ],
   "source": [
    "nums_to_plot = counter_sorted\n",
    "itemids = [n[0] for n in nums_to_plot]\n",
    "click_cnt = [n[1] for n in nums_to_plot]\n",
    "plt.figure(figsize=(15, 5))\n",
    "plt.bar(itemids, click_cnt, width=0.2)\n",
    "plt.title('How many times is item clicked? (All)')\n",
    "plt.xlabel('itemid')\n",
    "plt.ylabel('item clicked times')\n",
    "# plt.tight_layout()\n",
    "plt.show()\n",
    "\n",
    "\n",
    "nums_to_plot = counter_sorted[:40]\n",
    "itemids = [n[0] for n in nums_to_plot]\n",
    "click_cnt = [n[1] for n in nums_to_plot]\n",
    "plt.figure(figsize=(15, 5))\n",
    "plt.bar(itemids, click_cnt, width=0.2)\n",
    "plt.title('How many times is item clicked? (Top)')\n",
    "plt.xlabel('itemid')\n",
    "plt.ylabel('item clicked times')\n",
    "# plt.tight_layout()\n",
    "plt.show()\n",
    "\n",
    "\n",
    "nums_to_plot = counter_sorted[-40:]\n",
    "itemids = [n[0] for n in nums_to_plot]\n",
    "click_cnt = [n[1] for n in nums_to_plot]\n",
    "plt.figure(figsize=(15, 5))\n",
    "plt.bar(itemids, click_cnt, width=0.2)\n",
    "plt.title('How many times is item clicked? (Bottom)')\n",
    "plt.xlabel('itemid')\n",
    "plt.ylabel('item clicked times')\n",
    "# plt.tight_layout()\n",
    "plt.show()"
   ]
  },
  {
   "cell_type": "markdown",
   "id": "264d9b60",
   "metadata": {
    "papermill": {
     "duration": 0.356391,
     "end_time": "2021-07-14T09:29:23.008298",
     "exception": false,
     "start_time": "2021-07-14T09:29:22.651907",
     "status": "completed"
    },
    "tags": []
   },
   "source": [
    "click by session"
   ]
  },
  {
   "cell_type": "code",
   "execution_count": 11,
   "id": "f38e793c",
   "metadata": {
    "execution": {
     "iopub.execute_input": "2021-07-14T09:29:23.666122Z",
     "iopub.status.busy": "2021-07-14T09:29:23.665339Z",
     "iopub.status.idle": "2021-07-14T09:29:38.329057Z",
     "shell.execute_reply": "2021-07-14T09:29:38.328481Z",
     "shell.execute_reply.started": "2021-07-13T07:59:49.597689Z"
    },
    "papermill": {
     "duration": 14.996215,
     "end_time": "2021-07-14T09:29:38.329199",
     "exception": false,
     "start_time": "2021-07-14T09:29:23.332984",
     "status": "completed"
    },
    "tags": []
   },
   "outputs": [
    {
     "name": "stderr",
     "output_type": "stream",
     "text": [
      "100%|██████████| 260087/260087 [00:14<00:00, 17745.98it/s]"
     ]
    },
    {
     "name": "stdout",
     "output_type": "stream",
     "text": [
      "[(1, 4606977), (2, 3608173), (3, 2220648)]\n"
     ]
    },
    {
     "name": "stderr",
     "output_type": "stream",
     "text": [
      "\n"
     ]
    }
   ],
   "source": [
    "# count sum\n",
    "counter = defaultdict(lambda: 0)\n",
    "for i in tqdm(range(df_trainset.shape[0])):\n",
    "    user_click_history = df_trainset.at[i, 'user_click_history']\n",
    "    if user_click_history == '':\n",
    "        continue\n",
    "    for c in user_click_history.split(','):\n",
    "        itemid = int(c.split(':')[0])\n",
    "        if 1 <= itemid <= 39:\n",
    "            counter[1] += 1\n",
    "        elif 40 <= itemid <= 147:\n",
    "            counter[2] += 1\n",
    "        elif 148 <= itemid <= 381:\n",
    "            counter[3] += 1\n",
    "        else:\n",
    "            print('error!')\n",
    "            print(itemid, c)\n",
    "            break\n",
    "counter = dict(counter)\n",
    "counter_sorted = sorted(counter.items(), key=lambda x: x[1], reverse=True)\n",
    "pprint(counter_sorted)"
   ]
  },
  {
   "cell_type": "code",
   "execution_count": 12,
   "id": "09c4680a",
   "metadata": {
    "execution": {
     "iopub.execute_input": "2021-07-14T09:29:39.037389Z",
     "iopub.status.busy": "2021-07-14T09:29:39.036703Z",
     "iopub.status.idle": "2021-07-14T09:29:48.681189Z",
     "shell.execute_reply": "2021-07-14T09:29:48.681675Z",
     "shell.execute_reply.started": "2021-07-13T08:00:02.548120Z"
    },
    "papermill": {
     "duration": 10.00539,
     "end_time": "2021-07-14T09:29:48.681857",
     "exception": false,
     "start_time": "2021-07-14T09:29:38.676467",
     "status": "completed"
    },
    "tags": []
   },
   "outputs": [
    {
     "name": "stderr",
     "output_type": "stream",
     "text": [
      "100%|██████████| 260087/260087 [00:09<00:00, 26990.31it/s]\n"
     ]
    }
   ],
   "source": [
    "counter = defaultdict(lambda: 0)\n",
    "for i in tqdm(range(df_trainset.shape[0])):\n",
    "    user_click_history = df_trainset.at[i, 'user_click_history']\n",
    "    if user_click_history == '':\n",
    "        continue\n",
    "    for c in user_click_history.split(','):\n",
    "        itemid = c.split(':')[0]\n",
    "        counter[itemid] += 1\n",
    "counter = dict(counter)\n",
    "counter_sorted = sorted(counter.items(), key=lambda x: x[1], reverse=True)"
   ]
  },
  {
   "cell_type": "code",
   "execution_count": 13,
   "id": "ebc8868b",
   "metadata": {
    "execution": {
     "iopub.execute_input": "2021-07-14T09:29:49.489503Z",
     "iopub.status.busy": "2021-07-14T09:29:49.481727Z",
     "iopub.status.idle": "2021-07-14T09:29:50.777397Z",
     "shell.execute_reply": "2021-07-14T09:29:50.776602Z",
     "shell.execute_reply.started": "2021-07-13T08:00:11.149695Z"
    },
    "papermill": {
     "duration": 1.715326,
     "end_time": "2021-07-14T09:29:50.777569",
     "exception": false,
     "start_time": "2021-07-14T09:29:49.062243",
     "status": "completed"
    },
    "tags": []
   },
   "outputs": [
    {
     "data": {
      "image/png": "[encoded data removed]",
      "text/plain": [
       "<Figure size 1080x360 with 1 Axes>"
      ]
     },
     "metadata": {
      "needs_background": "light"
     },
     "output_type": "display_data"
    },
    {
     "data": {
      "image/png": "[encoded data removed]",
      "text/plain": [
       "<Figure size 1080x360 with 1 Axes>"
      ]
     },
     "metadata": {
      "needs_background": "light"
     },
     "output_type": "display_data"
    },
    {
     "data": {
      "image/png": "[encoded data removed]",
      "text/plain": [
       "<Figure size 1080x360 with 1 Axes>"
      ]
     },
     "metadata": {
      "needs_background": "light"
     },
     "output_type": "display_data"
    }
   ],
   "source": [
    "counter_sorted_session1 = [s for s in counter_sorted if 1 <= int(s[0]) <= 39]\n",
    "counter_sorted_session2 = [s for s in counter_sorted if 40 <= int(s[0]) <= 147]\n",
    "counter_sorted_session3 = [s for s in counter_sorted if 148 <= int(s[0]) <= 381]\n",
    "\n",
    "nums_to_plot = counter_sorted_session1\n",
    "itemids = [n[0] for n in nums_to_plot]\n",
    "click_cnt = [n[1] for n in nums_to_plot]\n",
    "plt.figure(figsize=(15, 5))\n",
    "plt.bar(itemids, click_cnt, width=0.2)\n",
    "plt.title('How many times is item clicked? (Session 1)')\n",
    "plt.xlabel('itemid')\n",
    "plt.ylabel('item clicked times')\n",
    "# plt.tight_layout()\n",
    "plt.show()\n",
    "\n",
    "nums_to_plot = counter_sorted_session2[:40]\n",
    "itemids = [n[0] for n in nums_to_plot]\n",
    "click_cnt = [n[1] for n in nums_to_plot]\n",
    "plt.figure(figsize=(15, 5))\n",
    "plt.bar(itemids, click_cnt, width=0.2)\n",
    "plt.title('How many times is item clicked? (Session 2)')\n",
    "plt.xlabel('itemid')\n",
    "plt.ylabel('item clicked times')\n",
    "# plt.tight_layout()\n",
    "plt.show()\n",
    "\n",
    "nums_to_plot = counter_sorted_session3[:40]\n",
    "itemids = [n[0] for n in nums_to_plot]\n",
    "click_cnt = [n[1] for n in nums_to_plot]\n",
    "plt.figure(figsize=(15, 5))\n",
    "plt.bar(itemids, click_cnt, width=0.2)\n",
    "plt.title('How many times is item clicked? (Session 3)')\n",
    "plt.xlabel('itemid')\n",
    "plt.ylabel('item clicked times')\n",
    "# plt.tight_layout()\n",
    "plt.show()"
   ]
  },
  {
   "cell_type": "code",
   "execution_count": null,
   "id": "b32958c8",
   "metadata": {
    "papermill": {
     "duration": 0.391375,
     "end_time": "2021-07-14T09:29:51.565358",
     "exception": false,
     "start_time": "2021-07-14T09:29:51.173983",
     "status": "completed"
    },
    "tags": []
   },
   "outputs": [],
   "source": []
  },
  {
   "cell_type": "code",
   "execution_count": null,
   "id": "509bcf0e",
   "metadata": {
    "papermill": {
     "duration": 0.375188,
     "end_time": "2021-07-14T09:29:52.365072",
     "exception": false,
     "start_time": "2021-07-14T09:29:51.989884",
     "status": "completed"
    },
    "tags": []
   },
   "outputs": [],
   "source": []
  },
  {
   "cell_type": "code",
   "execution_count": null,
   "id": "e5c3d38d",
   "metadata": {
    "papermill": {
     "duration": 0.376247,
     "end_time": "2021-07-14T09:29:53.120817",
     "exception": false,
     "start_time": "2021-07-14T09:29:52.744570",
     "status": "completed"
    },
    "tags": []
   },
   "outputs": [],
   "source": []
  },
  {
   "cell_type": "code",
   "execution_count": null,
   "id": "31eef47c",
   "metadata": {
    "papermill": {
     "duration": 0.381436,
     "end_time": "2021-07-14T09:29:53.880718",
     "exception": false,
     "start_time": "2021-07-14T09:29:53.499282",
     "status": "completed"
    },
    "tags": []
   },
   "outputs": [],
   "source": []
  },
  {
   "cell_type": "code",
   "execution_count": null,
   "id": "909257b0",
   "metadata": {
    "papermill": {
     "duration": 0.387721,
     "end_time": "2021-07-14T09:29:54.659281",
     "exception": false,
     "start_time": "2021-07-14T09:29:54.271560",
     "status": "completed"
    },
    "tags": []
   },
   "outputs": [],
   "source": []
  },
  {
   "cell_type": "markdown",
   "id": "a603b711",
   "metadata": {
    "execution": {
     "iopub.execute_input": "2021-07-13T03:33:17.494343Z",
     "iopub.status.busy": "2021-07-13T03:33:17.493992Z",
     "iopub.status.idle": "2021-07-13T03:33:17.498489Z",
     "shell.execute_reply": "2021-07-13T03:33:17.497203Z",
     "shell.execute_reply.started": "2021-07-13T03:33:17.494312Z"
    },
    "papermill": {
     "duration": 0.378884,
     "end_time": "2021-07-14T09:29:55.417885",
     "exception": false,
     "start_time": "2021-07-14T09:29:55.039001",
     "status": "completed"
    },
    "tags": []
   },
   "source": [
    "## exposed_items and bought analysis"
   ]
  },
  {
   "cell_type": "markdown",
   "id": "fdf1f6dc",
   "metadata": {
    "papermill": {
     "duration": 0.412985,
     "end_time": "2021-07-14T09:29:56.249593",
     "exception": false,
     "start_time": "2021-07-14T09:29:55.836608",
     "status": "completed"
    },
    "tags": []
   },
   "source": [
    "expose by session"
   ]
  },
  {
   "cell_type": "code",
   "execution_count": 14,
   "id": "f270c42f",
   "metadata": {
    "execution": {
     "iopub.execute_input": "2021-07-14T09:29:57.037730Z",
     "iopub.status.busy": "2021-07-14T09:29:57.037003Z",
     "iopub.status.idle": "2021-07-14T09:30:04.910944Z",
     "shell.execute_reply": "2021-07-14T09:30:04.910350Z",
     "shell.execute_reply.started": "2021-07-13T08:00:12.168360Z"
    },
    "papermill": {
     "duration": 8.267151,
     "end_time": "2021-07-14T09:30:04.911111",
     "exception": false,
     "start_time": "2021-07-14T09:29:56.643960",
     "status": "completed"
    },
    "scrolled": true,
    "tags": []
   },
   "outputs": [
    {
     "name": "stderr",
     "output_type": "stream",
     "text": [
      "100%|██████████| 260087/260087 [00:06<00:00, 41672.33it/s]\n"
     ]
    },
    {
     "name": "stdout",
     "output_type": "stream",
     "text": [
      "[('28', 51524),\n",
      " ('1', 45880),\n",
      " ('14', 43859),\n",
      " ('164', 43295),\n",
      " ('29', 37876),\n",
      " ('200', 36666),\n",
      " ('32', 33349),\n",
      " ('5', 32064),\n",
      " ('196', 31995),\n",
      " ('2', 27270),\n",
      " ('172', 26563),\n",
      " ('15', 24815),\n",
      " ('33', 24179),\n",
      " ('86', 21223),\n",
      " ('30', 20954),\n",
      " ('127', 20192),\n",
      " ('25', 20071),\n",
      " ('4', 19901),\n",
      " ('3', 19796),\n",
      " ('31', 19719),\n",
      " ('199', 19683),\n",
      " ('21', 19262),\n",
      " ('34', 19168),\n",
      " ('7', 19167),\n",
      " ('10', 18696),\n",
      " ('126', 18494),\n",
      " ('73', 18262),\n",
      " ('39', 17998),\n",
      " ('51', 17971),\n",
      " ('6', 17951),\n",
      " ('35', 17781),\n",
      " ('18', 17461),\n",
      " ('77', 17365),\n",
      " ('235', 16299),\n",
      " ('81', 16234),\n",
      " ('125', 16160),\n",
      " ('26', 16147),\n",
      " ('101', 15683),\n",
      " ('234', 15559),\n",
      " ('19', 15429),\n",
      " ('72', 15139),\n",
      " ('38', 14934),\n",
      " ('130', 14802),\n",
      " ('16', 14383),\n",
      " ('20', 14292),\n",
      " ('9', 14275),\n",
      " ('24', 14272),\n",
      " ('17', 13993),\n",
      " ('8', 13808),\n",
      " ('129', 11724),\n",
      " ('233', 11649),\n",
      " ('27', 11594),\n",
      " ('11', 11443),\n",
      " ('100', 11336),\n",
      " ('132', 11212),\n",
      " ('36', 11095),\n",
      " ('56', 10874),\n",
      " ('13', 10778),\n",
      " ('213', 10740),\n",
      " ('99', 10630),\n",
      " ('37', 10467),\n",
      " ('84', 10184),\n",
      " ('80', 10172),\n",
      " ('107', 9900),\n",
      " ('131', 9831),\n",
      " ('239', 9531),\n",
      " ('61', 9530),\n",
      " ('237', 9509),\n",
      " ('12', 9463),\n",
      " ('240', 9444),\n",
      " ('74', 9376),\n",
      " ('105', 8689),\n",
      " ('238', 8478),\n",
      " ('106', 8445),\n",
      " ('76', 8419),\n",
      " ('212', 8216),\n",
      " ('113', 7977),\n",
      " ('23', 7949),\n",
      " ('184', 7946),\n",
      " ('104', 7797),\n",
      " ('133', 7579),\n",
      " ('78', 7492),\n",
      " ('137', 7345),\n",
      " ('22', 7198),\n",
      " ('128', 7120),\n",
      " ('159', 7116),\n",
      " ('102', 6870),\n",
      " ('221', 6757),\n",
      " ('148', 6753),\n",
      " ('160', 6471),\n",
      " ('136', 6465),\n",
      " ('79', 6424),\n",
      " ('43', 6377),\n",
      " ('75', 6240),\n",
      " ('211', 6238),\n",
      " ('114', 5961),\n",
      " ('85', 5941),\n",
      " ('149', 5704),\n",
      " ('52', 5659),\n",
      " ('83', 5614),\n",
      " ('183', 5513),\n",
      " ('111', 5513),\n",
      " ('53', 5509),\n",
      " ('58', 5342),\n",
      " ('112', 5218),\n",
      " ('55', 5128),\n",
      " ('87', 5007),\n",
      " ('103', 5000),\n",
      " ('134', 4989),\n",
      " ('135', 4981),\n",
      " ('88', 4975),\n",
      " ('54', 4928),\n",
      " ('170', 4865),\n",
      " ('110', 4823),\n",
      " ('108', 4803),\n",
      " ('171', 4710),\n",
      " ('82', 4680),\n",
      " ('218', 4595),\n",
      " ('220', 4513),\n",
      " ('188', 4483),\n",
      " ('41', 4476),\n",
      " ('217', 4310),\n",
      " ('109', 4145),\n",
      " ('46', 4092),\n",
      " ('219', 4062),\n",
      " ('40', 3991),\n",
      " ('216', 3845),\n",
      " ('154', 3834),\n",
      " ('150', 3713),\n",
      " ('166', 3711),\n",
      " ('192', 3665),\n",
      " ('151', 3571),\n",
      " ('193', 3350),\n",
      " ('161', 3344),\n",
      " ('236', 3195),\n",
      " ('165', 3149),\n",
      " ('187', 3057),\n",
      " ('45', 2849),\n",
      " ('44', 2809),\n",
      " ('153', 2781),\n",
      " ('155', 2747),\n",
      " ('214', 2731),\n",
      " ('167', 2555),\n",
      " ('194', 2513),\n",
      " ('190', 2455),\n",
      " ('191', 2402),\n",
      " ('57', 2370),\n",
      " ('189', 2311),\n",
      " ('50', 2158),\n",
      " ('59', 2137),\n",
      " ('222', 2052),\n",
      " ('185', 2047),\n",
      " ('195', 1898),\n",
      " ('215', 1843),\n",
      " ('162', 1824),\n",
      " ('47', 1804),\n",
      " ('158', 1749),\n",
      " ('168', 1748),\n",
      " ('156', 1691),\n",
      " ('42', 1683),\n",
      " ('163', 1480),\n",
      " ('48', 1334),\n",
      " ('49', 1332),\n",
      " ('186', 1292),\n",
      " ('60', 1289),\n",
      " ('169', 1286),\n",
      " ('142', 1138),\n",
      " ('93', 1076),\n",
      " ('157', 1035),\n",
      " ('152', 1017),\n",
      " ('197', 914),\n",
      " ('198', 856),\n",
      " ('173', 718),\n",
      " ('89', 676),\n",
      " ('115', 675),\n",
      " ('205', 662),\n",
      " ('138', 660),\n",
      " ('140', 607),\n",
      " ('91', 587),\n",
      " ('141', 562),\n",
      " ('245', 560),\n",
      " ('139', 539),\n",
      " ('90', 536),\n",
      " ('124', 528),\n",
      " ('119', 515),\n",
      " ('95', 508),\n",
      " ('145', 506),\n",
      " ('118', 497),\n",
      " ('117', 473),\n",
      " ('116', 467),\n",
      " ('120', 466),\n",
      " ('241', 460),\n",
      " ('92', 454),\n",
      " ('96', 449),\n",
      " ('121', 446),\n",
      " ('66', 435),\n",
      " ('94', 429),\n",
      " ('97', 426),\n",
      " ('206', 422),\n",
      " ('62', 418),\n",
      " ('144', 414),\n",
      " ('64', 407),\n",
      " ('202', 397),\n",
      " ('204', 397),\n",
      " ('143', 391),\n",
      " ('201', 390),\n",
      " ('210', 390),\n",
      " ('63', 365),\n",
      " ('179', 352),\n",
      " ('181', 349),\n",
      " ('177', 347),\n",
      " ('98', 338),\n",
      " ('147', 333),\n",
      " ('227', 330),\n",
      " ('178', 323),\n",
      " ('176', 321),\n",
      " ('65', 312),\n",
      " ('182', 308),\n",
      " ('208', 304),\n",
      " ('209', 303),\n",
      " ('250', 302),\n",
      " ('223', 301),\n",
      " ('122', 297),\n",
      " ('203', 290),\n",
      " ('175', 289),\n",
      " ('146', 283),\n",
      " ('244', 275),\n",
      " ('180', 270),\n",
      " ('69', 266),\n",
      " ('123', 253),\n",
      " ('248', 248),\n",
      " ('68', 247),\n",
      " ('174', 246),\n",
      " ('71', 244),\n",
      " ('246', 230),\n",
      " ('224', 228),\n",
      " ('225', 226),\n",
      " ('243', 209),\n",
      " ('67', 206),\n",
      " ('230', 206),\n",
      " ('231', 203),\n",
      " ('232', 197),\n",
      " ('249', 196),\n",
      " ('247', 196),\n",
      " ('207', 191),\n",
      " ('226', 187),\n",
      " ('70', 173),\n",
      " ('242', 156),\n",
      " ('229', 143),\n",
      " ('338', 136),\n",
      " ('309', 135),\n",
      " ('228', 120),\n",
      " ('289', 61),\n",
      " ('335', 51),\n",
      " ('285', 45),\n",
      " ('266', 42),\n",
      " ('354', 34),\n",
      " ('268', 24),\n",
      " ('364', 17),\n",
      " ('342', 17),\n",
      " ('351', 17),\n",
      " ('277', 15),\n",
      " ('344', 14),\n",
      " ('333', 14),\n",
      " ('319', 13),\n",
      " ('316', 12),\n",
      " ('278', 11),\n",
      " ('352', 11),\n",
      " ('299', 11),\n",
      " ('362', 11),\n",
      " ('366', 10),\n",
      " ('355', 10),\n",
      " ('292', 9),\n",
      " ('340', 9),\n",
      " ('326', 8),\n",
      " ('367', 8),\n",
      " ('256', 8),\n",
      " ('320', 8),\n",
      " ('258', 7),\n",
      " ('337', 7),\n",
      " ('273', 7),\n",
      " ('372', 7),\n",
      " ('350', 7),\n",
      " ('303', 6),\n",
      " ('317', 6),\n",
      " ('265', 6),\n",
      " ('269', 6),\n",
      " ('343', 6),\n",
      " ('357', 6),\n",
      " ('349', 5),\n",
      " ('330', 5),\n",
      " ('370', 5),\n",
      " ('358', 5),\n",
      " ('322', 4),\n",
      " ('288', 4),\n",
      " ('334', 4),\n",
      " ('348', 4),\n",
      " ('305', 4),\n",
      " ('272', 4),\n",
      " ('259', 4),\n",
      " ('369', 4),\n",
      " ('346', 4),\n",
      " ('328', 4),\n",
      " ('290', 4),\n",
      " ('375', 4),\n",
      " ('327', 4),\n",
      " ('332', 4),\n",
      " ('373', 4),\n",
      " ('267', 3),\n",
      " ('264', 3),\n",
      " ('293', 3),\n",
      " ('279', 3),\n",
      " ('286', 3),\n",
      " ('302', 3),\n",
      " ('275', 3),\n",
      " ('281', 3),\n",
      " ('345', 3),\n",
      " ('371', 3),\n",
      " ('365', 3),\n",
      " ('360', 3),\n",
      " ('270', 3),\n",
      " ('255', 3),\n",
      " ('324', 3),\n",
      " ('361', 3),\n",
      " ('291', 3),\n",
      " ('306', 2),\n",
      " ('300', 2),\n",
      " ('274', 2),\n",
      " ('298', 2),\n",
      " ('379', 2),\n",
      " ('253', 2),\n",
      " ('359', 2),\n",
      " ('260', 2),\n",
      " ('336', 2),\n",
      " ('282', 2),\n",
      " ('339', 2),\n",
      " ('254', 2),\n",
      " ('347', 2),\n",
      " ('262', 2),\n",
      " ('381', 2),\n",
      " ('321', 1),\n",
      " ('307', 1),\n",
      " ('318', 1),\n",
      " ('376', 1),\n",
      " ('252', 1),\n",
      " ('301', 1),\n",
      " ('263', 1),\n",
      " ('374', 1),\n",
      " ('341', 1),\n",
      " ('261', 1),\n",
      " ('283', 1),\n",
      " ('276', 1),\n",
      " ('325', 1),\n",
      " ('353', 1),\n",
      " ('380', 1),\n",
      " ('296', 1),\n",
      " ('368', 1),\n",
      " ('378', 1),\n",
      " ('331', 1),\n",
      " ('271', 1),\n",
      " ('297', 1),\n",
      " ('257', 1)]\n"
     ]
    },
    {
     "data": {
      "image/png": "[encoded data removed]",
      "text/plain": [
       "<Figure size 1080x360 with 1 Axes>"
      ]
     },
     "metadata": {
      "needs_background": "light"
     },
     "output_type": "display_data"
    },
    {
     "data": {
      "image/png": "[encoded data removed]",
      "text/plain": [
       "<Figure size 1080x360 with 1 Axes>"
      ]
     },
     "metadata": {
      "needs_background": "light"
     },
     "output_type": "display_data"
    },
    {
     "data": {
      "image/png": "[encoded data removed]",
      "text/plain": [
       "<Figure size 1080x360 with 1 Axes>"
      ]
     },
     "metadata": {
      "needs_background": "light"
     },
     "output_type": "display_data"
    }
   ],
   "source": [
    "## expose should only be counted when users are in that session\n",
    "# s1: 0~2, s2: 3~5, s3: 6~9\n",
    "\n",
    "counter = defaultdict(lambda: 0)\n",
    "for i in tqdm(range(df_trainset.shape[0])):\n",
    "    user_exposed_history = df_trainset.at[i, 'exposed_items']\n",
    "    num_bought = sum([int(l) for l in df_trainset.at[i, 'labels'].split(',')])\n",
    "    for idx, itemid in enumerate(user_exposed_history.split(',')):\n",
    "        if 0 <= idx <= 2:\n",
    "            counter[itemid] += 1\n",
    "        elif 3 <= idx <= 5 and num_bought >= 3: \n",
    "            counter[itemid] += 1\n",
    "        elif 6 <= idx <= 8 and num_bought >= 6:\n",
    "            counter[itemid] += 1\n",
    "counter = dict(counter)\n",
    "counter_sorted = sorted(counter.items(), key=lambda x: x[1], reverse=True)\n",
    "pprint(counter_sorted)\n",
    "\n",
    "counter_sorted_session1 = [s for s in counter_sorted if 1 <= int(s[0]) <= 39]\n",
    "counter_sorted_session2 = [s for s in counter_sorted if 40 <= int(s[0]) <= 147]\n",
    "counter_sorted_session3 = [s for s in counter_sorted if 148 <= int(s[0]) <= 381]\n",
    "\n",
    "nums_to_plot = counter_sorted_session1\n",
    "itemids = [n[0] for n in nums_to_plot]\n",
    "click_cnt = [n[1] for n in nums_to_plot]\n",
    "plt.figure(figsize=(15, 5))\n",
    "plt.bar(itemids, click_cnt, width=0.2)\n",
    "plt.title('How many times is item exposed? (Session 1)')\n",
    "plt.xlabel('itemid')\n",
    "plt.ylabel('item exposed times')\n",
    "# plt.tight_layout()\n",
    "plt.show()\n",
    "\n",
    "nums_to_plot = counter_sorted_session2[:40]\n",
    "itemids = [n[0] for n in nums_to_plot]\n",
    "click_cnt = [n[1] for n in nums_to_plot]\n",
    "plt.figure(figsize=(15, 5))\n",
    "plt.bar(itemids, click_cnt, width=0.2)\n",
    "plt.title('How many times is item exposed? (Session 2)')\n",
    "plt.xlabel('itemid')\n",
    "plt.ylabel('item exposed times')\n",
    "# plt.tight_layout()\n",
    "plt.show()\n",
    "\n",
    "nums_to_plot = counter_sorted_session3[:40]\n",
    "itemids = [n[0] for n in nums_to_plot]\n",
    "click_cnt = [n[1] for n in nums_to_plot]\n",
    "plt.figure(figsize=(15, 5))\n",
    "plt.bar(itemids, click_cnt, width=0.2)\n",
    "plt.title('How many times is item exposed? (Session 3)')\n",
    "plt.xlabel('itemid')\n",
    "plt.ylabel('item exposed times')\n",
    "# plt.tight_layout()\n",
    "plt.show()"
   ]
  },
  {
   "cell_type": "markdown",
   "id": "ea3aaf87",
   "metadata": {
    "papermill": {
     "duration": 0.413675,
     "end_time": "2021-07-14T09:30:05.732612",
     "exception": false,
     "start_time": "2021-07-14T09:30:05.318937",
     "status": "completed"
    },
    "tags": []
   },
   "source": [
    "bought by session"
   ]
  },
  {
   "cell_type": "code",
   "execution_count": 15,
   "id": "69404d79",
   "metadata": {
    "execution": {
     "iopub.execute_input": "2021-07-14T09:30:06.579697Z",
     "iopub.status.busy": "2021-07-14T09:30:06.570295Z",
     "iopub.status.idle": "2021-07-14T09:30:12.969031Z",
     "shell.execute_reply": "2021-07-14T09:30:12.968451Z",
     "shell.execute_reply.started": "2021-07-13T08:01:00.175269Z"
    },
    "papermill": {
     "duration": 6.823248,
     "end_time": "2021-07-14T09:30:12.969182",
     "exception": false,
     "start_time": "2021-07-14T09:30:06.145934",
     "status": "completed"
    },
    "tags": []
   },
   "outputs": [
    {
     "name": "stderr",
     "output_type": "stream",
     "text": [
      "100%|██████████| 260087/260087 [00:04<00:00, 52238.74it/s]\n"
     ]
    },
    {
     "data": {
      "image/png": "[encoded data removed]",
      "text/plain": [
       "<Figure size 1080x360 with 1 Axes>"
      ]
     },
     "metadata": {
      "needs_background": "light"
     },
     "output_type": "display_data"
    },
    {
     "data": {
      "image/png": "[encoded data removed]",
      "text/plain": [
       "<Figure size 1080x360 with 1 Axes>"
      ]
     },
     "metadata": {
      "needs_background": "light"
     },
     "output_type": "display_data"
    },
    {
     "data": {
      "image/png": "[encoded data removed]",
      "text/plain": [
       "<Figure size 1080x360 with 1 Axes>"
      ]
     },
     "metadata": {
      "needs_background": "light"
     },
     "output_type": "display_data"
    }
   ],
   "source": [
    "counter = defaultdict(lambda: 0)\n",
    "for i in tqdm(range(df_trainset.shape[0])):\n",
    "    user_exposed_history = df_trainset.at[i, 'exposed_items'].split(',')\n",
    "    labels = df_trainset.at[i, 'labels'].split(',')\n",
    "    for idx, itemid in enumerate(user_exposed_history):\n",
    "        if labels[idx] == '1':\n",
    "            counter[itemid] += 1\n",
    "counter = dict(counter)\n",
    "counter_sorted = sorted(counter.items(), key=lambda x: x[1], reverse=True)\n",
    "# pprint(counter_sorted)\n",
    "\n",
    "counter_sorted_session1 = [s for s in counter_sorted if 1 <= int(s[0]) <= 39]\n",
    "counter_sorted_session2 = [s for s in counter_sorted if 40 <= int(s[0]) <= 147]\n",
    "counter_sorted_session3 = [s for s in counter_sorted if 148 <= int(s[0]) <= 381]\n",
    "\n",
    "nums_to_plot = counter_sorted_session1\n",
    "itemids = [n[0] for n in nums_to_plot]\n",
    "click_cnt = [n[1] for n in nums_to_plot]\n",
    "plt.figure(figsize=(15, 5))\n",
    "plt.bar(itemids, click_cnt, width=0.2)\n",
    "plt.title('How many times is item bought? (Session 1)')\n",
    "plt.xlabel('itemid')\n",
    "plt.ylabel('item bought times')\n",
    "# plt.tight_layout()\n",
    "plt.show()\n",
    "\n",
    "nums_to_plot = counter_sorted_session2[:40]\n",
    "itemids = [n[0] for n in nums_to_plot]\n",
    "click_cnt = [n[1] for n in nums_to_plot]\n",
    "plt.figure(figsize=(15, 5))\n",
    "plt.bar(itemids, click_cnt, width=0.2)\n",
    "plt.title('How many times is item bought? (Session 2)')\n",
    "plt.xlabel('itemid')\n",
    "plt.ylabel('item bought times')\n",
    "# plt.tight_layout()\n",
    "plt.show()\n",
    "\n",
    "nums_to_plot = counter_sorted_session3[:40]\n",
    "itemids = [n[0] for n in nums_to_plot]\n",
    "click_cnt = [n[1] for n in nums_to_plot]\n",
    "plt.figure(figsize=(15, 5))\n",
    "plt.bar(itemids, click_cnt, width=0.2)\n",
    "plt.title('How many times is item bought? (Session 3)')\n",
    "plt.xlabel('itemid')\n",
    "plt.ylabel('item bought times')\n",
    "# plt.tight_layout()\n",
    "plt.show()"
   ]
  },
  {
   "cell_type": "markdown",
   "id": "2dcb7fa7",
   "metadata": {
    "execution": {
     "iopub.execute_input": "2021-07-13T03:54:02.442032Z",
     "iopub.status.busy": "2021-07-13T03:54:02.441602Z",
     "iopub.status.idle": "2021-07-13T03:54:02.448336Z",
     "shell.execute_reply": "2021-07-13T03:54:02.446801Z",
     "shell.execute_reply.started": "2021-07-13T03:54:02.441987Z"
    },
    "papermill": {
     "duration": 0.442186,
     "end_time": "2021-07-14T09:30:13.840439",
     "exception": false,
     "start_time": "2021-07-14T09:30:13.398253",
     "status": "completed"
    },
    "tags": []
   },
   "source": [
    "expose vs bought"
   ]
  },
  {
   "cell_type": "code",
   "execution_count": 16,
   "id": "4e61a711",
   "metadata": {
    "execution": {
     "iopub.execute_input": "2021-07-14T09:30:14.717247Z",
     "iopub.status.busy": "2021-07-14T09:30:14.716129Z",
     "iopub.status.idle": "2021-07-14T09:30:26.283325Z",
     "shell.execute_reply": "2021-07-14T09:30:26.282773Z",
     "shell.execute_reply.started": "2021-07-13T08:05:39.898605Z"
    },
    "papermill": {
     "duration": 12.016134,
     "end_time": "2021-07-14T09:30:26.283473",
     "exception": false,
     "start_time": "2021-07-14T09:30:14.267339",
     "status": "completed"
    },
    "tags": []
   },
   "outputs": [
    {
     "name": "stderr",
     "output_type": "stream",
     "text": [
      "100%|██████████| 260087/260087 [00:08<00:00, 29641.30it/s]\n"
     ]
    },
    {
     "data": {
      "image/png": "[encoded data removed]",
      "text/plain": [
       "<Figure size 1080x360 with 2 Axes>"
      ]
     },
     "metadata": {
      "needs_background": "light"
     },
     "output_type": "display_data"
    },
    {
     "data": {
      "image/png": "[encoded data removed]",
      "text/plain": [
       "<Figure size 1080x360 with 2 Axes>"
      ]
     },
     "metadata": {
      "needs_background": "light"
     },
     "output_type": "display_data"
    },
    {
     "data": {
      "image/png": "[encoded data removed]",
      "text/plain": [
       "<Figure size 1080x360 with 2 Axes>"
      ]
     },
     "metadata": {
      "needs_background": "light"
     },
     "output_type": "display_data"
    }
   ],
   "source": [
    "## expose should only be counted when users are in that session\n",
    "# s1: 0~2, s2: 3~5, s3: 6~9\n",
    "\n",
    "counter = defaultdict(lambda: [0, 0])\n",
    "for i in tqdm(range(df_trainset.shape[0])):\n",
    "    user_exposed_history = df_trainset.at[i, 'exposed_items']\n",
    "    num_bought = sum([int(l) for l in df_trainset.at[i, 'labels'].split(',')])\n",
    "    labels = df_trainset.at[i, 'labels'].split(',')\n",
    "    for idx, itemid in enumerate(user_exposed_history.split(',')):\n",
    "        if 0 <= idx <= 2:\n",
    "            counter[itemid][0] += 1\n",
    "            if labels[idx] == '1':\n",
    "                counter[itemid][1] += 1\n",
    "        elif 3 <= idx <= 5 and num_bought >= 3: \n",
    "            counter[itemid][0] += 1\n",
    "            if labels[idx] == '1':\n",
    "                counter[itemid][1] += 1\n",
    "        elif 6 <= idx <= 8 and num_bought >= 6:\n",
    "            counter[itemid][0] += 1\n",
    "            if labels[idx] == '1':\n",
    "                counter[itemid][1] += 1\n",
    "counter = dict(counter)\n",
    "counter_sorted = sorted(counter.items(), key=lambda x: x[1][0], reverse=True)\n",
    "\n",
    "counter_sorted_session1 = [s for s in counter_sorted if 1 <= int(s[0]) <= 39]\n",
    "counter_sorted_session2 = [s for s in counter_sorted if 40 <= int(s[0]) <= 147]\n",
    "counter_sorted_session3 = [s for s in counter_sorted if 148 <= int(s[0]) <= 381]\n",
    "\n",
    "nums_to_plot = counter_sorted_session1[:40]\n",
    "itemids = [n[0] for n in nums_to_plot]\n",
    "click_cnt = [n[1][0] for n in nums_to_plot]\n",
    "bought_cnt = [n[1][1] for n in nums_to_plot]\n",
    "X = np.arange(len(itemids))\n",
    "fig = plt.figure(figsize=(15, 5))\n",
    "plt.bar(itemids, click_cnt, width=0.2)\n",
    "ax = fig.add_axes([0,0,1,1])\n",
    "ax.bar(X + 0.00, click_cnt, color = 'b', width = 0.25)\n",
    "ax.bar(X + 0.20, bought_cnt, color = 'r', width = 0.25)\n",
    "plt.xticks(X, itemids)\n",
    "plt.title('How many times is item exposed, bought? (Session1)')\n",
    "plt.xlabel('itemid')\n",
    "plt.ylabel('item exposed, bought times')\n",
    "plt.show()\n",
    "\n",
    "nums_to_plot = counter_sorted_session2[:40]\n",
    "itemids = [n[0] for n in nums_to_plot]\n",
    "click_cnt = [n[1][0] for n in nums_to_plot]\n",
    "bought_cnt = [n[1][1] for n in nums_to_plot]\n",
    "X = np.arange(len(itemids))\n",
    "fig = plt.figure(figsize=(15, 5))\n",
    "plt.bar(itemids, click_cnt, width=0.2)\n",
    "ax = fig.add_axes([0,0,1,1])\n",
    "ax.bar(X + 0.00, click_cnt, color = 'b', width = 0.25)\n",
    "ax.bar(X + 0.20, bought_cnt, color = 'r', width = 0.25)\n",
    "plt.xticks(X, itemids)\n",
    "plt.title('How many times is item exposed, bought? (Session2)')\n",
    "plt.xlabel('itemid')\n",
    "plt.ylabel('item exposed, bought times')\n",
    "plt.show()\n",
    "\n",
    "nums_to_plot = counter_sorted_session3[:40]\n",
    "itemids = [n[0] for n in nums_to_plot]\n",
    "click_cnt = [n[1][0] for n in nums_to_plot]\n",
    "bought_cnt = [n[1][1] for n in nums_to_plot]\n",
    "X = np.arange(len(itemids))\n",
    "fig = plt.figure(figsize=(15, 5))\n",
    "plt.bar(itemids, click_cnt, width=0.2)\n",
    "ax = fig.add_axes([0,0,1,1])\n",
    "ax.bar(X + 0.00, click_cnt, color = 'b', width = 0.25)\n",
    "ax.bar(X + 0.20, bought_cnt, color = 'r', width = 0.25)\n",
    "plt.xticks(X, itemids)\n",
    "plt.title('How many times is item exposed, bought? (Session3)')\n",
    "plt.xlabel('itemid')\n",
    "plt.ylabel('item exposed, bought times')\n",
    "plt.show()"
   ]
  },
  {
   "cell_type": "markdown",
   "id": "f5be4585",
   "metadata": {
    "papermill": {
     "duration": 0.448282,
     "end_time": "2021-07-14T09:30:27.183357",
     "exception": false,
     "start_time": "2021-07-14T09:30:26.735075",
     "status": "completed"
    },
    "tags": []
   },
   "source": [
    "Bought vs Expose (expose只算到对应session的) by session"
   ]
  },
  {
   "cell_type": "code",
   "execution_count": 17,
   "id": "c83f0803",
   "metadata": {
    "execution": {
     "iopub.execute_input": "2021-07-14T09:30:28.106177Z",
     "iopub.status.busy": "2021-07-14T09:30:28.105219Z",
     "iopub.status.idle": "2021-07-14T09:30:37.093487Z",
     "shell.execute_reply": "2021-07-14T09:30:37.094062Z"
    },
    "papermill": {
     "duration": 9.458918,
     "end_time": "2021-07-14T09:30:37.094249",
     "exception": false,
     "start_time": "2021-07-14T09:30:27.635331",
     "status": "completed"
    },
    "tags": []
   },
   "outputs": [
    {
     "name": "stderr",
     "output_type": "stream",
     "text": [
      "100%|██████████| 260087/260087 [00:08<00:00, 28962.74it/s]\n"
     ]
    }
   ],
   "source": [
    "## expose should only be counted when users are in that session\n",
    "# s1: 0~2, s2: 3~5, s3: 6~9\n",
    "\n",
    "counter = defaultdict(lambda: [0, 0, 0])\n",
    "for i in tqdm(range(df_trainset.shape[0])):\n",
    "    user_exposed_history = df_trainset.at[i, 'exposed_items']\n",
    "    num_bought = sum([int(l) for l in df_trainset.at[i, 'labels'].split(',')])\n",
    "    labels = df_trainset.at[i, 'labels'].split(',')\n",
    "    for idx, itemid in enumerate(user_exposed_history.split(',')):\n",
    "        if 0 <= idx <= 2:\n",
    "            counter[itemid][0] += 1\n",
    "            if labels[idx] == '1':\n",
    "                counter[itemid][1] += 1\n",
    "        elif 3 <= idx <= 5 and num_bought >= 3: \n",
    "            counter[itemid][0] += 1\n",
    "            if labels[idx] == '1':\n",
    "                counter[itemid][1] += 1\n",
    "        elif 6 <= idx <= 8 and num_bought >= 6:\n",
    "            counter[itemid][0] += 1\n",
    "            if labels[idx] == '1':\n",
    "                counter[itemid][1] += 1\n",
    "counter = dict(counter)\n",
    "for k, v in counter.items():\n",
    "    counter[k][2] = counter[k][1] / counter[k][0]\n",
    "counter_sorted = sorted(counter.items(), key=lambda x: x[1][2], reverse=True)\n",
    "\n",
    "counter_sorted_session1 = [s for s in counter_sorted if 1 <= int(s[0]) <= 39]\n",
    "counter_sorted_session2 = [s for s in counter_sorted if 40 <= int(s[0]) <= 147]\n",
    "counter_sorted_session3 = [s for s in counter_sorted if 148 <= int(s[0]) <= 381]"
   ]
  },
  {
   "cell_type": "code",
   "execution_count": 18,
   "id": "b4a38fb0",
   "metadata": {
    "execution": {
     "iopub.execute_input": "2021-07-14T09:30:38.182499Z",
     "iopub.status.busy": "2021-07-14T09:30:38.161721Z",
     "iopub.status.idle": "2021-07-14T09:30:45.470653Z",
     "shell.execute_reply": "2021-07-14T09:30:45.470121Z",
     "shell.execute_reply.started": "2021-07-13T09:49:14.577037Z"
    },
    "papermill": {
     "duration": 7.878536,
     "end_time": "2021-07-14T09:30:45.470789",
     "exception": false,
     "start_time": "2021-07-14T09:30:37.592253",
     "status": "completed"
    },
    "tags": []
   },
   "outputs": [
    {
     "data": {
      "image/png": "[encoded data removed]",
      "text/plain": [
       "<Figure size 1080x360 with 2 Axes>"
      ]
     },
     "metadata": {
      "needs_background": "light"
     },
     "output_type": "display_data"
    },
    {
     "data": {
      "image/png": "[encoded data removed]",
      "text/plain": [
       "<Figure size 1080x360 with 2 Axes>"
      ]
     },
     "metadata": {
      "needs_background": "light"
     },
     "output_type": "display_data"
    },
    {
     "data": {
      "image/png": "[encoded data removed]",
      "text/plain": [
       "<Figure size 1080x360 with 2 Axes>"
      ]
     },
     "metadata": {
      "needs_background": "light"
     },
     "output_type": "display_data"
    }
   ],
   "source": [
    "nums_to_plot = counter_sorted_session1\n",
    "itemids = [n[0] for n in nums_to_plot]\n",
    "expose_cnt = [n[1][0] for n in nums_to_plot]\n",
    "bought_cnt = [n[1][1] for n in nums_to_plot]\n",
    "bought_expose_ratio = [n[1][2] for n in nums_to_plot]\n",
    "X = np.arange(len(itemids))\n",
    "fig = plt.figure(figsize=(15, 5))\n",
    "ax = fig.add_axes([0,0,1,1])\n",
    "ax.bar(X + 0.00, expose_cnt, color = 'b', width = 0.2)\n",
    "ax.bar(X + 0.20, bought_cnt, color = 'r', width = 0.2)\n",
    "plt.xticks(X, itemids)\n",
    "plt.title('How many times is item exposed, bought? (Session1) sorted by ratio')\n",
    "plt.xlabel('itemid')\n",
    "plt.ylabel('item exposed, bought times')\n",
    "ax2 = ax.twinx()\n",
    "ax2.bar(X + 0.40, bought_expose_ratio, color = 'g', width = 0.2)\n",
    "ax2.set_ylim([0, 1])\n",
    "ax2.set_ylabel('ratio: bought/exposed', color='b')\n",
    "# plt.yscale('log')\n",
    "plt.show()\n",
    "\n",
    "\n",
    "nums_to_plot = counter_sorted_session2\n",
    "itemids = [n[0] for n in nums_to_plot]\n",
    "expose_cnt = [n[1][0] for n in nums_to_plot]\n",
    "bought_cnt = [n[1][1] for n in nums_to_plot]\n",
    "bought_expose_ratio = [n[1][2] for n in nums_to_plot]\n",
    "X = np.arange(len(itemids))\n",
    "fig = plt.figure(figsize=(15, 5))\n",
    "ax = fig.add_axes([0,0,1,1])\n",
    "ax.bar(X + 0.00, expose_cnt, color = 'b', width = 0.2)\n",
    "ax.bar(X + 0.20, bought_cnt, color = 'r', width = 0.2)\n",
    "plt.xticks(X, itemids)\n",
    "plt.title('How many times is item exposed, bought? (Session2) sorted by ratio')\n",
    "plt.xlabel('itemid')\n",
    "plt.ylabel('item exposed, bought times')\n",
    "ax2 = ax.twinx()\n",
    "ax2.bar(X + 0.40, bought_expose_ratio, color = 'g', width = 0.2)\n",
    "ax2.set_ylim([0, 1])\n",
    "ax2.set_ylabel('ratio: bought/exposed', color='b')\n",
    "# plt.yscale('log')\n",
    "plt.show()\n",
    "\n",
    "\n",
    "nums_to_plot = counter_sorted_session3\n",
    "itemids = [n[0] for n in nums_to_plot]\n",
    "expose_cnt = [n[1][0] for n in nums_to_plot]\n",
    "bought_cnt = [n[1][1] for n in nums_to_plot]\n",
    "bought_expose_ratio = [n[1][2] for n in nums_to_plot]\n",
    "X = np.arange(len(itemids))\n",
    "fig = plt.figure(figsize=(15, 5))\n",
    "ax = fig.add_axes([0,0,1,1])\n",
    "ax.bar(X + 0.00, expose_cnt, color = 'b', width = 0.2)\n",
    "ax.bar(X + 0.20, bought_cnt, color = 'r', width = 0.2)\n",
    "plt.xticks(X, itemids)\n",
    "plt.title('How many times is item exposed, bought? (Session3) sorted by ratio')\n",
    "plt.xlabel('itemid')\n",
    "plt.ylabel('item exposed, bought times')\n",
    "# plt.yscale('log')\n",
    "ax2 = ax.twinx()\n",
    "ax2.bar(X + 0.40, bought_expose_ratio, color = 'g', width = 0.2)\n",
    "ax2.set_ylim([0, 1])\n",
    "ax2.set_ylabel('ratio: bought/exposed', color='b')\n",
    "plt.show()"
   ]
  },
  {
   "cell_type": "code",
   "execution_count": 19,
   "id": "8063936c",
   "metadata": {
    "execution": {
     "iopub.execute_input": "2021-07-14T09:30:46.451509Z",
     "iopub.status.busy": "2021-07-14T09:30:46.450441Z",
     "iopub.status.idle": "2021-07-14T09:30:49.208184Z",
     "shell.execute_reply": "2021-07-14T09:30:49.207491Z",
     "shell.execute_reply.started": "2021-07-13T09:51:17.211701Z"
    },
    "papermill": {
     "duration": 3.25107,
     "end_time": "2021-07-14T09:30:49.208330",
     "exception": false,
     "start_time": "2021-07-14T09:30:45.957260",
     "status": "completed"
    },
    "tags": []
   },
   "outputs": [
    {
     "data": {
      "image/png": "[encoded data removed]",
      "text/plain": [
       "<Figure size 1080x360 with 2 Axes>"
      ]
     },
     "metadata": {
      "needs_background": "light"
     },
     "output_type": "display_data"
    },
    {
     "data": {
      "image/png": "[encoded data removed]",
      "text/plain": [
       "<Figure size 1080x360 with 2 Axes>"
      ]
     },
     "metadata": {
      "needs_background": "light"
     },
     "output_type": "display_data"
    },
    {
     "data": {
      "image/png": "[encoded data removed]",
      "text/plain": [
       "<Figure size 1080x360 with 2 Axes>"
      ]
     },
     "metadata": {
      "needs_background": "light"
     },
     "output_type": "display_data"
    }
   ],
   "source": [
    "nums_to_plot = counter_sorted_session1[:40]\n",
    "itemids = [n[0] for n in nums_to_plot]\n",
    "expose_cnt = [n[1][0] for n in nums_to_plot]\n",
    "bought_cnt = [n[1][1] for n in nums_to_plot]\n",
    "bought_expose_ratio = [n[1][2] for n in nums_to_plot]\n",
    "X = np.arange(len(itemids))\n",
    "fig = plt.figure(figsize=(15, 5))\n",
    "ax = fig.add_axes([0,0,1,1])\n",
    "ax.bar(X + 0.00, expose_cnt, color = 'b', width = 0.2)\n",
    "ax.bar(X + 0.20, bought_cnt, color = 'r', width = 0.2)\n",
    "plt.xticks(X, itemids)\n",
    "plt.title('How many times is item exposed, bought? (Session1) sorted by ratio')\n",
    "plt.xlabel('itemid')\n",
    "plt.ylabel('item exposed, bought times')\n",
    "ax2 = ax.twinx()\n",
    "ax2.bar(X + 0.40, bought_expose_ratio, color = 'g', width = 0.2)\n",
    "ax2.set_ylim([0, 1])\n",
    "ax2.set_ylabel('ratio: bought/exposed', color='b')\n",
    "# plt.yscale('log')\n",
    "plt.show()\n",
    "\n",
    "\n",
    "nums_to_plot = counter_sorted_session2[:40]\n",
    "itemids = [n[0] for n in nums_to_plot]\n",
    "expose_cnt = [n[1][0] for n in nums_to_plot]\n",
    "bought_cnt = [n[1][1] for n in nums_to_plot]\n",
    "bought_expose_ratio = [n[1][2] for n in nums_to_plot]\n",
    "X = np.arange(len(itemids))\n",
    "fig = plt.figure(figsize=(15, 5))\n",
    "ax = fig.add_axes([0,0,1,1])\n",
    "ax.bar(X + 0.00, expose_cnt, color = 'b', width = 0.2)\n",
    "ax.bar(X + 0.20, bought_cnt, color = 'r', width = 0.2)\n",
    "plt.xticks(X, itemids)\n",
    "plt.title('How many times is item exposed, bought? (Session2) sorted by ratio')\n",
    "plt.xlabel('itemid')\n",
    "plt.ylabel('item exposed, bought times')\n",
    "ax2 = ax.twinx()\n",
    "ax2.bar(X + 0.40, bought_expose_ratio, color = 'g', width = 0.2)\n",
    "ax2.set_ylim([0, 1])\n",
    "ax2.set_ylabel('ratio: bought/exposed', color='b')\n",
    "# plt.yscale('log')\n",
    "plt.show()\n",
    "\n",
    "\n",
    "nums_to_plot = counter_sorted_session3[:40]\n",
    "itemids = [n[0] for n in nums_to_plot]\n",
    "expose_cnt = [n[1][0] for n in nums_to_plot]\n",
    "bought_cnt = [n[1][1] for n in nums_to_plot]\n",
    "bought_expose_ratio = [n[1][2] for n in nums_to_plot]\n",
    "X = np.arange(len(itemids))\n",
    "fig = plt.figure(figsize=(15, 5))\n",
    "ax = fig.add_axes([0,0,1,1])\n",
    "ax.bar(X + 0.00, expose_cnt, color = 'b', width = 0.2)\n",
    "ax.bar(X + 0.20, bought_cnt, color = 'r', width = 0.2)\n",
    "plt.xticks(X, itemids)\n",
    "plt.title('How many times is item exposed, bought? (Session3) sorted by ratio')\n",
    "plt.xlabel('itemid')\n",
    "plt.ylabel('item exposed, bought times')\n",
    "ax2 = ax.twinx()\n",
    "ax2.bar(X + 0.40, bought_expose_ratio, color = 'g', width = 0.2)\n",
    "ax2.set_ylim([0, 1])\n",
    "ax2.set_ylabel('ratio: bought/exposed', color='b')\n",
    "# plt.yscale('log')\n",
    "plt.show()\n",
    "\n"
   ]
  },
  {
   "cell_type": "code",
   "execution_count": null,
   "id": "470e74e0",
   "metadata": {
    "papermill": {
     "duration": 0.487712,
     "end_time": "2021-07-14T09:30:50.181228",
     "exception": false,
     "start_time": "2021-07-14T09:30:49.693516",
     "status": "completed"
    },
    "tags": []
   },
   "outputs": [],
   "source": []
  },
  {
   "cell_type": "markdown",
   "id": "180092c8",
   "metadata": {
    "papermill": {
     "duration": 0.4876,
     "end_time": "2021-07-14T09:30:51.157133",
     "exception": false,
     "start_time": "2021-07-14T09:30:50.669533",
     "status": "completed"
    },
    "tags": []
   },
   "source": [
    "## labels analysis"
   ]
  },
  {
   "cell_type": "code",
   "execution_count": 20,
   "id": "4f6768c0",
   "metadata": {
    "execution": {
     "iopub.execute_input": "2021-07-14T09:30:52.138734Z",
     "iopub.status.busy": "2021-07-14T09:30:52.137698Z",
     "iopub.status.idle": "2021-07-14T09:30:58.703272Z",
     "shell.execute_reply": "2021-07-14T09:30:58.702283Z",
     "shell.execute_reply.started": "2021-07-13T05:21:48.510515Z"
    },
    "papermill": {
     "duration": 7.062437,
     "end_time": "2021-07-14T09:30:58.703634",
     "exception": false,
     "start_time": "2021-07-14T09:30:51.641197",
     "status": "completed"
    },
    "tags": []
   },
   "outputs": [
    {
     "name": "stderr",
     "output_type": "stream",
     "text": [
      "100%|██████████| 260087/260087 [00:06<00:00, 42259.96it/s]\n"
     ]
    },
    {
     "data": {
      "image/png": "[encoded data removed]",
      "text/plain": [
       "<Figure size 432x288 with 1 Axes>"
      ]
     },
     "metadata": {
      "needs_background": "light"
     },
     "output_type": "display_data"
    },
    {
     "name": "stdout",
     "output_type": "stream",
     "text": [
      "There are 30912 users have bout 0 items\n",
      "There are 27620 users have bout 1 items\n",
      "There are 15330 users have bout 2 items\n",
      "There are 7317 users have bout 3 items\n",
      "There are 17895 users have bout 4 items\n",
      "There are 15486 users have bout 5 items\n",
      "There are 4810 users have bout 6 items\n",
      "There are 32512 users have bout 7 items\n",
      "There are 69645 users have bout 8 items\n",
      "There are 38560 users have bout 9 items\n"
     ]
    }
   ],
   "source": [
    "for i in tqdm(range(df_trainset.shape[0])):\n",
    "    labels = df_trainset.at[i, 'labels'].split(',')\n",
    "    df_trainset.at[i, 'cnt_labels'] = sum([int(l) for l in labels])\n",
    "\n",
    "arr = np.array(df_trainset['cnt_labels'])\n",
    "plt.hist(arr, color='blue', edgecolor='black', bins=100)\n",
    "plt.title('Histogram of # of items users bought')\n",
    "plt.xticks(range(10), range(10))\n",
    "plt.xlabel('# of items users bought')\n",
    "plt.ylabel('Count')\n",
    "plt.show()\n",
    "\n",
    "arr = np.array(df_trainset['cnt_labels'])\n",
    "for i in range(10):\n",
    "    print('There are', len(arr[arr == i]), 'users have bout', i, 'items')"
   ]
  },
  {
   "cell_type": "markdown",
   "id": "07829cde",
   "metadata": {
    "papermill": {
     "duration": 0.503441,
     "end_time": "2021-07-14T09:30:59.745199",
     "exception": false,
     "start_time": "2021-07-14T09:30:59.241758",
     "status": "completed"
    },
    "tags": []
   },
   "source": [
    "Bought vs Expose (expose算所有session的) by session"
   ]
  },
  {
   "cell_type": "code",
   "execution_count": 21,
   "id": "ee3c88f7",
   "metadata": {
    "execution": {
     "iopub.execute_input": "2021-07-14T09:31:00.779841Z",
     "iopub.status.busy": "2021-07-14T09:31:00.774421Z",
     "iopub.status.idle": "2021-07-14T09:31:11.547071Z",
     "shell.execute_reply": "2021-07-14T09:31:11.547604Z",
     "shell.execute_reply.started": "2021-07-13T09:06:28.761374Z"
    },
    "papermill": {
     "duration": 11.293112,
     "end_time": "2021-07-14T09:31:11.547804",
     "exception": false,
     "start_time": "2021-07-14T09:31:00.254692",
     "status": "completed"
    },
    "tags": []
   },
   "outputs": [
    {
     "name": "stderr",
     "output_type": "stream",
     "text": [
      "100%|██████████| 260087/260087 [00:08<00:00, 31891.53it/s]\n"
     ]
    },
    {
     "data": {
      "image/png": "[encoded data removed]",
      "text/plain": [
       "<Figure size 1080x360 with 2 Axes>"
      ]
     },
     "metadata": {
      "needs_background": "light"
     },
     "output_type": "display_data"
    },
    {
     "data": {
      "image/png": "[encoded data removed]",
      "text/plain": [
       "<Figure size 1080x360 with 2 Axes>"
      ]
     },
     "metadata": {
      "needs_background": "light"
     },
     "output_type": "display_data"
    },
    {
     "data": {
      "image/png": "[encoded data removed]",
      "text/plain": [
       "<Figure size 1080x360 with 2 Axes>"
      ]
     },
     "metadata": {
      "needs_background": "light"
     },
     "output_type": "display_data"
    }
   ],
   "source": [
    "## expose should only be counted when users are in that session\n",
    "# s1: 0~2, s2: 3~5, s3: 6~9\n",
    "\n",
    "counter = defaultdict(lambda: [0, 0])\n",
    "for i in tqdm(range(df_trainset.shape[0])):\n",
    "    user_exposed_history = df_trainset.at[i, 'exposed_items']\n",
    "    num_bought = sum([int(l) for l in df_trainset.at[i, 'labels'].split(',')])\n",
    "    labels = df_trainset.at[i, 'labels'].split(',')\n",
    "    for idx, itemid in enumerate(user_exposed_history.split(',')):\n",
    "        counter[itemid][0] += 1\n",
    "        if labels[idx] == '1':\n",
    "            counter[itemid][1] += 1\n",
    "counter = dict(counter)\n",
    "counter_sorted = sorted(counter.items(), key=lambda x: x[1][0], reverse=True)\n",
    "\n",
    "counter_sorted_session1 = [s for s in counter_sorted if 1 <= int(s[0]) <= 39]\n",
    "counter_sorted_session2 = [s for s in counter_sorted if 40 <= int(s[0]) <= 147]\n",
    "counter_sorted_session3 = [s for s in counter_sorted if 148 <= int(s[0]) <= 381]\n",
    "\n",
    "nums_to_plot = counter_sorted_session1[:40]\n",
    "itemids = [n[0] for n in nums_to_plot]\n",
    "click_cnt = [n[1][0] for n in nums_to_plot]\n",
    "bought_cnt = [n[1][1] for n in nums_to_plot]\n",
    "X = np.arange(len(itemids))\n",
    "fig = plt.figure(figsize=(15, 5))\n",
    "plt.bar(itemids, click_cnt, width=0.2)\n",
    "ax = fig.add_axes([0,0,1,1])\n",
    "ax.bar(X + 0.00, click_cnt, color = 'b', width = 0.25)\n",
    "ax.bar(X + 0.20, bought_cnt, color = 'r', width = 0.25)\n",
    "plt.xticks(X, itemids)\n",
    "plt.title('How many times is item exposed, bought? (Session1)')\n",
    "plt.xlabel('itemid')\n",
    "plt.ylabel('item exposed, bought times')\n",
    "plt.show()\n",
    "\n",
    "nums_to_plot = counter_sorted_session2[:40]\n",
    "itemids = [n[0] for n in nums_to_plot]\n",
    "click_cnt = [n[1][0] for n in nums_to_plot]\n",
    "bought_cnt = [n[1][1] for n in nums_to_plot]\n",
    "X = np.arange(len(itemids))\n",
    "fig = plt.figure(figsize=(15, 5))\n",
    "plt.bar(itemids, click_cnt, width=0.2)\n",
    "ax = fig.add_axes([0,0,1,1])\n",
    "ax.bar(X + 0.00, click_cnt, color = 'b', width = 0.25)\n",
    "ax.bar(X + 0.20, bought_cnt, color = 'r', width = 0.25)\n",
    "plt.xticks(X, itemids)\n",
    "plt.title('How many times is item exposed, bought? (Session2)')\n",
    "plt.xlabel('itemid')\n",
    "plt.ylabel('item exposed, bought times')\n",
    "plt.show()\n",
    "\n",
    "nums_to_plot = counter_sorted_session3[:40]\n",
    "itemids = [n[0] for n in nums_to_plot]\n",
    "click_cnt = [n[1][0] for n in nums_to_plot]\n",
    "bought_cnt = [n[1][1] for n in nums_to_plot]\n",
    "X = np.arange(len(itemids))\n",
    "fig = plt.figure(figsize=(15, 5))\n",
    "plt.bar(itemids, click_cnt, width=0.2)\n",
    "ax = fig.add_axes([0,0,1,1])\n",
    "ax.bar(X + 0.00, click_cnt, color = 'b', width = 0.25)\n",
    "ax.bar(X + 0.20, bought_cnt, color = 'r', width = 0.25)\n",
    "plt.xticks(X, itemids)\n",
    "plt.title('How many times is item exposed, bought? (Session3)')\n",
    "plt.xlabel('itemid')\n",
    "plt.ylabel('item exposed, bought times')\n",
    "plt.show()"
   ]
  },
  {
   "cell_type": "markdown",
   "id": "e8f796d0",
   "metadata": {
    "papermill": {
     "duration": 0.538836,
     "end_time": "2021-07-14T09:31:12.626321",
     "exception": false,
     "start_time": "2021-07-14T09:31:12.087485",
     "status": "completed"
    },
    "tags": []
   },
   "source": [
    "ratio"
   ]
  },
  {
   "cell_type": "code",
   "execution_count": 22,
   "id": "9197c880",
   "metadata": {
    "execution": {
     "iopub.execute_input": "2021-07-14T09:31:13.720049Z",
     "iopub.status.busy": "2021-07-14T09:31:13.719339Z",
     "iopub.status.idle": "2021-07-14T09:31:21.904554Z",
     "shell.execute_reply": "2021-07-14T09:31:21.903426Z",
     "shell.execute_reply.started": "2021-07-13T09:55:07.455254Z"
    },
    "papermill": {
     "duration": 8.735188,
     "end_time": "2021-07-14T09:31:21.904875",
     "exception": false,
     "start_time": "2021-07-14T09:31:13.169687",
     "status": "completed"
    },
    "tags": []
   },
   "outputs": [
    {
     "name": "stderr",
     "output_type": "stream",
     "text": [
      "100%|██████████| 260087/260087 [00:08<00:00, 31845.25it/s]\n"
     ]
    }
   ],
   "source": [
    "## expose should only be counted when users are in that session\n",
    "# s1: 0~2, s2: 3~5, s3: 6~9\n",
    "\n",
    "counter = defaultdict(lambda: [0, 0, 0])\n",
    "for i in tqdm(range(df_trainset.shape[0])):\n",
    "    user_exposed_history = df_trainset.at[i, 'exposed_items']\n",
    "    num_bought = sum([int(l) for l in df_trainset.at[i, 'labels'].split(',')])\n",
    "    labels = df_trainset.at[i, 'labels'].split(',')\n",
    "    for idx, itemid in enumerate(user_exposed_history.split(',')):\n",
    "        counter[itemid][0] += 1\n",
    "        if labels[idx] == '1':\n",
    "            counter[itemid][1] += 1\n",
    "counter = dict(counter)\n",
    "for k, v in counter.items():\n",
    "    counter[k][2] = counter[k][1] / counter[k][0]\n",
    "counter_sorted = sorted(counter.items(), key=lambda x: x[1][2], reverse=True)\n",
    "\n",
    "counter_sorted_session1 = [s for s in counter_sorted if 1 <= int(s[0]) <= 39]\n",
    "counter_sorted_session2 = [s for s in counter_sorted if 40 <= int(s[0]) <= 147]\n",
    "counter_sorted_session3 = [s for s in counter_sorted if 148 <= int(s[0]) <= 381]"
   ]
  },
  {
   "cell_type": "code",
   "execution_count": 23,
   "id": "dbe9ec5f",
   "metadata": {
    "execution": {
     "iopub.execute_input": "2021-07-14T09:31:23.073854Z",
     "iopub.status.busy": "2021-07-14T09:31:23.050461Z",
     "iopub.status.idle": "2021-07-14T09:31:30.373263Z",
     "shell.execute_reply": "2021-07-14T09:31:30.372723Z",
     "shell.execute_reply.started": "2021-07-13T09:55:24.358828Z"
    },
    "papermill": {
     "duration": 7.897307,
     "end_time": "2021-07-14T09:31:30.373526",
     "exception": false,
     "start_time": "2021-07-14T09:31:22.476219",
     "status": "completed"
    },
    "tags": []
   },
   "outputs": [
    {
     "data": {
      "image/png": "[encoded data removed]",
      "text/plain": [
       "<Figure size 1080x360 with 2 Axes>"
      ]
     },
     "metadata": {
      "needs_background": "light"
     },
     "output_type": "display_data"
    },
    {
     "data": {
      "image/png": "[encoded data removed]",
      "text/plain": [
       "<Figure size 1080x360 with 2 Axes>"
      ]
     },
     "metadata": {
      "needs_background": "light"
     },
     "output_type": "display_data"
    },
    {
     "data": {
      "image/png": "[encoded data removed]",
      "text/plain": [
       "<Figure size 1080x360 with 2 Axes>"
      ]
     },
     "metadata": {
      "needs_background": "light"
     },
     "output_type": "display_data"
    }
   ],
   "source": [
    "nums_to_plot = counter_sorted_session1\n",
    "itemids = [n[0] for n in nums_to_plot]\n",
    "expose_cnt = [n[1][0] for n in nums_to_plot]\n",
    "bought_cnt = [n[1][1] for n in nums_to_plot]\n",
    "bought_expose_ratio = [n[1][2] for n in nums_to_plot]\n",
    "X = np.arange(len(itemids))\n",
    "fig = plt.figure(figsize=(15, 5))\n",
    "ax = fig.add_axes([0,0,1,1])\n",
    "ax.bar(X + 0.00, expose_cnt, color = 'b', width = 0.2)\n",
    "ax.bar(X + 0.20, bought_cnt, color = 'r', width = 0.2)\n",
    "plt.xticks(X, itemids)\n",
    "plt.title('How many times is item exposed, bought? (Session1) sorted by ratio')\n",
    "plt.xlabel('itemid')\n",
    "plt.ylabel('item exposed, bought times')\n",
    "ax2 = ax.twinx()\n",
    "ax2.bar(X + 0.40, bought_expose_ratio, color = 'g', width = 0.2)\n",
    "ax2.set_ylim([0, 1])\n",
    "ax2.set_ylabel('ratio: bought/exposed', color='b')\n",
    "# plt.yscale('log')\n",
    "plt.show()\n",
    "\n",
    "\n",
    "nums_to_plot = counter_sorted_session2\n",
    "itemids = [n[0] for n in nums_to_plot]\n",
    "expose_cnt = [n[1][0] for n in nums_to_plot]\n",
    "bought_cnt = [n[1][1] for n in nums_to_plot]\n",
    "bought_expose_ratio = [n[1][2] for n in nums_to_plot]\n",
    "X = np.arange(len(itemids))\n",
    "fig = plt.figure(figsize=(15, 5))\n",
    "ax = fig.add_axes([0,0,1,1])\n",
    "ax.bar(X + 0.00, expose_cnt, color = 'b', width = 0.2)\n",
    "ax.bar(X + 0.20, bought_cnt, color = 'r', width = 0.2)\n",
    "plt.xticks(X, itemids)\n",
    "plt.title('How many times is item exposed, bought? (Session2) sorted by ratio')\n",
    "plt.xlabel('itemid')\n",
    "plt.ylabel('item exposed, bought times')\n",
    "ax2 = ax.twinx()\n",
    "ax2.bar(X + 0.40, bought_expose_ratio, color = 'g', width = 0.2)\n",
    "ax2.set_ylim([0, 1])\n",
    "ax2.set_ylabel('ratio: bought/exposed', color='b')\n",
    "# plt.yscale('log')\n",
    "plt.show()\n",
    "\n",
    "\n",
    "nums_to_plot = counter_sorted_session3\n",
    "itemids = [n[0] for n in nums_to_plot]\n",
    "expose_cnt = [n[1][0] for n in nums_to_plot]\n",
    "bought_cnt = [n[1][1] for n in nums_to_plot]\n",
    "bought_expose_ratio = [n[1][2] for n in nums_to_plot]\n",
    "X = np.arange(len(itemids))\n",
    "fig = plt.figure(figsize=(15, 5))\n",
    "ax = fig.add_axes([0,0,1,1])\n",
    "ax.bar(X + 0.00, expose_cnt, color = 'b', width = 0.2)\n",
    "ax.bar(X + 0.20, bought_cnt, color = 'r', width = 0.2)\n",
    "plt.xticks(X, itemids)\n",
    "plt.title('How many times is item exposed, bought? (Session3) sorted by ratio')\n",
    "plt.xlabel('itemid')\n",
    "plt.ylabel('item exposed, bought times')\n",
    "# plt.yscale('log')\n",
    "ax2 = ax.twinx()\n",
    "ax2.bar(X + 0.40, bought_expose_ratio, color = 'g', width = 0.2)\n",
    "ax2.set_ylim([0, 1])\n",
    "ax2.set_ylabel('ratio: bought/exposed', color='b')\n",
    "plt.show()"
   ]
  },
  {
   "cell_type": "code",
   "execution_count": 24,
   "id": "8173ee69",
   "metadata": {
    "execution": {
     "iopub.execute_input": "2021-07-14T09:31:31.546791Z",
     "iopub.status.busy": "2021-07-14T09:31:31.545707Z",
     "iopub.status.idle": "2021-07-14T09:31:34.022754Z",
     "shell.execute_reply": "2021-07-14T09:31:34.022100Z",
     "shell.execute_reply.started": "2021-07-13T09:56:25.599140Z"
    },
    "papermill": {
     "duration": 3.053161,
     "end_time": "2021-07-14T09:31:34.022896",
     "exception": false,
     "start_time": "2021-07-14T09:31:30.969735",
     "status": "completed"
    },
    "tags": []
   },
   "outputs": [
    {
     "data": {
      "image/png": "[encoded data removed]",
      "text/plain": [
       "<Figure size 1080x360 with 2 Axes>"
      ]
     },
     "metadata": {
      "needs_background": "light"
     },
     "output_type": "display_data"
    },
    {
     "data": {
      "image/png": "[encoded data removed]",
      "text/plain": [
       "<Figure size 1080x360 with 2 Axes>"
      ]
     },
     "metadata": {
      "needs_background": "light"
     },
     "output_type": "display_data"
    },
    {
     "data": {
      "image/png": "[encoded data removed]",
      "text/plain": [
       "<Figure size 1080x360 with 2 Axes>"
      ]
     },
     "metadata": {
      "needs_background": "light"
     },
     "output_type": "display_data"
    }
   ],
   "source": [
    "nums_to_plot = counter_sorted_session1[:40]\n",
    "itemids = [n[0] for n in nums_to_plot]\n",
    "expose_cnt = [n[1][0] for n in nums_to_plot]\n",
    "bought_cnt = [n[1][1] for n in nums_to_plot]\n",
    "bought_expose_ratio = [n[1][2] for n in nums_to_plot]\n",
    "X = np.arange(len(itemids))\n",
    "fig = plt.figure(figsize=(15, 5))\n",
    "ax = fig.add_axes([0,0,1,1])\n",
    "ax.bar(X + 0.00, expose_cnt, color = 'b', width = 0.2)\n",
    "ax.bar(X + 0.20, bought_cnt, color = 'r', width = 0.2)\n",
    "plt.xticks(X, itemids)\n",
    "plt.title('How many times is item exposed, bought? (Session1) sorted by ratio')\n",
    "plt.xlabel('itemid')\n",
    "plt.ylabel('item exposed, bought times')\n",
    "ax2 = ax.twinx()\n",
    "ax2.bar(X + 0.40, bought_expose_ratio, color = 'g', width = 0.2)\n",
    "ax2.set_ylim([0, 1])\n",
    "ax2.set_ylabel('ratio: bought/exposed', color='b')\n",
    "# plt.yscale('log')\n",
    "plt.show()\n",
    "\n",
    "\n",
    "nums_to_plot = counter_sorted_session2[:40]\n",
    "itemids = [n[0] for n in nums_to_plot]\n",
    "expose_cnt = [n[1][0] for n in nums_to_plot]\n",
    "bought_cnt = [n[1][1] for n in nums_to_plot]\n",
    "bought_expose_ratio = [n[1][2] for n in nums_to_plot]\n",
    "X = np.arange(len(itemids))\n",
    "fig = plt.figure(figsize=(15, 5))\n",
    "ax = fig.add_axes([0,0,1,1])\n",
    "ax.bar(X + 0.00, expose_cnt, color = 'b', width = 0.2)\n",
    "ax.bar(X + 0.20, bought_cnt, color = 'r', width = 0.2)\n",
    "plt.xticks(X, itemids)\n",
    "plt.title('How many times is item exposed, bought? (Session2) sorted by ratio')\n",
    "plt.xlabel('itemid')\n",
    "plt.ylabel('item exposed, bought times')\n",
    "ax2 = ax.twinx()\n",
    "ax2.bar(X + 0.40, bought_expose_ratio, color = 'g', width = 0.2)\n",
    "ax2.set_ylim([0, 1])\n",
    "ax2.set_ylabel('ratio: bought/exposed', color='b')\n",
    "# plt.yscale('log')\n",
    "plt.show()\n",
    "\n",
    "\n",
    "nums_to_plot = counter_sorted_session3[:40]\n",
    "itemids = [n[0] for n in nums_to_plot]\n",
    "expose_cnt = [n[1][0] for n in nums_to_plot]\n",
    "bought_cnt = [n[1][1] for n in nums_to_plot]\n",
    "bought_expose_ratio = [n[1][2] for n in nums_to_plot]\n",
    "X = np.arange(len(itemids))\n",
    "fig = plt.figure(figsize=(15, 5))\n",
    "ax = fig.add_axes([0,0,1,1])\n",
    "ax.bar(X + 0.00, expose_cnt, color = 'b', width = 0.2)\n",
    "ax.bar(X + 0.20, bought_cnt, color = 'r', width = 0.2)\n",
    "plt.xticks(X, itemids)\n",
    "plt.title('How many times is item exposed, bought? (Session3) sorted by ratio')\n",
    "plt.xlabel('itemid')\n",
    "plt.ylabel('item exposed, bought times')\n",
    "ax2 = ax.twinx()\n",
    "ax2.bar(X + 0.40, bought_expose_ratio, color = 'g', width = 0.2)\n",
    "ax2.set_ylim([0, 1])\n",
    "ax2.set_ylabel('ratio: bought/exposed', color='b')\n",
    "# plt.yscale('log')\n",
    "plt.show()\n",
    "\n"
   ]
  },
  {
   "cell_type": "markdown",
   "id": "ad74dada",
   "metadata": {
    "execution": {
     "iopub.execute_input": "2021-07-13T11:45:30.087695Z",
     "iopub.status.busy": "2021-07-13T11:45:30.086863Z",
     "iopub.status.idle": "2021-07-13T11:45:30.092725Z",
     "shell.execute_reply": "2021-07-13T11:45:30.091964Z",
     "shell.execute_reply.started": "2021-07-13T11:45:30.087381Z"
    },
    "papermill": {
     "duration": 0.627362,
     "end_time": "2021-07-14T09:31:35.223158",
     "exception": false,
     "start_time": "2021-07-14T09:31:34.595796",
     "status": "completed"
    },
    "tags": []
   },
   "source": [
    "## User portrait"
   ]
  },
  {
   "cell_type": "markdown",
   "id": "51144d57",
   "metadata": {
    "papermill": {
     "duration": 0.574644,
     "end_time": "2021-07-14T09:31:36.370556",
     "exception": false,
     "start_time": "2021-07-14T09:31:35.795912",
     "status": "completed"
    },
    "tags": []
   },
   "source": [
    "how many unique portrait?"
   ]
  },
  {
   "cell_type": "code",
   "execution_count": 25,
   "id": "ed0b84ab",
   "metadata": {
    "execution": {
     "iopub.execute_input": "2021-07-14T09:31:37.521195Z",
     "iopub.status.busy": "2021-07-14T09:31:37.520482Z",
     "iopub.status.idle": "2021-07-14T09:32:00.087652Z",
     "shell.execute_reply": "2021-07-14T09:32:00.088375Z",
     "shell.execute_reply.started": "2021-07-13T12:31:24.959073Z"
    },
    "papermill": {
     "duration": 23.143666,
     "end_time": "2021-07-14T09:32:00.088602",
     "exception": false,
     "start_time": "2021-07-14T09:31:36.944936",
     "status": "completed"
    },
    "tags": []
   },
   "outputs": [
    {
     "name": "stderr",
     "output_type": "stream",
     "text": [
      "100%|██████████| 260087/260087 [00:02<00:00, 116814.92it/s]\n",
      "100%|██████████| 260087/260087 [00:02<00:00, 111366.27it/s]\n",
      "100%|██████████| 260087/260087 [00:02<00:00, 117584.94it/s]\n",
      "100%|██████████| 260087/260087 [00:02<00:00, 118172.53it/s]\n",
      "100%|██████████| 260087/260087 [00:02<00:00, 117238.75it/s]\n",
      "100%|██████████| 260087/260087 [00:02<00:00, 115484.11it/s]\n",
      "100%|██████████| 260087/260087 [00:02<00:00, 114788.41it/s]\n",
      "100%|██████████| 260087/260087 [00:02<00:00, 115327.78it/s]\n",
      "100%|██████████| 260087/260087 [00:02<00:00, 112204.82it/s]\n",
      "100%|██████████| 260087/260087 [00:02<00:00, 115313.20it/s]"
     ]
    },
    {
     "name": "stdout",
     "output_type": "stream",
     "text": [
      "{0: 3, 1: 1363, 2: 20, 3: 10, 4: 195, 5: 49, 6: 3, 7: 11, 8: 2, 9: 2164}\n"
     ]
    },
    {
     "name": "stderr",
     "output_type": "stream",
     "text": [
      "\n"
     ]
    }
   ],
   "source": [
    "# trainset\n",
    "portrait_idx_uniquevalue = {}\n",
    "for portrait_idx in range(10):\n",
    "    portrait_cnt = defaultdict(lambda: 0)\n",
    "    counter = defaultdict(lambda: [0, 0, 0])\n",
    "    for i in tqdm(range(df_trainset.shape[0])):\n",
    "        user_portrait = df_trainset.at[i, 'user_protrait'].split(',')\n",
    "        p = user_portrait[portrait_idx]\n",
    "        portrait_cnt[p] += 1\n",
    "    # pprint(portrait_cnt)\n",
    "    portrait_idx_uniquevalue[portrait_idx] = len(portrait_cnt.keys())\n",
    "\n",
    "print(portrait_idx_uniquevalue)"
   ]
  },
  {
   "cell_type": "code",
   "execution_count": 26,
   "id": "b963b875",
   "metadata": {
    "execution": {
     "iopub.execute_input": "2021-07-14T09:32:01.445840Z",
     "iopub.status.busy": "2021-07-14T09:32:01.445163Z",
     "iopub.status.idle": "2021-07-14T09:32:22.289761Z",
     "shell.execute_reply": "2021-07-14T09:32:22.288859Z",
     "shell.execute_reply.started": "2021-07-13T12:40:49.259856Z"
    },
    "papermill": {
     "duration": 21.489179,
     "end_time": "2021-07-14T09:32:22.289988",
     "exception": false,
     "start_time": "2021-07-14T09:32:00.800809",
     "status": "completed"
    },
    "tags": []
   },
   "outputs": [
    {
     "name": "stderr",
     "output_type": "stream",
     "text": [
      "100%|██████████| 206254/206254 [00:01<00:00, 115394.65it/s]\n",
      "100%|██████████| 206254/206254 [00:01<00:00, 109664.55it/s]\n",
      "100%|██████████| 206254/206254 [00:01<00:00, 118440.30it/s]\n",
      "100%|██████████| 206254/206254 [00:01<00:00, 119700.87it/s]\n",
      "100%|██████████| 206254/206254 [00:01<00:00, 118010.96it/s]\n",
      "100%|██████████| 206254/206254 [00:01<00:00, 113814.52it/s]\n",
      "100%|██████████| 206254/206254 [00:01<00:00, 117229.51it/s]\n",
      "100%|██████████| 206254/206254 [00:01<00:00, 117513.58it/s]\n",
      "100%|██████████| 206254/206254 [00:01<00:00, 119020.13it/s]\n",
      "100%|██████████| 206254/206254 [00:01<00:00, 116666.51it/s]"
     ]
    },
    {
     "name": "stdout",
     "output_type": "stream",
     "text": [
      "{0: 3, 1: 1319, 2: 19, 3: 10, 4: 191, 5: 47, 6: 3, 7: 13, 8: 2, 9: 2054}\n"
     ]
    },
    {
     "name": "stderr",
     "output_type": "stream",
     "text": [
      "\n"
     ]
    }
   ],
   "source": [
    "# testset track1\n",
    "df_testset_track1 = pd.read_csv('/kaggle/input/bigdata2021-rl-recsys/track1_testset.csv', sep=' ')\n",
    "\n",
    "portrait_idx_uniquevalue = {}\n",
    "for portrait_idx in range(10):\n",
    "    portrait_cnt = defaultdict(lambda: 0)\n",
    "    counter = defaultdict(lambda: [0, 0, 0])\n",
    "    for i in tqdm(range(df_testset_track1.shape[0])):\n",
    "        user_portrait = df_testset_track1.at[i, 'user_protrait'].split(',')\n",
    "        p = user_portrait[portrait_idx]\n",
    "        portrait_cnt[p] += 1\n",
    "    # pprint(portrait_cnt)\n",
    "    portrait_idx_uniquevalue[portrait_idx] = len(portrait_cnt.keys())\n",
    "\n",
    "print(portrait_idx_uniquevalue)"
   ]
  },
  {
   "cell_type": "code",
   "execution_count": 27,
   "id": "9b444b7a",
   "metadata": {
    "execution": {
     "iopub.execute_input": "2021-07-14T09:32:23.736994Z",
     "iopub.status.busy": "2021-07-14T09:32:23.736276Z",
     "iopub.status.idle": "2021-07-14T09:32:44.205800Z",
     "shell.execute_reply": "2021-07-14T09:32:44.205278Z",
     "shell.execute_reply.started": "2021-07-13T12:41:08.685743Z"
    },
    "papermill": {
     "duration": 21.201392,
     "end_time": "2021-07-14T09:32:44.205954",
     "exception": false,
     "start_time": "2021-07-14T09:32:23.004562",
     "status": "completed"
    },
    "tags": []
   },
   "outputs": [
    {
     "name": "stderr",
     "output_type": "stream",
     "text": [
      "100%|██████████| 206096/206096 [00:01<00:00, 117775.14it/s]\n",
      "100%|██████████| 206096/206096 [00:01<00:00, 116748.85it/s]\n",
      "100%|██████████| 206096/206096 [00:01<00:00, 118130.66it/s]\n",
      "100%|██████████| 206096/206096 [00:01<00:00, 117135.73it/s]\n",
      "100%|██████████| 206096/206096 [00:01<00:00, 115119.16it/s]\n",
      "100%|██████████| 206096/206096 [00:01<00:00, 115376.18it/s]\n",
      "100%|██████████| 206096/206096 [00:01<00:00, 115704.02it/s]\n",
      "100%|██████████| 206096/206096 [00:01<00:00, 116703.22it/s]\n",
      "100%|██████████| 206096/206096 [00:01<00:00, 114898.65it/s]\n",
      "100%|██████████| 206096/206096 [00:01<00:00, 116560.33it/s]"
     ]
    },
    {
     "name": "stdout",
     "output_type": "stream",
     "text": [
      "{0: 3, 1: 1341, 2: 20, 3: 10, 4: 190, 5: 47, 6: 3, 7: 11, 8: 2, 9: 2060}\n"
     ]
    },
    {
     "name": "stderr",
     "output_type": "stream",
     "text": [
      "\n"
     ]
    }
   ],
   "source": [
    "# testset track2\n",
    "df_testset_track2 = pd.read_csv('/kaggle/input/bigdata2021-rl-recsys/track2_testset.csv', sep=' ')\n",
    "\n",
    "portrait_idx_uniquevalue = {}\n",
    "for portrait_idx in range(10):\n",
    "    portrait_cnt = defaultdict(lambda: 0)\n",
    "    counter = defaultdict(lambda: [0, 0, 0])\n",
    "    for i in tqdm(range(df_testset_track2.shape[0])):\n",
    "        user_portrait = df_testset_track2.at[i, 'user_protrait'].split(',')\n",
    "        p = user_portrait[portrait_idx]\n",
    "        portrait_cnt[p] += 1\n",
    "    # pprint(portrait_cnt)\n",
    "    portrait_idx_uniquevalue[portrait_idx] = len(portrait_cnt.keys())\n",
    "\n",
    "print(portrait_idx_uniquevalue)"
   ]
  },
  {
   "cell_type": "code",
   "execution_count": null,
   "id": "1a031d0e",
   "metadata": {
    "papermill": {
     "duration": 0.761218,
     "end_time": "2021-07-14T09:32:45.748535",
     "exception": false,
     "start_time": "2021-07-14T09:32:44.987317",
     "status": "completed"
    },
    "tags": []
   },
   "outputs": [],
   "source": []
  },
  {
   "cell_type": "code",
   "execution_count": 28,
   "id": "808fe322",
   "metadata": {
    "execution": {
     "iopub.execute_input": "2021-07-14T09:32:47.281640Z",
     "iopub.status.busy": "2021-07-14T09:32:47.280884Z",
     "iopub.status.idle": "2021-07-14T09:32:49.503821Z",
     "shell.execute_reply": "2021-07-14T09:32:49.504352Z",
     "shell.execute_reply.started": "2021-07-13T13:14:00.565380Z"
    },
    "papermill": {
     "duration": 2.998825,
     "end_time": "2021-07-14T09:32:49.504531",
     "exception": false,
     "start_time": "2021-07-14T09:32:46.505706",
     "status": "completed"
    },
    "tags": []
   },
   "outputs": [
    {
     "name": "stderr",
     "output_type": "stream",
     "text": [
      "100%|██████████| 260087/260087 [00:02<00:00, 117553.48it/s]"
     ]
    },
    {
     "name": "stdout",
     "output_type": "stream",
     "text": [
      "defaultdict(<function <lambda> at 0x7f59547a8050>,\n",
      "            {'11606': 5335,\n",
      "             '16279': 1244,\n",
      "             '21927': 73113,\n",
      "             '37294': 82493,\n",
      "             '50138': 29042,\n",
      "             '55172': 3448,\n",
      "             '65505': 13456,\n",
      "             '6560': 5388,\n",
      "             '78349': 10419,\n",
      "             '83395': 4035,\n",
      "             '93716': 32114})\n"
     ]
    },
    {
     "name": "stderr",
     "output_type": "stream",
     "text": [
      "\n"
     ]
    }
   ],
   "source": [
    "portrait_cnt = defaultdict(lambda: 0)\n",
    "counter = defaultdict(lambda: [0, 0, 0])\n",
    "for i in tqdm(range(df_trainset.shape[0])):\n",
    "    user_portrait = df_trainset.at[i, 'user_protrait'].split(',')\n",
    "    p = user_portrait[7]\n",
    "    portrait_cnt[p] += 1\n",
    "pprint(portrait_cnt)"
   ]
  },
  {
   "cell_type": "code",
   "execution_count": 29,
   "id": "0a67c942",
   "metadata": {
    "execution": {
     "iopub.execute_input": "2021-07-14T09:32:51.042866Z",
     "iopub.status.busy": "2021-07-14T09:32:51.042135Z",
     "iopub.status.idle": "2021-07-14T09:32:52.784548Z",
     "shell.execute_reply": "2021-07-14T09:32:52.783623Z",
     "shell.execute_reply.started": "2021-07-13T13:14:17.577507Z"
    },
    "papermill": {
     "duration": 2.507992,
     "end_time": "2021-07-14T09:32:52.784756",
     "exception": false,
     "start_time": "2021-07-14T09:32:50.276764",
     "status": "completed"
    },
    "tags": []
   },
   "outputs": [
    {
     "name": "stderr",
     "output_type": "stream",
     "text": [
      "100%|██████████| 206254/206254 [00:01<00:00, 119158.95it/s]"
     ]
    },
    {
     "name": "stdout",
     "output_type": "stream",
     "text": [
      "defaultdict(<function <lambda> at 0x7f59547a8e60>,\n",
      "            {'11606': 4018,\n",
      "             '16279': 980,\n",
      "             '18954': 26,\n",
      "             '21927': 59085,\n",
      "             '37294': 65777,\n",
      "             '50138': 21561,\n",
      "             '55172': 2260,\n",
      "             '65505': 11547,\n",
      "             '6560': 3975,\n",
      "             '78349': 8749,\n",
      "             '83395': 2782,\n",
      "             '90068': 2,\n",
      "             '93716': 25492})\n"
     ]
    },
    {
     "name": "stderr",
     "output_type": "stream",
     "text": [
      "\n"
     ]
    }
   ],
   "source": [
    "portrait_cnt = defaultdict(lambda: 0)\n",
    "counter = defaultdict(lambda: [0, 0, 0])\n",
    "for i in tqdm(range(df_testset_track1.shape[0])):\n",
    "    user_portrait = df_testset_track1.at[i, 'user_protrait'].split(',')\n",
    "    p = user_portrait[7]\n",
    "    portrait_cnt[p] += 1\n",
    "pprint(portrait_cnt)"
   ]
  },
  {
   "cell_type": "code",
   "execution_count": 30,
   "id": "bae647d5",
   "metadata": {
    "execution": {
     "iopub.execute_input": "2021-07-14T09:32:54.365637Z",
     "iopub.status.busy": "2021-07-14T09:32:54.364953Z",
     "iopub.status.idle": "2021-07-14T09:32:56.130062Z",
     "shell.execute_reply": "2021-07-14T09:32:56.130542Z",
     "shell.execute_reply.started": "2021-07-13T13:14:27.671291Z"
    },
    "papermill": {
     "duration": 2.550936,
     "end_time": "2021-07-14T09:32:56.130727",
     "exception": false,
     "start_time": "2021-07-14T09:32:53.579791",
     "status": "completed"
    },
    "tags": []
   },
   "outputs": [
    {
     "name": "stderr",
     "output_type": "stream",
     "text": [
      "100%|██████████| 206096/206096 [00:01<00:00, 117449.52it/s]"
     ]
    },
    {
     "name": "stdout",
     "output_type": "stream",
     "text": [
      "defaultdict(<function <lambda> at 0x7f59547a88c0>,\n",
      "            {'11606': 3905,\n",
      "             '16279': 1012,\n",
      "             '21927': 58216,\n",
      "             '37294': 66550,\n",
      "             '50138': 21055,\n",
      "             '55172': 2378,\n",
      "             '65505': 10915,\n",
      "             '6560': 4671,\n",
      "             '78349': 9391,\n",
      "             '83395': 3171,\n",
      "             '93716': 24832})\n"
     ]
    },
    {
     "name": "stderr",
     "output_type": "stream",
     "text": [
      "\n"
     ]
    }
   ],
   "source": [
    "portrait_cnt = defaultdict(lambda: 0)\n",
    "counter = defaultdict(lambda: [0, 0, 0])\n",
    "for i in tqdm(range(df_testset_track2.shape[0])):\n",
    "    user_portrait = df_testset_track2.at[i, 'user_protrait'].split(',')\n",
    "    p = user_portrait[7]\n",
    "    portrait_cnt[p] += 1\n",
    "pprint(portrait_cnt)"
   ]
  },
  {
   "cell_type": "code",
   "execution_count": 31,
   "id": "54706c39",
   "metadata": {
    "execution": {
     "iopub.execute_input": "2021-07-14T09:32:57.767730Z",
     "iopub.status.busy": "2021-07-14T09:32:57.766832Z",
     "iopub.status.idle": "2021-07-14T09:32:59.418481Z",
     "shell.execute_reply": "2021-07-14T09:32:59.417859Z",
     "shell.execute_reply.started": "2021-07-13T15:33:08.586636Z"
    },
    "papermill": {
     "duration": 2.510365,
     "end_time": "2021-07-14T09:32:59.418625",
     "exception": false,
     "start_time": "2021-07-14T09:32:56.908260",
     "status": "completed"
    },
    "tags": []
   },
   "outputs": [],
   "source": [
    "df_testset_track1 = pd.read_csv('/kaggle/input/bigdata2021-rl-recsys/track1_testset.csv', sep=' ')\n"
   ]
  },
  {
   "cell_type": "code",
   "execution_count": 32,
   "id": "9a278945",
   "metadata": {
    "execution": {
     "iopub.execute_input": "2021-07-14T09:33:00.997858Z",
     "iopub.status.busy": "2021-07-14T09:33:00.997152Z",
     "iopub.status.idle": "2021-07-14T09:33:13.454584Z",
     "shell.execute_reply": "2021-07-14T09:33:13.455211Z",
     "shell.execute_reply.started": "2021-07-13T15:33:12.089871Z"
    },
    "papermill": {
     "duration": 13.246758,
     "end_time": "2021-07-14T09:33:13.455413",
     "exception": false,
     "start_time": "2021-07-14T09:33:00.208655",
     "status": "completed"
    },
    "tags": []
   },
   "outputs": [
    {
     "name": "stderr",
     "output_type": "stream",
     "text": [
      "100%|██████████| 206254/206254 [00:01<00:00, 116453.72it/s]\n",
      "  6%|▌         | 11419/206254 [00:00<00:01, 114178.40it/s]"
     ]
    },
    {
     "name": "stdout",
     "output_type": "stream",
     "text": [
      "0 defaultdict(<function <lambda> at 0x7f59547a1a70>, {'64054': 182459, '92265': 23705, '90378': 90})\n"
     ]
    },
    {
     "name": "stderr",
     "output_type": "stream",
     "text": [
      "100%|██████████| 206254/206254 [00:01<00:00, 117428.03it/s]\n",
      "  5%|▌         | 11138/206254 [00:00<00:01, 111367.36it/s]"
     ]
    },
    {
     "name": "stdout",
     "output_type": "stream",
     "text": [
      "2 defaultdict(<function <lambda> at 0x7f59444b5200>, {'66367': 2358, '6599': 114101, '93755': 16184, '63021': 6639, '52700': 7196, '34810': 10369, '38156': 6091, '94578': 1630, '80911': 8248, '50177': 6304, '65544': 9194, '21966': 7115, '78388': 8872, '81734': 34, '25312': 334, '22789': 1360, '53523': 86, '77828': 90, '9945': 49})\n"
     ]
    },
    {
     "name": "stderr",
     "output_type": "stream",
     "text": [
      "100%|██████████| 206254/206254 [00:01<00:00, 115716.34it/s]\n",
      "  5%|▌         | 11273/206254 [00:00<00:01, 112722.58it/s]"
     ]
    },
    {
     "name": "stdout",
     "output_type": "stream",
     "text": [
      "3 defaultdict(<function <lambda> at 0x7f59547a8950>, {'44932': 14578, '36504': 91103, '16721': 29210, '6400': 3570, '29565': 9468, '88510': 24719, '73143': 15904, '34611': 5017, '84616': 6271, '1354': 6414})\n"
     ]
    },
    {
     "name": "stderr",
     "output_type": "stream",
     "text": [
      "100%|██████████| 206254/206254 [00:01<00:00, 115699.95it/s]\n",
      "  5%|▌         | 10888/206254 [00:00<00:01, 108870.24it/s]"
     ]
    },
    {
     "name": "stdout",
     "output_type": "stream",
     "text": [
      "5 defaultdict(<function <lambda> at 0x7f59547a8f80>, {'20543': 27917, '37350': 23444, '38762': 429, '7615': 71850, '11973': 30729, '44119': 11051, '63681': 5983, '85441': 1484, '70783': 3277, '80092': 1196, '69075': 3087, '49967': 308, '93364': 16745, '52128': 310, '52399': 1263, '51959': 923, '88933': 1026, '43316': 252, '20358': 356, '18673': 76, '55646': 357, '40097': 884, '81740': 290, '59842': 457, '40240': 339, '65360': 431, '21179': 268, '44154': 31, '39206': 678, '29198': 31, '31936': 154, '77998': 89, '87390': 143, '20159': 74, '72388': 29, '16913': 19, '27638': 67, '36118': 12, '7028': 59, '86550': 22, '53679': 90, '18306': 2, '7086': 1, '14107': 4, '54002': 15, '66803': 1, '30618': 1})\n"
     ]
    },
    {
     "name": "stderr",
     "output_type": "stream",
     "text": [
      "100%|██████████| 206254/206254 [00:01<00:00, 114869.36it/s]\n",
      "  6%|▌         | 11606/206254 [00:00<00:01, 116044.62it/s]"
     ]
    },
    {
     "name": "stdout",
     "output_type": "stream",
     "text": [
      "6 defaultdict(<function <lambda> at 0x7f59547a8b00>, {'83978': 134314, '54240': 71850, '11354': 90})\n"
     ]
    },
    {
     "name": "stderr",
     "output_type": "stream",
     "text": [
      "100%|██████████| 206254/206254 [00:01<00:00, 115573.32it/s]\n",
      "  5%|▌         | 10832/206254 [00:00<00:01, 108305.64it/s]"
     ]
    },
    {
     "name": "stdout",
     "output_type": "stream",
     "text": [
      "7 defaultdict(<function <lambda> at 0x7f59547a8b90>, {'50138': 21561, '21927': 59085, '37294': 65777, '65505': 11547, '93716': 25492, '55172': 2260, '83395': 2782, '78349': 8749, '11606': 4018, '6560': 3975, '16279': 980, '18954': 26, '90068': 2})\n"
     ]
    },
    {
     "name": "stderr",
     "output_type": "stream",
     "text": [
      "100%|██████████| 206254/206254 [00:01<00:00, 116981.99it/s]"
     ]
    },
    {
     "name": "stdout",
     "output_type": "stream",
     "text": [
      "8 defaultdict(<function <lambda> at 0x7f593e890a70>, {'74820': 201181, '3031': 5073})\n",
      "{0: 3, 2: 19, 3: 10, 5: 47, 6: 3, 7: 13, 8: 2}\n"
     ]
    },
    {
     "name": "stderr",
     "output_type": "stream",
     "text": [
      "\n"
     ]
    }
   ],
   "source": [
    "# trainset\n",
    "portrait_idx_uniquevalue = {}\n",
    "for portrait_idx in [0,2,3,5,6,7,8]:\n",
    "    portrait_cnt = defaultdict(lambda: 0)\n",
    "    counter = defaultdict(lambda: [0, 0, 0])\n",
    "    for i in tqdm(range(df_testset_track1.shape[0])):\n",
    "        user_portrait = df_testset_track1.at[i, 'user_protrait'].split(',')\n",
    "        p = user_portrait[portrait_idx]\n",
    "        portrait_cnt[p] += 1\n",
    "    print(portrait_idx, portrait_cnt)\n",
    "    portrait_idx_uniquevalue[portrait_idx] = len(portrait_cnt.keys())\n",
    "\n",
    "print(portrait_idx_uniquevalue)"
   ]
  },
  {
   "cell_type": "code",
   "execution_count": null,
   "id": "61592602",
   "metadata": {
    "papermill": {
     "duration": 0.889297,
     "end_time": "2021-07-14T09:33:15.226431",
     "exception": false,
     "start_time": "2021-07-14T09:33:14.337134",
     "status": "completed"
    },
    "tags": []
   },
   "outputs": [],
   "source": []
  },
  {
   "cell_type": "code",
   "execution_count": null,
   "id": "b1b9e175",
   "metadata": {
    "papermill": {
     "duration": 0.830489,
     "end_time": "2021-07-14T09:33:16.899444",
     "exception": false,
     "start_time": "2021-07-14T09:33:16.068955",
     "status": "completed"
    },
    "tags": []
   },
   "outputs": [],
   "source": []
  },
  {
   "cell_type": "code",
   "execution_count": null,
   "id": "856dcd4c",
   "metadata": {
    "papermill": {
     "duration": 0.821792,
     "end_time": "2021-07-14T09:33:18.549803",
     "exception": false,
     "start_time": "2021-07-14T09:33:17.728011",
     "status": "completed"
    },
    "tags": []
   },
   "outputs": [],
   "source": []
  },
  {
   "cell_type": "code",
   "execution_count": null,
   "id": "cd0ca7cf",
   "metadata": {
    "papermill": {
     "duration": 0.885735,
     "end_time": "2021-07-14T09:33:20.246272",
     "exception": false,
     "start_time": "2021-07-14T09:33:19.360537",
     "status": "completed"
    },
    "tags": []
   },
   "outputs": [],
   "source": []
  },
  {
   "cell_type": "markdown",
   "id": "72fad921",
   "metadata": {
    "papermill": {
     "duration": 0.838186,
     "end_time": "2021-07-14T09:33:21.952643",
     "exception": false,
     "start_time": "2021-07-14T09:33:21.114457",
     "status": "completed"
    },
    "tags": []
   },
   "source": [
    "## item vec study"
   ]
  },
  {
   "cell_type": "code",
   "execution_count": 33,
   "id": "1d174092",
   "metadata": {
    "execution": {
     "iopub.execute_input": "2021-07-14T09:33:23.627174Z",
     "iopub.status.busy": "2021-07-14T09:33:23.626468Z",
     "iopub.status.idle": "2021-07-14T09:33:23.680956Z",
     "shell.execute_reply": "2021-07-14T09:33:23.680239Z",
     "shell.execute_reply.started": "2021-07-13T15:14:23.453550Z"
    },
    "papermill": {
     "duration": 0.895076,
     "end_time": "2021-07-14T09:33:23.681109",
     "exception": false,
     "start_time": "2021-07-14T09:33:22.786033",
     "status": "completed"
    },
    "tags": []
   },
   "outputs": [
    {
     "name": "stderr",
     "output_type": "stream",
     "text": [
      "100%|██████████| 381/381 [00:00<00:00, 97816.60it/s]\n",
      "100%|██████████| 381/381 [00:00<00:00, 87914.94it/s]\n",
      "100%|██████████| 381/381 [00:00<00:00, 105661.85it/s]\n",
      "100%|██████████| 381/381 [00:00<00:00, 92698.52it/s]\n",
      "100%|██████████| 381/381 [00:00<00:00, 95336.46it/s]"
     ]
    },
    {
     "name": "stdout",
     "output_type": "stream",
     "text": [
      "0 defaultdict(<function <lambda> at 0x7f593e890dd0>, {'2': 68, '3': 62, '4': 53, '1': 198})\n",
      "1 defaultdict(<function <lambda> at 0x7f59547bf320>, {'2': 11, '0': 203, '8': 11, '7': 32, '3': 11, '9': 8, '4': 8, '1': 89, '6': 6, '5': 2})\n",
      "2 defaultdict(<function <lambda> at 0x7f59547bf050>, {'1': 250, '2': 131})\n",
      "3 defaultdict(<function <lambda> at 0x7f59547bf200>, {'0.015764': 1, '0.012539': 1, '0.007518': 1, '0.007163': 1, '0.015435': 1, '0.007420': 1, '0.006577': 1, '0.005922': 1, '0.006482': 1, '0.008988': 1, '0.005072': 1, '0.003964': 1, '0.003703': 1, '0.020479': 1, '0.011079': 1, '0.006915': 1, '0.003611': 2, '0.007712': 1, '0.008415': 1, '0.006094': 1, '0.009465': 1, '0.003006': 1, '0.002788': 1, '0.005180': 1, '0.010060': 1, '0.006356': 1, '0.005330': 1, '0.025387': 1, '0.017173': 1, '0.006855': 1, '0.009008': 1, '0.014726': 1, '0.011241': 1, '0.007597': 1, '0.007587': 1, '0.004046': 1, '0.003558': 1, '0.004999': 1, '0.008100': 1, '0.003261': 1, '0.003934': 1, '0.001694': 1, '0.003671': 1, '0.002024': 1, '0.002616': 1, '0.003042': 1, '0.001919': 1, '0.001396': 1, '0.001290': 1, '0.001718': 1, '0.004175': 1, '0.003580': 1, '0.004346': 1, '0.003248': 1, '0.004162': 1, '0.007158': 1, '0.001967': 1, '0.003057': 1, '0.001351': 1, '0.001187': 1, '0.001823': 1, '0.000283': 1, '0.000173': 1, '0.000322': 1, '0.000267': 2, '0.000351': 1, '0.000132': 1, '0.000159': 1, '0.000192': 1, '7.556912': 1, '0.000117': 1, '0.007606': 1, '0.012543': 1, '0.005041': 1, '0.003320': 1, '0.005050': 1, '0.014142': 1, '0.004555': 1, '0.003546': 1, '0.004564': 1, '0.004641': 1, '0.002504': 1, '0.003155': 1, '0.008043': 1, '0.004025': 1, '0.012211': 1, '0.003048': 1, '0.002741': 1, '0.000472': 1, '0.000384': 1, '0.000465': 1, '0.000376': 1, '0.000821': 1, '0.000275': 1, '8.385067': 1, '9.316741': 1, '0.000138': 1, '0.000367': 1, '0.005746': 1, '0.005364': 1, '0.008328': 1, '0.004198': 1, '0.002818': 1, '0.003628': 1, '0.004946': 1, '0.005325': 1, '0.003495': 1, '0.002860': 1, '0.003028': 1, '0.003062': 1, '0.003356': 1, '0.003303': 1, '0.005074': 1, '0.003972': 1, '0.000325': 2, '0.000231': 2, '0.000228': 2, '0.000401': 1, '0.000331': 1, '0.000237': 1, '0.000189': 1, '0.000136': 1, '0.000183': 1, '0.009336': 1, '0.011133': 1, '0.011817': 1, '0.004463': 1, '0.008188': 1, '0.012727': 1, '0.005900': 1, '0.006460': 1, '0.004755': 1, '0.003286': 2, '0.003244': 1, '0.004109': 1, '0.004603': 1, '0.000355': 1, '0.000200': 1, '0.000199': 1, '0.001010': 1, '0.000194': 1, '0.000240': 2, '0.000545': 1, '0.000115': 1, '0.000239': 1, '0.008558': 1, '0.004843': 1, '0.004831': 1, '0.005039': 1, '0.002150': 1, '0.003003': 1, '0.004133': 1, '0.001984': 1, '0.000984': 1, '0.002295': 1, '0.007644': 1, '0.004658': 1, '0.003498': 1, '0.001682': 2, '0.002253': 1, '0.025647': 1, '0.002825': 1, '0.003389': 1, '0.002107': 1, '0.001404': 1, '0.001186': 1, '0.004389': 1, '0.003821': 1, '0.016632': 1, '0.000956': 1, '0.000352': 1, '0.000235': 1, '0.000410': 1, '0.000208': 1, '0.000497': 1, '0.000203': 1, '0.000444': 1, '0.000234': 1, '0': 131, '0.004178': 1, '0.005630': 1, '0.002873': 1, '0.002364': 1, '0.003514': 1, '0.002658': 1, '0.002968': 2, '0.003396': 1, '0.003160': 1, '0.003380': 1, '0.003072': 1, '0.018781': 1, '0.001609': 1, '0.011623': 1, '0.016360': 1, '0.000420': 1, '0.000233': 1, '0.000268': 1, '0.000396': 1, '0.000707': 1, '0.000295': 1, '0.000142': 1, '0.000158': 1, '0.005163': 1, '0.005736': 1, '0.008311': 1, '0.003002': 1, '0.001786': 1, '0.002849': 1, '0.003243': 1, '0.003909': 1, '0.003441': 1, '0.003607': 1, '0.002376': 1, '0.002917': 1, '0.000348': 1, '0.000290': 1, '0.000279': 1, '0.000217': 1, '0.000369': 1, '9.627299': 1, '0.000152': 1, '6.142147': 1, '0.000195': 1, '0.000193': 1, '0.008887': 1, '0.010738': 1, '0.010352': 1, '0.002055': 1, '0.008380': 1, '0.005549': 1, '0.006741': 1, '0.006653': 1, '0.000256': 2, '0.000179': 1, '0.000207': 1, '0.000215': 1, '0.000669': 1, '6.901289': 1, '0.000227': 1, '0.000126': 1, '0.000161': 1})\n",
      "4 defaultdict(<function <lambda> at 0x7f59547bfb00>, {'0.833': 2, '0.776': 1, '0.721': 2, '0.806': 1, '0.710': 1, '0.734': 1, '0.674': 1, '0.660': 1, '0.690': 1, '0.749': 1, '0.714': 1, '0.746': 2, '0.812': 1, '0.846': 1, '0.767': 1, '0.678': 1, '0.789': 1, '0.781': 1, '0.599': 2, '0.667': 1, '0.652': 1, '0.633': 1, '0.558': 1, '0.728': 1, '0.695': 1, '0.851': 1, '0.831': 1, '0.619': 2, '0.696': 1, '0.783': 1, '0.739': 1, '0.711': 1, '0.608': 1, '0.611': 2, '0.645': 3, '0.693': 3, '0.267': 2, '0.373': 1, '0.110': 1, '0.414': 1, '0.170': 2, '0.195': 2, '0.309': 1, '0.149': 1, '0.098': 1, '0.100': 1, '0.138': 1, '0.436': 1, '0.457': 1, '0.490': 1, '0.374': 2, '0.375': 1, '0.501': 1, '0.256': 1, '0.466': 1, '0.206': 1, '0.141': 1, '0.446': 1, '0.449': 1, '0.282': 1, '0.411': 1, '0.390': 1, '0.484': 2, '0.334': 1, '0.509': 1, '0.310': 1, '0.269': 1, '0.281': 1, '0.624': 1, '0.574': 1, '0.559': 2, '0.495': 1, '0.622': 2, '0.512': 1, '0.473': 2, '0.542': 1, '0.530': 2, '0.765': 1, '0.524': 1, '0.506': 2, '0.762': 1, '0.686': 1, '0.700': 3, '0.668': 1, '0.482': 1, '0.607': 1, '0.604': 2, '0.637': 1, '0.594': 2, '0.658': 1, '0.653': 2, '0.519': 2, '0.433': 1, '0.589': 1, '0.615': 1, '0.601': 1, '0.504': 1, '0.451': 1, '0.452': 1, '0.496': 1, '0.508': 1, '0.453': 1, '0.629': 1, '0.502': 1, '0.569': 1, '0.549': 1, '0.606': 1, '0.620': 1, '0.664': 1, '0.673': 1, '0.628': 1, '0.500': 1, '0.472': 1, '0.532': 1, '0.531': 1, '0.460': 1, '0.515': 1, '0.554': 1, '0.492': 1, '0.560': 1, '0.590': 1, '0.459': 1, '0.656': 1, '0.584': 1, '0.647': 1, '0.657': 1, '0.064': 1, '0.069': 2, '0.047': 1, '0.073': 1, '0.009': 1, '0.048': 1, '0.062': 1, '0.037': 2, '0.033': 1, '0.013': 1, '0.012': 1, '0.094': 1, '0.070': 1, '0.087': 1, '0.051': 1, '0.439': 1, '0.036': 1, '0.042': 2, '0.015': 1, '0.007': 1, '0.002': 1, '0.049': 1, '0.237': 1, '0.125': 1, '0.105': 2, '0.074': 2, '0.155': 1, '0.086': 2, '0.072': 1, '0.076': 1, '0': 131, '0.355': 1, '0.365': 1, '0.240': 1, '0.306': 1, '0.234': 1, '0.261': 1, '0.200': 2, '0.201': 1, '0.251': 3, '0.111': 1, '0.028': 1, '0.034': 1, '0.370': 2, '0.666': 1, '0.254': 1, '0.245': 1, '0.228': 2, '0.349': 1, '0.169': 1, '0.230': 1, '0.247': 1, '0.194': 1, '0.371': 1, '0.408': 1, '0.405': 1, '0.203': 1, '0.067': 1, '0.293': 1, '0.329': 1, '0.290': 1, '0.307': 1, '0.207': 1, '0.150': 1, '0.093': 1, '0.168': 1, '0.131': 1, '0.193': 1, '0.243': 1, '0.187': 1, '0.235': 1, '0.253': 1, '0.178': 1, '0.442': 1, '0.538': 1, '0.548': 1, '0.163': 1, '0.419': 1, '0.488': 1, '0.476': 1, '0.412': 1, '0.347': 1, '0.400': 1, '0.225': 1, '0.387': 1, '0.257': 1, '0.410': 1, '0.323': 1})\n",
      "{0: 4, 1: 10, 2: 2, 3: 241, 4: 214}\n"
     ]
    },
    {
     "name": "stderr",
     "output_type": "stream",
     "text": [
      "\n"
     ]
    }
   ],
   "source": [
    "df_item_info = pd.read_csv('/kaggle/input/bigdata2021-rl-recsys/item_info.csv', sep=' ')\n",
    "\n",
    "user_vec_uniquevalue = {}\n",
    "for item_idx in range(5):\n",
    "    item_cnt = defaultdict(lambda: 0)\n",
    "    counter = defaultdict(lambda: [0, 0, 0])\n",
    "    for i in tqdm(range(df_item_info.shape[0])):\n",
    "        item_vec = df_item_info.at[i, 'item_vec'].split(',')\n",
    "        p = item_vec[item_idx]\n",
    "        item_cnt[p] += 1\n",
    "    # pprint(portrait_cnt)\n",
    "    user_vec_uniquevalue[item_idx] = len(item_cnt.keys())\n",
    "    print(item_idx, item_cnt)\n",
    "print(user_vec_uniquevalue)"
   ]
  },
  {
   "cell_type": "code",
   "execution_count": 34,
   "id": "33cf5105",
   "metadata": {
    "execution": {
     "iopub.execute_input": "2021-07-14T09:33:25.364559Z",
     "iopub.status.busy": "2021-07-14T09:33:25.363870Z",
     "iopub.status.idle": "2021-07-14T09:33:25.368430Z",
     "shell.execute_reply": "2021-07-14T09:33:25.367877Z",
     "shell.execute_reply.started": "2021-07-13T13:21:11.287233Z"
    },
    "papermill": {
     "duration": 0.826777,
     "end_time": "2021-07-14T09:33:25.368565",
     "exception": false,
     "start_time": "2021-07-14T09:33:24.541788",
     "status": "completed"
    },
    "tags": []
   },
   "outputs": [
    {
     "data": {
      "text/html": [
       "<div>\n",
       "<style scoped>\n",
       "    .dataframe tbody tr th:only-of-type {\n",
       "        vertical-align: middle;\n",
       "    }\n",
       "\n",
       "    .dataframe tbody tr th {\n",
       "        vertical-align: top;\n",
       "    }\n",
       "\n",
       "    .dataframe thead th {\n",
       "        text-align: right;\n",
       "    }\n",
       "</style>\n",
       "<table border=\"1\" class=\"dataframe\">\n",
       "  <thead>\n",
       "    <tr style=\"text-align: right;\">\n",
       "      <th></th>\n",
       "      <th>item_id</th>\n",
       "      <th>item_vec</th>\n",
       "      <th>price</th>\n",
       "      <th>location</th>\n",
       "    </tr>\n",
       "  </thead>\n",
       "  <tbody>\n",
       "    <tr>\n",
       "      <th>0</th>\n",
       "      <td>1</td>\n",
       "      <td>2,2,1,0.015764,0.833</td>\n",
       "      <td>2954</td>\n",
       "      <td>1</td>\n",
       "    </tr>\n",
       "    <tr>\n",
       "      <th>1</th>\n",
       "      <td>2</td>\n",
       "      <td>2,0,1,0.012539,0.776</td>\n",
       "      <td>179</td>\n",
       "      <td>1</td>\n",
       "    </tr>\n",
       "    <tr>\n",
       "      <th>2</th>\n",
       "      <td>3</td>\n",
       "      <td>2,8,1,0.007518,0.721</td>\n",
       "      <td>757</td>\n",
       "      <td>1</td>\n",
       "    </tr>\n",
       "    <tr>\n",
       "      <th>3</th>\n",
       "      <td>4</td>\n",
       "      <td>2,0,1,0.007163,0.806</td>\n",
       "      <td>1486</td>\n",
       "      <td>1</td>\n",
       "    </tr>\n",
       "    <tr>\n",
       "      <th>4</th>\n",
       "      <td>5</td>\n",
       "      <td>2,0,1,0.015435,0.710</td>\n",
       "      <td>593</td>\n",
       "      <td>1</td>\n",
       "    </tr>\n",
       "  </tbody>\n",
       "</table>\n",
       "</div>"
      ],
      "text/plain": [
       "   item_id              item_vec  price  location\n",
       "0        1  2,2,1,0.015764,0.833   2954         1\n",
       "1        2  2,0,1,0.012539,0.776    179         1\n",
       "2        3  2,8,1,0.007518,0.721    757         1\n",
       "3        4  2,0,1,0.007163,0.806   1486         1\n",
       "4        5  2,0,1,0.015435,0.710    593         1"
      ]
     },
     "execution_count": 34,
     "metadata": {},
     "output_type": "execute_result"
    }
   ],
   "source": [
    "df_item_info.head()"
   ]
  },
  {
   "cell_type": "code",
   "execution_count": null,
   "id": "a8137c0a",
   "metadata": {
    "papermill": {
     "duration": 0.814628,
     "end_time": "2021-07-14T09:33:26.996796",
     "exception": false,
     "start_time": "2021-07-14T09:33:26.182168",
     "status": "completed"
    },
    "tags": []
   },
   "outputs": [],
   "source": []
  },
  {
   "cell_type": "code",
   "execution_count": null,
   "id": "bcd591a5",
   "metadata": {
    "papermill": {
     "duration": 0.855629,
     "end_time": "2021-07-14T09:33:28.675008",
     "exception": false,
     "start_time": "2021-07-14T09:33:27.819379",
     "status": "completed"
    },
    "tags": []
   },
   "outputs": [],
   "source": []
  },
  {
   "cell_type": "code",
   "execution_count": null,
   "id": "6c8ac2dc",
   "metadata": {
    "papermill": {
     "duration": 0.822802,
     "end_time": "2021-07-14T09:33:30.310940",
     "exception": false,
     "start_time": "2021-07-14T09:33:29.488138",
     "status": "completed"
    },
    "tags": []
   },
   "outputs": [],
   "source": []
  },
  {
   "cell_type": "markdown",
   "id": "2fce77b2",
   "metadata": {
    "papermill": {
     "duration": 0.851905,
     "end_time": "2021-07-14T09:33:31.989141",
     "exception": false,
     "start_time": "2021-07-14T09:33:31.137236",
     "status": "completed"
    },
    "tags": []
   },
   "source": [
    "### Correlation"
   ]
  },
  {
   "cell_type": "code",
   "execution_count": 35,
   "id": "dfa18c12",
   "metadata": {
    "execution": {
     "iopub.execute_input": "2021-07-14T09:33:33.641287Z",
     "iopub.status.busy": "2021-07-14T09:33:33.640577Z",
     "iopub.status.idle": "2021-07-14T09:33:49.130126Z",
     "shell.execute_reply": "2021-07-14T09:33:49.130895Z",
     "shell.execute_reply.started": "2021-07-13T16:10:04.067036Z"
    },
    "papermill": {
     "duration": 16.324229,
     "end_time": "2021-07-14T09:33:49.131164",
     "exception": false,
     "start_time": "2021-07-14T09:33:32.806935",
     "status": "completed"
    },
    "tags": []
   },
   "outputs": [
    {
     "name": "stderr",
     "output_type": "stream",
     "text": [
      "100%|██████████| 260087/260087 [00:13<00:00, 19306.65it/s]\n"
     ]
    }
   ],
   "source": [
    "df_trainset = pd.read_csv('/kaggle/input/bigdata2021-rl-recsys/trainset.csv', sep=' ')\n",
    "\n",
    "for i in tqdm(range(df_trainset.shape[0])):\n",
    "    # change time in user_click_history into human readable format\n",
    "    # notice that some user_click_history == '0:0', which means there is no click history for this user\n",
    "    t = df_trainset.at[i, 'user_click_history']\n",
    "    if t == '0:0':\n",
    "        df_trainset.at[i, 'len_user_click_history'] = 0\n",
    "    else:\n",
    "        df_trainset.at[i, 'len_user_click_history'] = len(df_trainset.at[i, 'user_click_history'].split(','))\n",
    "    \n",
    "    df_trainset.at[i, 'num_bought'] = sum([int(a) for a in df_trainset.at[i, 'labels'].split(',')])"
   ]
  },
  {
   "cell_type": "code",
   "execution_count": 36,
   "id": "48672b02",
   "metadata": {
    "execution": {
     "iopub.execute_input": "2021-07-14T09:33:50.886282Z",
     "iopub.status.busy": "2021-07-14T09:33:50.885525Z",
     "iopub.status.idle": "2021-07-14T09:33:50.890739Z",
     "shell.execute_reply": "2021-07-14T09:33:50.890109Z",
     "shell.execute_reply.started": "2021-07-13T16:10:17.223406Z"
    },
    "papermill": {
     "duration": 0.888798,
     "end_time": "2021-07-14T09:33:50.890958",
     "exception": false,
     "start_time": "2021-07-14T09:33:50.002160",
     "status": "completed"
    },
    "tags": []
   },
   "outputs": [
    {
     "data": {
      "text/html": [
       "<div>\n",
       "<style scoped>\n",
       "    .dataframe tbody tr th:only-of-type {\n",
       "        vertical-align: middle;\n",
       "    }\n",
       "\n",
       "    .dataframe tbody tr th {\n",
       "        vertical-align: top;\n",
       "    }\n",
       "\n",
       "    .dataframe thead th {\n",
       "        text-align: right;\n",
       "    }\n",
       "</style>\n",
       "<table border=\"1\" class=\"dataframe\">\n",
       "  <thead>\n",
       "    <tr style=\"text-align: right;\">\n",
       "      <th></th>\n",
       "      <th>user_id</th>\n",
       "      <th>user_click_history</th>\n",
       "      <th>user_protrait</th>\n",
       "      <th>exposed_items</th>\n",
       "      <th>labels</th>\n",
       "      <th>time</th>\n",
       "      <th>len_user_click_history</th>\n",
       "      <th>num_bought</th>\n",
       "    </tr>\n",
       "  </thead>\n",
       "  <tbody>\n",
       "    <tr>\n",
       "      <th>0</th>\n",
       "      <td>1</td>\n",
       "      <td>30:1580603130,34:1581178937,15:1581178939,28:1...</td>\n",
       "      <td>64054,21804,80911,36504,8867,7615,54240,37294,...</td>\n",
       "      <td>1,20,28,99,86,119,213,237,164</td>\n",
       "      <td>1,1,1,1,1,1,1,1,1</td>\n",
       "      <td>1582992009</td>\n",
       "      <td>74.0</td>\n",
       "      <td>9.0</td>\n",
       "    </tr>\n",
       "    <tr>\n",
       "      <th>1</th>\n",
       "      <td>2</td>\n",
       "      <td>20:1580644762,13:1580644765,1:1580644770,127:1...</td>\n",
       "      <td>64054,26565,93755,88510,6344,7615,54240,21927,...</td>\n",
       "      <td>1,4,26,112,86,117,191,234,172</td>\n",
       "      <td>1,1,1,1,1,1,1,1,0</td>\n",
       "      <td>1582992010</td>\n",
       "      <td>55.0</td>\n",
       "      <td>8.0</td>\n",
       "    </tr>\n",
       "    <tr>\n",
       "      <th>2</th>\n",
       "      <td>3</td>\n",
       "      <td>39:1580772975,6:1580772981,1:1581178309,2:1581...</td>\n",
       "      <td>64054,64086,63021,88510,93500,7615,54240,21927...</td>\n",
       "      <td>22,4,28,48,105,42,193,236,159</td>\n",
       "      <td>1,1,1,0,1,0,0,0,0</td>\n",
       "      <td>1582992014</td>\n",
       "      <td>17.0</td>\n",
       "      <td>4.0</td>\n",
       "    </tr>\n",
       "    <tr>\n",
       "      <th>3</th>\n",
       "      <td>4</td>\n",
       "      <td>6:1580657608,9:1580657612,15:1580657615,127:15...</td>\n",
       "      <td>64054,21531,6599,16721,37078,7615,54240,65505,...</td>\n",
       "      <td>5,16,1,74,133,122,235,218,172</td>\n",
       "      <td>1,1,1,1,1,1,1,1,0</td>\n",
       "      <td>1582992014</td>\n",
       "      <td>64.0</td>\n",
       "      <td>8.0</td>\n",
       "    </tr>\n",
       "    <tr>\n",
       "      <th>4</th>\n",
       "      <td>5</td>\n",
       "      <td>37:1580743545,36:1580743554,25:1580743556,37:1...</td>\n",
       "      <td>64054,66036,6599,88510,76066,20543,83978,37294...</td>\n",
       "      <td>6,1,16,85,73,112,239,172,205</td>\n",
       "      <td>1,1,1,1,1,1,1,1,1</td>\n",
       "      <td>1582992017</td>\n",
       "      <td>40.0</td>\n",
       "      <td>9.0</td>\n",
       "    </tr>\n",
       "  </tbody>\n",
       "</table>\n",
       "</div>"
      ],
      "text/plain": [
       "   user_id                                 user_click_history  \\\n",
       "0        1  30:1580603130,34:1581178937,15:1581178939,28:1...   \n",
       "1        2  20:1580644762,13:1580644765,1:1580644770,127:1...   \n",
       "2        3  39:1580772975,6:1580772981,1:1581178309,2:1581...   \n",
       "3        4  6:1580657608,9:1580657612,15:1580657615,127:15...   \n",
       "4        5  37:1580743545,36:1580743554,25:1580743556,37:1...   \n",
       "\n",
       "                                       user_protrait  \\\n",
       "0  64054,21804,80911,36504,8867,7615,54240,37294,...   \n",
       "1  64054,26565,93755,88510,6344,7615,54240,21927,...   \n",
       "2  64054,64086,63021,88510,93500,7615,54240,21927...   \n",
       "3  64054,21531,6599,16721,37078,7615,54240,65505,...   \n",
       "4  64054,66036,6599,88510,76066,20543,83978,37294...   \n",
       "\n",
       "                   exposed_items             labels        time  \\\n",
       "0  1,20,28,99,86,119,213,237,164  1,1,1,1,1,1,1,1,1  1582992009   \n",
       "1  1,4,26,112,86,117,191,234,172  1,1,1,1,1,1,1,1,0  1582992010   \n",
       "2  22,4,28,48,105,42,193,236,159  1,1,1,0,1,0,0,0,0  1582992014   \n",
       "3  5,16,1,74,133,122,235,218,172  1,1,1,1,1,1,1,1,0  1582992014   \n",
       "4   6,1,16,85,73,112,239,172,205  1,1,1,1,1,1,1,1,1  1582992017   \n",
       "\n",
       "   len_user_click_history  num_bought  \n",
       "0                    74.0         9.0  \n",
       "1                    55.0         8.0  \n",
       "2                    17.0         4.0  \n",
       "3                    64.0         8.0  \n",
       "4                    40.0         9.0  "
      ]
     },
     "execution_count": 36,
     "metadata": {},
     "output_type": "execute_result"
    }
   ],
   "source": [
    "df_trainset.head()"
   ]
  },
  {
   "cell_type": "code",
   "execution_count": 37,
   "id": "a277fa13",
   "metadata": {
    "execution": {
     "iopub.execute_input": "2021-07-14T09:33:52.686731Z",
     "iopub.status.busy": "2021-07-14T09:33:52.686069Z",
     "iopub.status.idle": "2021-07-14T09:33:52.690490Z",
     "shell.execute_reply": "2021-07-14T09:33:52.689907Z",
     "shell.execute_reply.started": "2021-07-13T16:16:09.516581Z"
    },
    "papermill": {
     "duration": 0.922256,
     "end_time": "2021-07-14T09:33:52.690628",
     "exception": false,
     "start_time": "2021-07-14T09:33:51.768372",
     "status": "completed"
    },
    "tags": []
   },
   "outputs": [],
   "source": [
    "len_user_click_history = np.array(df_trainset['len_user_click_history'])\n",
    "num_bought = np.array(df_trainset['num_bought'])\n",
    "\n"
   ]
  },
  {
   "cell_type": "code",
   "execution_count": 38,
   "id": "adff0f1d",
   "metadata": {
    "execution": {
     "iopub.execute_input": "2021-07-14T09:33:54.498094Z",
     "iopub.status.busy": "2021-07-14T09:33:54.491977Z",
     "iopub.status.idle": "2021-07-14T09:33:54.664552Z",
     "shell.execute_reply": "2021-07-14T09:33:54.663987Z",
     "shell.execute_reply.started": "2021-07-13T16:16:39.292560Z"
    },
    "papermill": {
     "duration": 1.107539,
     "end_time": "2021-07-14T09:33:54.664692",
     "exception": false,
     "start_time": "2021-07-14T09:33:53.557153",
     "status": "completed"
    },
    "tags": []
   },
   "outputs": [
    {
     "data": {
      "text/plain": [
       "(array([5901., 6509., 2856., 1641., 1669., 1232.,  725., 2440., 3564.,\n",
       "        1647.]),\n",
       " array([0. , 0.9, 1.8, 2.7, 3.6, 4.5, 5.4, 6.3, 7.2, 8.1, 9. ]),\n",
       " <BarContainer object of 10 artists>)"
      ]
     },
     "execution_count": 38,
     "metadata": {},
     "output_type": "execute_result"
    },
    {
     "data": {
      "image/png": "[encoded data removed]",
      "text/plain": [
       "<Figure size 432x288 with 1 Axes>"
      ]
     },
     "metadata": {
      "needs_background": "light"
     },
     "output_type": "display_data"
    }
   ],
   "source": [
    "plt.hist(num_bought[len_user_click_history == 0])"
   ]
  },
  {
   "cell_type": "code",
   "execution_count": 39,
   "id": "b0cf3603",
   "metadata": {
    "execution": {
     "iopub.execute_input": "2021-07-14T09:33:56.393709Z",
     "iopub.status.busy": "2021-07-14T09:33:56.393026Z",
     "iopub.status.idle": "2021-07-14T09:33:56.573730Z",
     "shell.execute_reply": "2021-07-14T09:33:56.573148Z",
     "shell.execute_reply.started": "2021-07-13T16:22:17.970280Z"
    },
    "papermill": {
     "duration": 1.050849,
     "end_time": "2021-07-14T09:33:56.574002",
     "exception": false,
     "start_time": "2021-07-14T09:33:55.523153",
     "status": "completed"
    },
    "tags": []
   },
   "outputs": [
    {
     "data": {
      "text/plain": [
       "(array([4392., 4360., 1999.,  921., 1379.,  762.,  253.,  953.,  927.,\n",
       "         385.]),\n",
       " array([0. , 0.9, 1.8, 2.7, 3.6, 4.5, 5.4, 6.3, 7.2, 8.1, 9. ]),\n",
       " <BarContainer object of 10 artists>)"
      ]
     },
     "execution_count": 39,
     "metadata": {},
     "output_type": "execute_result"
    },
    {
     "data": {
      "image/png": "[encoded data removed]",
      "text/plain": [
       "<Figure size 432x288 with 1 Axes>"
      ]
     },
     "metadata": {
      "needs_background": "light"
     },
     "output_type": "display_data"
    }
   ],
   "source": [
    "plt.hist(num_bought[(len_user_click_history >= 1) & (len_user_click_history <= 5)])"
   ]
  },
  {
   "cell_type": "code",
   "execution_count": 40,
   "id": "2beda388",
   "metadata": {
    "execution": {
     "iopub.execute_input": "2021-07-14T09:33:58.343362Z",
     "iopub.status.busy": "2021-07-14T09:33:58.342644Z",
     "iopub.status.idle": "2021-07-14T09:33:58.728458Z",
     "shell.execute_reply": "2021-07-14T09:33:58.727766Z",
     "shell.execute_reply.started": "2021-07-13T16:22:30.488964Z"
    },
    "papermill": {
     "duration": 1.265367,
     "end_time": "2021-07-14T09:33:58.728599",
     "exception": false,
     "start_time": "2021-07-14T09:33:57.463232",
     "status": "completed"
    },
    "tags": []
   },
   "outputs": [
    {
     "data": {
      "text/plain": [
       "(array([3795., 3335., 1805.,  684., 1377.,  986.,  305., 1489., 1704.,\n",
       "         652.]),\n",
       " array([0. , 0.9, 1.8, 2.7, 3.6, 4.5, 5.4, 6.3, 7.2, 8.1, 9. ]),\n",
       " <BarContainer object of 10 artists>)"
      ]
     },
     "execution_count": 40,
     "metadata": {},
     "output_type": "execute_result"
    },
    {
     "data": {
      "image/png": "[encoded data removed]",
      "text/plain": [
       "<Figure size 432x288 with 1 Axes>"
      ]
     },
     "metadata": {
      "needs_background": "light"
     },
     "output_type": "display_data"
    }
   ],
   "source": [
    "plt.hist(num_bought[(len_user_click_history >= 6) & (len_user_click_history <= 10)])"
   ]
  },
  {
   "cell_type": "code",
   "execution_count": 41,
   "id": "34057fbf",
   "metadata": {
    "execution": {
     "iopub.execute_input": "2021-07-14T09:34:00.482265Z",
     "iopub.status.busy": "2021-07-14T09:34:00.481557Z",
     "iopub.status.idle": "2021-07-14T09:34:00.662610Z",
     "shell.execute_reply": "2021-07-14T09:34:00.661956Z",
     "shell.execute_reply.started": "2021-07-13T16:22:57.863690Z"
    },
    "papermill": {
     "duration": 1.04699,
     "end_time": "2021-07-14T09:34:00.662749",
     "exception": false,
     "start_time": "2021-07-14T09:33:59.615759",
     "status": "completed"
    },
    "tags": []
   },
   "outputs": [
    {
     "data": {
      "text/plain": [
       "(array([5664., 4474., 2752.,  988., 2656., 2144.,  613., 3659., 4705.,\n",
       "        1856.]),\n",
       " array([0. , 0.9, 1.8, 2.7, 3.6, 4.5, 5.4, 6.3, 7.2, 8.1, 9. ]),\n",
       " <BarContainer object of 10 artists>)"
      ]
     },
     "execution_count": 41,
     "metadata": {},
     "output_type": "execute_result"
    },
    {
     "data": {
      "image/png": "[encoded data removed]",
      "text/plain": [
       "<Figure size 432x288 with 1 Axes>"
      ]
     },
     "metadata": {
      "needs_background": "light"
     },
     "output_type": "display_data"
    }
   ],
   "source": [
    "plt.hist(num_bought[(len_user_click_history >= 11) & (len_user_click_history <= 20)])"
   ]
  },
  {
   "cell_type": "code",
   "execution_count": 42,
   "id": "9c544340",
   "metadata": {
    "execution": {
     "iopub.execute_input": "2021-07-14T09:34:02.448380Z",
     "iopub.status.busy": "2021-07-14T09:34:02.447334Z",
     "iopub.status.idle": "2021-07-14T09:34:02.607793Z",
     "shell.execute_reply": "2021-07-14T09:34:02.607069Z",
     "shell.execute_reply.started": "2021-07-13T16:23:02.168092Z"
    },
    "papermill": {
     "duration": 1.064427,
     "end_time": "2021-07-14T09:34:02.607959",
     "exception": false,
     "start_time": "2021-07-14T09:34:01.543532",
     "status": "completed"
    },
    "tags": []
   },
   "outputs": [
    {
     "data": {
      "text/plain": [
       "(array([3982., 2851., 1813.,  729., 2355., 1993.,  617., 3991., 5678.,\n",
       "        2349.]),\n",
       " array([0. , 0.9, 1.8, 2.7, 3.6, 4.5, 5.4, 6.3, 7.2, 8.1, 9. ]),\n",
       " <BarContainer object of 10 artists>)"
      ]
     },
     "execution_count": 42,
     "metadata": {},
     "output_type": "execute_result"
    },
    {
     "data": {
      "image/png": "[encoded data removed]",
      "text/plain": [
       "<Figure size 432x288 with 1 Axes>"
      ]
     },
     "metadata": {
      "needs_background": "light"
     },
     "output_type": "display_data"
    }
   ],
   "source": [
    "plt.hist(num_bought[(len_user_click_history >= 21) & (len_user_click_history <= 30)])"
   ]
  },
  {
   "cell_type": "code",
   "execution_count": 43,
   "id": "2c964ef9",
   "metadata": {
    "execution": {
     "iopub.execute_input": "2021-07-14T09:34:04.421113Z",
     "iopub.status.busy": "2021-07-14T09:34:04.420380Z",
     "iopub.status.idle": "2021-07-14T09:34:04.609297Z",
     "shell.execute_reply": "2021-07-14T09:34:04.608610Z",
     "shell.execute_reply.started": "2021-07-13T16:23:08.524667Z"
    },
    "papermill": {
     "duration": 1.125678,
     "end_time": "2021-07-14T09:34:04.609440",
     "exception": false,
     "start_time": "2021-07-14T09:34:03.483762",
     "status": "completed"
    },
    "tags": []
   },
   "outputs": [
    {
     "data": {
      "text/plain": [
       "(array([2738., 2124., 1350.,  640., 2159., 1967.,  521., 4173., 7309.,\n",
       "        3227.]),\n",
       " array([0. , 0.9, 1.8, 2.7, 3.6, 4.5, 5.4, 6.3, 7.2, 8.1, 9. ]),\n",
       " <BarContainer object of 10 artists>)"
      ]
     },
     "execution_count": 43,
     "metadata": {},
     "output_type": "execute_result"
    },
    {
     "data": {
      "image/png": "[encoded data removed]",
      "text/plain": [
       "<Figure size 432x288 with 1 Axes>"
      ]
     },
     "metadata": {
      "needs_background": "light"
     },
     "output_type": "display_data"
    }
   ],
   "source": [
    "plt.hist(num_bought[(len_user_click_history >= 31) & (len_user_click_history <= 40)])"
   ]
  },
  {
   "cell_type": "code",
   "execution_count": null,
   "id": "7fb71012",
   "metadata": {
    "papermill": {
     "duration": 0.873001,
     "end_time": "2021-07-14T09:34:06.387266",
     "exception": false,
     "start_time": "2021-07-14T09:34:05.514265",
     "status": "completed"
    },
    "tags": []
   },
   "outputs": [],
   "source": []
  }
 ],
 "metadata": {
  "kernelspec": {
   "display_name": "Python 3",
   "language": "python",
   "name": "python3"
  },
  "language_info": {
   "codemirror_mode": {
    "name": "ipython",
    "version": 3
   },
   "file_extension": ".py",
   "mimetype": "text/x-python",
   "name": "python",
   "nbconvert_exporter": "python",
   "pygments_lexer": "ipython3",
   "version": "3.7.10"
  },
  "papermill": {
   "default_parameters": {},
   "duration": 397.533958,
   "end_time": "2021-07-14T09:34:08.174899",
   "environment_variables": {},
   "exception": null,
   "input_path": "__notebook__.ipynb",
   "output_path": "__notebook__.ipynb",
   "parameters": {},
   "start_time": "2021-07-14T09:27:30.640941",
   "version": "2.3.3"
  }
 },
 "nbformat": 4,
 "nbformat_minor": 5
}
