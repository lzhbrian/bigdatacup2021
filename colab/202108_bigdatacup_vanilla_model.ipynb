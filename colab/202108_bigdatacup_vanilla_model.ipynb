{
  "nbformat": 4,
  "nbformat_minor": 0,
  "metadata": {
    "colab": {
      "name": "202108-bigdatacup-vanilla-model.ipynb",
      "provenance": [],
      "collapsed_sections": [],
      "toc_visible": true,
      "machine_shape": "hm"
    },
    "kernelspec": {
      "name": "python3",
      "display_name": "Python 3"
    },
    "language_info": {
      "name": "python"
    },
    "accelerator": "GPU"
  },
  "cells": [
    {
      "cell_type": "markdown",
      "metadata": {
        "id": "dwlln8fdpp1T"
      },
      "source": [
        "## 本文档实现了一个，根据用户、商品属性预测单个商品是否购买的模型，参考了DIN，但使用了比较简单模型输入\n",
        "\n",
        "202108"
      ]
    },
    {
      "cell_type": "markdown",
      "metadata": {
        "id": "IHof6Tdjp0Mk"
      },
      "source": [
        "## pre"
      ]
    },
    {
      "cell_type": "code",
      "metadata": {
        "id": "LqrbfuMj1ymz"
      },
      "source": [
        "!mkdir /content/drive/MyDrive/202108-bigdatacup2021"
      ],
      "execution_count": null,
      "outputs": []
    },
    {
      "cell_type": "code",
      "metadata": {
        "colab": {
          "base_uri": "https://localhost:8080/"
        },
        "id": "p2k9-XuYDkNf",
        "outputId": "41489e4b-0c2e-4539-ad86-39b3e16d418a"
      },
      "source": [
        "%cd /content/drive/MyDrive/202108-bigdatacup2021"
      ],
      "execution_count": null,
      "outputs": [
        {
          "output_type": "stream",
          "text": [
            "/content/drive/MyDrive/202108-bigdatacup2021\n"
          ],
          "name": "stdout"
        }
      ]
    },
    {
      "cell_type": "code",
      "metadata": {
        "id": "JYZ-V2ni-jcP"
      },
      "source": [
        "import torch\n",
        "import torch.nn as nn\n",
        "import torch.optim as optim\n",
        "import pandas as pd"
      ],
      "execution_count": null,
      "outputs": []
    },
    {
      "cell_type": "code",
      "metadata": {
        "id": "zyFgDuAGDyGD"
      },
      "source": [
        "class VanillaBaseModel(nn.Module):\n",
        "    def __init__(self, \n",
        "                 num_items,\n",
        "                 dim_item_emb=64,\n",
        "                 dim_item_discrete_feature_emb=16,\n",
        "                 dim_user_discrete_feature_emb=16,\n",
        "                ):\n",
        "        super().__init__()\n",
        "        self.NUM_ITEM_DISCRETE_FEATURE = 3 + 1 # item_vec3 + location1\n",
        "        self.NUM_ITEM_CONT_FEATURE = 2 + 1 # item_vec2 + price1\n",
        "        self.NUM_USER_DISCRETE_FEATURE = 10\n",
        "        self.dim_item_emb = dim_item_emb\n",
        "\n",
        "        self.item_emb = nn.Embedding(num_items + 1, dim_item_emb) # 0表示没有记录，因此 num_items + 1\n",
        "        \n",
        "        # item discrete feature\n",
        "        self.item_discrete_feature_emb_list = nn.ModuleList()\n",
        "        num_unique_value_list = [4, 10, 2, 3]\n",
        "        for i in range(self.NUM_ITEM_DISCRETE_FEATURE):\n",
        "            num_unique_value = num_unique_value_list[i]\n",
        "            self.item_discrete_feature_emb_list.append(\n",
        "                nn.Embedding(num_unique_value, dim_item_discrete_feature_emb)\n",
        "            )\n",
        "        \n",
        "        # user discrete feature\n",
        "        self.user_discrete_feature_emb_list = nn.ModuleList()\n",
        "        num_unique_value_list = [3, 1430, 20, 10, 198, 52, 3, 13, 2, 2347]\n",
        "        for i in range(self.NUM_USER_DISCRETE_FEATURE):\n",
        "            num_unique_value = num_unique_value_list[i]\n",
        "            self.user_discrete_feature_emb_list.append(\n",
        "                nn.Embedding(num_unique_value, dim_user_discrete_feature_emb)\n",
        "            )\n",
        "\n",
        "        # backbone\n",
        "        self.backbone = nn.Sequential(\n",
        "            nn.Linear(dim_item_emb + # user_click_history\n",
        "                      self.NUM_ITEM_DISCRETE_FEATURE * dim_item_discrete_feature_emb + \n",
        "                      self.NUM_ITEM_CONT_FEATURE + \n",
        "                      self.NUM_USER_DISCRETE_FEATURE * dim_user_discrete_feature_emb +\n",
        "                      dim_item_emb, 200), \n",
        "            nn.Dropout(0.1),\n",
        "            nn.PReLU(),\n",
        "            nn.LayerNorm(200),\n",
        "            nn.Linear(200, 80),\n",
        "            nn.PReLU(),\n",
        "            nn.Dropout(0.1),\n",
        "            nn.LayerNorm(80),\n",
        "            nn.Linear(80, 1)\n",
        "        )\n",
        "\n",
        "\n",
        "    def forward(self,\n",
        "                user_click_history,\n",
        "                num_user_click_history,\n",
        "                user_discrete_feature,\n",
        "                item_id,\n",
        "                item_discrete_feature,\n",
        "                item_cont_feature\n",
        "                ):\n",
        "        \"\"\"\n",
        "        user_click_history: [N, 300], 最多有300个点击历史记录, 每个里面是itemid, 0表示没有记录\n",
        "        num_user_click_history: [N, 1], 用户点击历史数量\n",
        "        user_discrete_feature: [N, 10] 用户离散属性（已重映射）\n",
        "        item_id: [N, 1], 商品id\n",
        "        item_discrete_feature: [N, 3 + 1] 商品离散属性（已重映射） item_vec3 + location1\n",
        "        item_cont_feature: [N, 2 + 1] 商品连续属性（已正则化） item_vec2 + price1\n",
        "        \"\"\"\n",
        "\n",
        "        batch_size = user_click_history.size()[0]\n",
        "        \n",
        "        ## User Bahaviors 这里只用了item_emb，没有用这些商品的属性，跟DIN论文不太一样，先这么写试试\n",
        "        # user click history emb\n",
        "        tmp = self.item_emb(user_click_history) # [N, 300] -> [N, 300, dim_item_emb]\n",
        "        user_click_history_emb = torch.zeros((batch_size, self.dim_item_emb))\n",
        "        for i in range(batch_size):\n",
        "            #print(num_user_click_history[i])\n",
        "            aa = tmp[i, :num_user_click_history[i], :] # [N, D]\n",
        "            #print(aa.shape)\n",
        "            a = torch.mean(aa, dim=0) # [N, d] -> [1, d]\n",
        "            #print(a.shape)\n",
        "            #print(user_click_history_emb.shape)\n",
        "            user_click_history_emb[i] = a\n",
        "\n",
        "        ## User Profile Features\n",
        "        # user discrete feature, 10 features\n",
        "        tmp = []\n",
        "        for i in range(self.NUM_USER_DISCRETE_FEATURE):\n",
        "            tmp.append(\n",
        "                self.user_discrete_feature_emb_list[i](user_discrete_feature[:, i]) # [N, dim_user_discrete_feature_emb]\n",
        "            )\n",
        "        user_discrete_feature_emb = torch.cat(tmp, dim=1)\n",
        "\n",
        "        ## Item\n",
        "        # item discrete feature, 3 features\n",
        "        tmp = []\n",
        "        for i in range(self.NUM_ITEM_DISCRETE_FEATURE):\n",
        "            # print(i)\n",
        "            # print(item_discrete_feature[:, i])\n",
        "            tmp.append(\n",
        "                self.item_discrete_feature_emb_list[i](item_discrete_feature[:, i]) # [N, dim_user_discrete_feature_emb]\n",
        "            )\n",
        "        item_discrete_feature_emb = torch.cat(tmp, dim=1)\n",
        "        # item emb\n",
        "        item_emb = self.item_emb(item_id)\n",
        "        item_emb = torch.squeeze(item_emb)\n",
        "\n",
        "        ## all emb\n",
        "        #print(user_click_history_emb.size())\n",
        "        #print(user_discrete_feature_emb.size())\n",
        "        #print(item_discrete_feature_emb.size())\n",
        "        #print(item_cont_feature.size())\n",
        "        #print(item_emb.size())\n",
        "\n",
        "        all_emb = torch.cat([user_click_history_emb, \n",
        "                             user_discrete_feature_emb,\n",
        "                             item_discrete_feature_emb,\n",
        "                             item_cont_feature,\n",
        "                             item_emb,\n",
        "                            ], dim=1) # [N, D]\n",
        "        \n",
        "        out = self.backbone(all_emb) # [N, 1]\n",
        "        return out\n",
        "                "
      ],
      "execution_count": null,
      "outputs": []
    },
    {
      "cell_type": "code",
      "metadata": {
        "id": "r4cM0stCGHWx"
      },
      "source": [
        "m = VanillaBaseModel(\n",
        "    num_items=381,\n",
        "    dim_item_emb=64,\n",
        "    dim_item_discrete_feature_emb=16,\n",
        "    dim_user_discrete_feature_emb=16,\n",
        ")"
      ],
      "execution_count": null,
      "outputs": []
    },
    {
      "cell_type": "code",
      "metadata": {
        "colab": {
          "base_uri": "https://localhost:8080/"
        },
        "id": "Yk4eUkR1GTOG",
        "outputId": "0262243f-b1c7-497f-9f3d-a697f213d56b"
      },
      "source": [
        "# user_click_history: [N, 300], 最多有300个点击历史记录, 每个里面是itemid, 0表示没有记录\n",
        "# num_user_click_history: [N, 1], 用户点击历史数量\n",
        "# user_discrete_feature: [N, 10] 用户离散属性（已重映射）\n",
        "# item_id: [N, 1], 商品id\n",
        "# item_discrete_feature: [N, 3 + 1] 商品离散属性（已重映射）\n",
        "# item_cont_feature: [N, 2 + 1] 商品连续属性（已正则化）\n",
        "\n",
        "B = 3\n",
        "m(\n",
        "    user_click_history=torch.ones([B, 300], dtype=torch.int32),\n",
        "    num_user_click_history=torch.ones([B, 1], dtype=torch.int32) * 10,\n",
        "    user_discrete_feature=torch.ones([B, 10], dtype=torch.int32),\n",
        "    item_id=torch.ones([B, 1], dtype=torch.int32),\n",
        "    item_discrete_feature=torch.ones([B, 4], dtype=torch.int32),\n",
        "    item_cont_feature=torch.randn([B, 3]),\n",
        ")"
      ],
      "execution_count": null,
      "outputs": [
        {
          "output_type": "execute_result",
          "data": {
            "text/plain": [
              "tensor([[-1.0110],\n",
              "        [-1.3368],\n",
              "        [-1.4544]], grad_fn=<AddmmBackward>)"
            ]
          },
          "metadata": {
            "tags": []
          },
          "execution_count": 6
        }
      ]
    },
    {
      "cell_type": "markdown",
      "metadata": {
        "id": "o5AYeucSJM01"
      },
      "source": [
        "## dataloader"
      ]
    },
    {
      "cell_type": "code",
      "metadata": {
        "id": "TgsSJtlUhkFv"
      },
      "source": [
        "import pandas as pd\n",
        "from sklearn.utils import shuffle\n",
        "data_path='/content/drive/MyDrive/202108-bigdatacup2021/data/'\n",
        "df_item_info = pd.read_csv(f'{data_path}/item_info.csv', sep=' ')"
      ],
      "execution_count": null,
      "outputs": []
    },
    {
      "cell_type": "code",
      "metadata": {
        "id": "QlA19RU40Gyc"
      },
      "source": [
        "import pandas as pd\n",
        "import numpy as np\n",
        "from tqdm import tqdm\n",
        "from sklearn.utils import shuffle"
      ],
      "execution_count": null,
      "outputs": []
    },
    {
      "cell_type": "code",
      "metadata": {
        "colab": {
          "base_uri": "https://localhost:8080/"
        },
        "id": "DZkb7Mwz0NHO",
        "outputId": "48c76149-c5c5-4cf7-b14d-e531e079c6cf"
      },
      "source": [
        "## 获取 user portrait 的映射，因为\n",
        "data_path='/content/drive/MyDrive/202108-bigdatacup2021/data/'\n",
        "# portraitidx_to_idx_dict_list: list of 10 dict, int:int\n",
        "\n",
        "portraitidx_to_idx_dict_list = []\n",
        "for i in range(10):\n",
        "    portraitidx_to_idx_dict_list.append(dict())\n",
        "acculumated_idx = [0] * 10\n",
        "\n",
        "\n",
        "df_train = pd.read_csv(f'{data_path}/trainset.csv', sep=' ')\n",
        "for i in tqdm(range(df_train.shape[0])):\n",
        "    user_portrait = [int(s) for s in df_train.at[i, 'user_protrait'].split(',')]\n",
        "    for idx, u in enumerate(user_portrait):\n",
        "        if portraitidx_to_idx_dict_list[idx].get(u, -1) == -1:\n",
        "            portraitidx_to_idx_dict_list[idx][u] = acculumated_idx[idx]\n",
        "            acculumated_idx[idx] += 1\n",
        "\n",
        "df_test1 = pd.read_csv(f'{data_path}/track1_testset.csv', sep=' ')\n",
        "for i in tqdm(range(df_test1.shape[0])):\n",
        "    user_portrait = [int(s) for s in df_test1.at[i, 'user_protrait'].split(',')]\n",
        "    for idx, u in enumerate(user_portrait):\n",
        "        if portraitidx_to_idx_dict_list[idx].get(u, -1) == -1:\n",
        "            portraitidx_to_idx_dict_list[idx][u] = acculumated_idx[idx]\n",
        "            acculumated_idx[idx] += 1\n",
        "\n",
        "df_test2 = pd.read_csv(f'{data_path}/track2_testset.csv', sep=' ')\n",
        "for i in tqdm(range(df_test2.shape[0])):\n",
        "    user_portrait = [int(s) for s in df_test2.at[i, 'user_protrait'].split(',')]\n",
        "    for idx, u in enumerate(user_portrait):\n",
        "        if portraitidx_to_idx_dict_list[idx].get(u, -1) == -1:\n",
        "            portraitidx_to_idx_dict_list[idx][u] = acculumated_idx[idx]\n",
        "            acculumated_idx[idx] += 1\n",
        "\n",
        "acculumated_idx"
      ],
      "execution_count": null,
      "outputs": [
        {
          "output_type": "stream",
          "text": [
            "100%|██████████| 260087/260087 [00:03<00:00, 71872.36it/s]\n",
            "100%|██████████| 206254/206254 [00:02<00:00, 72847.23it/s]\n",
            "100%|██████████| 206096/206096 [00:02<00:00, 72320.06it/s]\n"
          ],
          "name": "stderr"
        },
        {
          "output_type": "execute_result",
          "data": {
            "text/plain": [
              "[3, 1430, 20, 10, 198, 52, 3, 13, 2, 2347]"
            ]
          },
          "metadata": {
            "tags": []
          },
          "execution_count": 9
        }
      ]
    },
    {
      "cell_type": "code",
      "metadata": {
        "id": "xFoaBPjCJQBf"
      },
      "source": [
        "def load_data(data_path='/content/drive/MyDrive/202108-bigdatacup2021/data/'):\n",
        "    # item info\n",
        "    df_item_info = pd.read_csv(f'{data_path}/item_info.csv', sep=' ')\n",
        "    item_info_dict = {}\n",
        "    for i in tqdm(range(df_item_info.shape[0])):\n",
        "        item_id = df_item_info.at[i, 'item_id'] \n",
        "\n",
        "        item_discrete = df_item_info.at[i, 'item_vec'].split(',')[:3]\n",
        "        item_cont = df_item_info.at[i, 'item_vec'].split(',')[-2:]\n",
        "        price = df_item_info.at[i, 'price'] / 3000\n",
        "        loc = df_item_info.at[i, 'location'] - 1 # 0~2\n",
        "\n",
        "        item_cont.append(price) # 2 + 1\n",
        "        item_discrete.append(loc) # 3 + 1\n",
        "\n",
        "        item_cont = [float(it) for it in item_cont]\n",
        "        item_discrete = [int(it) for it in item_discrete]\n",
        "        item_discrete[0] = item_discrete[0] - 1 # 1~4 -> 0~3\n",
        "        item_discrete[2] = item_discrete[2] - 1 # 1~2 -> 0~1\n",
        "\n",
        "        item_info_dict[int(item_id)] = {\n",
        "            'cont': np.array(item_cont, dtype=np.float64),\n",
        "            'discrete': np.array(item_discrete, dtype=np.int64),\n",
        "        }\n",
        "\n",
        "    # trainset\n",
        "    train_samples = []\n",
        "    val_samples = []\n",
        "    df_train = pd.read_csv(f'{data_path}/trainset.csv', sep=' ')\n",
        "\n",
        "    # shuffle\n",
        "    df_train = shuffle(df_train, random_state=2333).reset_index()\n",
        "    total_num = int(df_train.shape[0])\n",
        "    num_train = int(total_num * 0.95)\n",
        "    num_val = total_num - num_train\n",
        "\n",
        "    for i in tqdm(range(total_num)):\n",
        "        if df_train.at[i, 'user_click_history'] == '0:0':\n",
        "            user_click_list = [0]\n",
        "        else:\n",
        "            user_click_list = df_train.at[i, 'user_click_history'].split(',')\n",
        "            user_click_list = [int(sample.split(':')[0]) for sample in user_click_list]\n",
        "        num_user_click_history = len(user_click_list)\n",
        "        tmp = np.zeros(400, dtype=np.int64)\n",
        "        tmp[:len(user_click_list)] = user_click_list\n",
        "        user_click_list = tmp\n",
        "        \n",
        "        exposed_items = [int(s) for s in df_train.at[i, 'exposed_items'].split(',')]\n",
        "        labels = [int(s) for s in df_train.at[i, 'labels'].split(',')]\n",
        "\n",
        "        user_portrait = [int(s) for s in df_train.at[i, 'user_protrait'].split(',')]\n",
        "        # portraitidx_to_idx_dict_list: list of 10 dict, int:int\n",
        "        for j in range(10):\n",
        "            user_portrait[j] = portraitidx_to_idx_dict_list[j][user_portrait[j]]\n",
        "        for k in range(9):\n",
        "            one_sample = {\n",
        "                'user_click_list': user_click_list,\n",
        "                'num_user_click_history': num_user_click_history,\n",
        "                'user_portrait': np.array(user_portrait, dtype=np.int64),\n",
        "                'item_id': exposed_items[k],\n",
        "                'label': labels[k]\n",
        "            }\n",
        "            if i < num_train:\n",
        "                train_samples.append(one_sample)\n",
        "            else:\n",
        "                val_samples.append(one_sample)\n",
        "    return item_info_dict, train_samples, val_samples\n",
        "\n",
        "\n",
        "class BigDataCupDataset(torch.utils.data.Dataset):\n",
        "    def __init__(self, \n",
        "                 item_info_dict,\n",
        "                 database\n",
        "                ):\n",
        "        super().__init__()\n",
        "        self.item_info_dict = item_info_dict\n",
        "        self.database = database\n",
        "\n",
        "    def __len__(self, ):\n",
        "        return len(self.database)\n",
        "\n",
        "    def __getitem__(self, idx):\n",
        "        one_sample = self.database[idx]\n",
        "        user_click_history = one_sample['user_click_list']\n",
        "        num_user_click_history = one_sample['num_user_click_history']\n",
        "        user_discrete_feature = one_sample['user_portrait']\n",
        "        item_id = one_sample['item_id']\n",
        "        item_discrete_feature = self.item_info_dict[item_id]['discrete']\n",
        "        item_cont_feature = self.item_info_dict[item_id]['cont']\n",
        "        label = one_sample['label']\n",
        "\n",
        "        # print(num_user_click_history)\n",
        "\n",
        "        user_click_history = torch.IntTensor(user_click_history)\n",
        "        num_user_click_history = torch.IntTensor([num_user_click_history])\n",
        "        user_discrete_feature = torch.IntTensor(user_discrete_feature)\n",
        "        item_id = torch.IntTensor([item_id])\n",
        "        item_discrete_feature = torch.IntTensor(item_discrete_feature)\n",
        "        item_cont_feature = torch.FloatTensor(item_cont_feature)\n",
        "        label = torch.IntTensor([label])\n",
        "\n",
        "        # print(num_user_click_history)\n",
        "\n",
        "        return user_click_history, num_user_click_history, user_discrete_feature, \\\n",
        "               item_id, item_discrete_feature, item_cont_feature, label"
      ],
      "execution_count": null,
      "outputs": []
    },
    {
      "cell_type": "code",
      "metadata": {
        "id": "mq-z8MpJZ8hH"
      },
      "source": [
        "def load_test_data(data_path='/content/drive/MyDrive/202108-bigdatacup2021/data/', filename='track1_testset.csv'):\n",
        "    # item info\n",
        "    df_item_info = pd.read_csv(f'{data_path}/item_info.csv', sep=' ')\n",
        "    item_info_dict = {}\n",
        "    for i in tqdm(range(df_item_info.shape[0])):\n",
        "        item_id = df_item_info.at[i, 'item_id'] \n",
        "\n",
        "        item_discrete = df_item_info.at[i, 'item_vec'].split(',')[:3]\n",
        "        item_cont = df_item_info.at[i, 'item_vec'].split(',')[-2:]\n",
        "        price = df_item_info.at[i, 'price'] / 3000\n",
        "        loc = df_item_info.at[i, 'location'] - 1 # 0~2\n",
        "\n",
        "        item_cont.append(price) # 2 + 1\n",
        "        item_discrete.append(loc) # 3 + 1\n",
        "\n",
        "        item_cont = [float(it) for it in item_cont]\n",
        "        item_discrete = [int(it) for it in item_discrete]\n",
        "        item_discrete[0] = item_discrete[0] - 1 # 1~4 -> 0~3\n",
        "        item_discrete[2] = item_discrete[2] - 1 # 1~2 -> 0~1\n",
        "\n",
        "        item_info_dict[int(item_id)] = {\n",
        "            'cont': np.array(item_cont, dtype=np.float64),\n",
        "            'discrete': np.array(item_discrete, dtype=np.int64),\n",
        "        }\n",
        "\n",
        "    # testset\n",
        "    test_samples = []\n",
        "    df_test = pd.read_csv(f'{data_path}/{filename}', sep=' ')\n",
        "\n",
        "    # shuffle\n",
        "    total_num = int(df_test.shape[0])\n",
        "\n",
        "    for i in tqdm(range(total_num)):\n",
        "        if df_test.at[i, 'user_click_history'] == '0:0':\n",
        "            user_click_list = [0]\n",
        "        else:\n",
        "            user_click_list = df_test.at[i, 'user_click_history'].split(',')\n",
        "            user_click_list = [int(sample.split(':')[0]) for sample in user_click_list]\n",
        "        num_user_click_history = len(user_click_list)\n",
        "        tmp = np.zeros(400, dtype=np.int64)\n",
        "        tmp[:len(user_click_list)] = user_click_list\n",
        "        user_click_list = tmp\n",
        "        \n",
        "        exposed_items = [int(s) for s in df_test.at[i, 'exposed_items'].split(',')]\n",
        "        labels = [int(s) for s in df_test.at[i, 'labels'].split(',')]\n",
        "\n",
        "        user_portrait = [int(s) for s in df_test.at[i, 'user_protrait'].split(',')]\n",
        "        # portraitidx_to_idx_dict_list: list of 10 dict, int:int\n",
        "        for j in range(10):\n",
        "            user_portrait[j] = portraitidx_to_idx_dict_list[j][user_portrait[j]]\n",
        "        for k in range(9):\n",
        "            one_sample = {\n",
        "                'user_click_list': user_click_list,\n",
        "                'num_user_click_history': num_user_click_history,\n",
        "                'user_portrait': np.array(user_portrait, dtype=np.int64),\n",
        "                'item_id': exposed_items[k],\n",
        "            }\n",
        "            test_samples.append(one_sample)\n",
        "    return item_info_dict, test_samples\n",
        "\n",
        "\n",
        "class BigDataCupTestDataset(torch.utils.data.Dataset):\n",
        "    def __init__(self, \n",
        "                 item_info_dict,\n",
        "                 database\n",
        "                ):\n",
        "        super().__init__()\n",
        "        self.item_info_dict = item_info_dict\n",
        "        self.database = database\n",
        "\n",
        "    def __len__(self, ):\n",
        "        return len(self.database)\n",
        "\n",
        "    def __getitem__(self, idx):\n",
        "        one_sample = self.database[idx]\n",
        "        user_click_history = one_sample['user_click_list']\n",
        "        num_user_click_history = one_sample['num_user_click_history']\n",
        "        user_discrete_feature = one_sample['user_portrait']\n",
        "        item_id = one_sample['item_id']\n",
        "        item_discrete_feature = self.item_info_dict[item_id]['discrete']\n",
        "        item_cont_feature = self.item_info_dict[item_id]['cont']\n",
        "\n",
        "        user_click_history = torch.IntTensor(user_click_history)\n",
        "        num_user_click_history = torch.IntTensor([num_user_click_history])\n",
        "        user_discrete_feature = torch.IntTensor(user_discrete_feature)\n",
        "        item_id = torch.IntTensor([item_id])\n",
        "        item_discrete_feature = torch.IntTensor(item_discrete_feature)\n",
        "        item_cont_feature = torch.FloatTensor(item_cont_feature)\n",
        "\n",
        "        return user_click_history, num_user_click_history, user_discrete_feature, \\\n",
        "               item_id, item_discrete_feature, item_cont_feature"
      ],
      "execution_count": null,
      "outputs": []
    },
    {
      "cell_type": "markdown",
      "metadata": {
        "id": "9o_OpQvyJOMG"
      },
      "source": [
        "## training"
      ]
    },
    {
      "cell_type": "code",
      "metadata": {
        "colab": {
          "base_uri": "https://localhost:8080/"
        },
        "id": "W0iZQAC5UEWC",
        "outputId": "b3d8d050-03b0-4902-e3c5-bcdab31e4c8f"
      },
      "source": [
        "item_info_dict, train_samples, val_samples = load_data()\n",
        "\n",
        "train_ds = BigDataCupDataset(item_info_dict, train_samples)\n",
        "train_dl = torch.utils.data.DataLoader(dataset=train_ds, batch_size=32, shuffle=True)\n",
        "\n",
        "val_ds = BigDataCupDataset(item_info_dict, val_samples)\n",
        "val_dl = torch.utils.data.DataLoader(dataset=val_ds, batch_size=9, shuffle=False)"
      ],
      "execution_count": null,
      "outputs": [
        {
          "output_type": "stream",
          "text": [
            "100%|██████████| 381/381 [00:00<00:00, 18495.93it/s]\n",
            "100%|██████████| 260087/260087 [00:31<00:00, 8232.60it/s]\n"
          ],
          "name": "stderr"
        }
      ]
    },
    {
      "cell_type": "code",
      "metadata": {
        "id": "J0AfUqqH0Np_"
      },
      "source": [
        "def binary_acc(y_pred, y_test):\n",
        "    y_pred_tag = torch.round(torch.sigmoid(y_pred))\n",
        "    correct_results_sum = (y_pred_tag == y_test).sum().float()\n",
        "    acc = correct_results_sum / y_test.shape[0]\n",
        "    return acc\n",
        "\n",
        "\n",
        "## below: only applicable for batch_size==9 in validation\n",
        "def real_acc_calc(y_pred, y_test):\n",
        "    y_pred_tag = torch.round(torch.sigmoid(y_pred))\n",
        "    correct_results_sum = (y_pred_tag == y_test).sum().float()\n",
        "    acc = correct_results_sum / y_test.shape[0]\n",
        "    if acc != 1.0:\n",
        "        return 0\n",
        "    else:\n",
        "        return 1\n",
        "\n",
        "def real_acc_rule_calc(y_pred, y_test):\n",
        "    y_pred_tag = torch.round(torch.sigmoid(y_pred))\n",
        "    \n",
        "    cum_sum = 0\n",
        "    for j in range(9):\n",
        "        if y_pred_tag[j][0] == 1:\n",
        "            cum_sum += 1\n",
        "        if j == 2 and cum_sum != 3:\n",
        "            y_pred_tag[3:] = 0\n",
        "            break\n",
        "        if j == 5 and cum_sum != 6:\n",
        "            y_pred_tag[6:] = 0\n",
        "            break\n",
        "    \n",
        "    correct_results_sum = (y_pred_tag == y_test).sum().float()\n",
        "    acc = correct_results_sum / y_test.shape[0]\n",
        "    if acc != 1.0:\n",
        "        return 0\n",
        "    else:\n",
        "        return 1\n",
        "\n",
        "def real_acc_rule2_calc(y_pred, y_test):\n",
        "    y_pred_tag = torch.round(torch.sigmoid(y_pred))\n",
        "    \n",
        "    cum_sum = 0\n",
        "    for j in range(9):\n",
        "        k = 8 - j\n",
        "        if k >= 6 and y_pred_tag[k][0] == 1:\n",
        "            y_pred_tag[:6] = 1\n",
        "        if k >= 3 and y_pred_tag[k][0] == 1:\n",
        "            y_pred_tag[:3] = 1\n",
        "    \n",
        "    correct_results_sum = (y_pred_tag == y_test).sum().float()\n",
        "    acc = correct_results_sum / y_test.shape[0]\n",
        "    if acc != 1.0:\n",
        "        return 0\n",
        "    else:\n",
        "        return 1"
      ],
      "execution_count": null,
      "outputs": []
    },
    {
      "cell_type": "code",
      "metadata": {
        "colab": {
          "base_uri": "https://localhost:8080/"
        },
        "cellView": "code",
        "id": "lIyIshr4JPI_",
        "outputId": "6937d83b-c083-40cb-9b19-1cdd7b78c97a"
      },
      "source": [
        "model = VanillaBaseModel(\n",
        "    num_items=381,\n",
        "    dim_item_emb=16,\n",
        "    dim_item_discrete_feature_emb=16,\n",
        "    dim_user_discrete_feature_emb=16,\n",
        ")\n",
        "\n",
        "criterion = nn.BCEWithLogitsLoss()\n",
        "optimizer = optim.SGD(model.parameters(), lr=0.01, momentum=0.9)\n",
        "\n",
        "\n",
        "NUM_EPOCH = 2\n",
        "for epoch_idx in range(NUM_EPOCH):  # loop over the dataset multiple times\n",
        "\n",
        "    running_loss = 0.0\n",
        "    train_cnt = 0\n",
        "    train_acc_sum = 0\n",
        "    \n",
        "    for i, data in enumerate(train_dl, 0):\n",
        "        model.train()\n",
        "\n",
        "        # get the inputs; data is a list of [inputs, labels]\n",
        "        user_click_history, num_user_click_history, user_discrete_feature, \\\n",
        "               item_id, item_discrete_feature, item_cont_feature, label = data\n",
        "\n",
        "        # zero the parameter gradients\n",
        "        optimizer.zero_grad()\n",
        "\n",
        "        # forward + backward + optimize\n",
        "        outputs = model(user_click_history, num_user_click_history, user_discrete_feature, \\\n",
        "               item_id, item_discrete_feature, item_cont_feature)\n",
        "\n",
        "        loss = criterion(outputs, label.float())\n",
        "        loss.backward()\n",
        "        optimizer.step()\n",
        "\n",
        "        # print statistics\n",
        "        running_loss += loss.item()\n",
        "\n",
        "        acc = binary_acc(outputs, label)\n",
        "        train_acc_sum += acc\n",
        "        train_cnt += 1\n",
        "\n",
        "        if i % 1000 == 1:    # print every 2000 mini-batches\n",
        "            print('----- TRAIN -----')\n",
        "            print('[%d, %5d] loss: %.3f' % (epoch_idx + 1, i + 1, running_loss))\n",
        "            print('- acc:', train_acc_sum / train_cnt, flush=True)\n",
        "\n",
        "            running_loss = 0.0\n",
        "            train_cnt = 0\n",
        "            train_acc_sum = 0\n",
        "            # print(outputs, label)\n",
        "\n",
        "            ## val\n",
        "            model.eval()\n",
        "            cnt = 0\n",
        "            acc_sum = 0\n",
        "            real_acc_sum = 0\n",
        "            real_rule_acc_sum = 0\n",
        "            real_rule2_acc_sum = 0\n",
        "            \n",
        "            for _, val_data in tqdm(enumerate(val_dl, 0)):\n",
        "                user_click_history, num_user_click_history, user_discrete_feature, \\\n",
        "                    item_id, item_discrete_feature, item_cont_feature, label = val_data\n",
        "                outputs = model(user_click_history, num_user_click_history, user_discrete_feature, \\\n",
        "                    item_id, item_discrete_feature, item_cont_feature)\n",
        "                acc = binary_acc(outputs, label)\n",
        "                real_acc = real_acc_calc(outputs, label)\n",
        "                real_rule_acc = real_acc_rule_calc(outputs, label)\n",
        "                real_rule2_acc = real_acc_rule2_calc(outputs, label)\n",
        "                \n",
        "                acc_sum += acc\n",
        "                real_acc_sum += real_acc\n",
        "                real_rule_acc_sum += real_rule_acc\n",
        "                real_rule2_acc_sum += real_rule2_acc\n",
        "\n",
        "                cnt += 1\n",
        "            print('----- VAL -----')\n",
        "            print('- acc:', acc_sum / cnt)\n",
        "            print('- real acc:', real_acc_sum / cnt)\n",
        "            print('- real rule acc:', real_rule_acc_sum / cnt)\n",
        "            print('- real rule2 acc:', real_rule2_acc_sum / cnt)\n",
        "\n",
        "print('Finished Training')"
      ],
      "execution_count": null,
      "outputs": [
        {
          "output_type": "stream",
          "text": [
            "----- TRAIN -----\n",
            "[1,     2] loss: 1.438\n",
            "- acc: tensor(0.5156)\n"
          ],
          "name": "stdout"
        },
        {
          "output_type": "stream",
          "text": [
            "13005it [00:36, 359.67it/s]\n"
          ],
          "name": "stderr"
        },
        {
          "output_type": "stream",
          "text": [
            "----- VAL -----\n",
            "- acc: tensor(0.5883)\n",
            "- real acc: 0.08227604767397155\n",
            "- real rule acc: 0.0946559015763168\n",
            "- real rule2 acc: 0.12856593617839293\n",
            "----- TRAIN -----\n",
            "[1,  1002] loss: 528.724\n",
            "- acc: tensor(0.7445)\n"
          ],
          "name": "stdout"
        },
        {
          "output_type": "stream",
          "text": [
            "13005it [00:35, 362.85it/s]\n"
          ],
          "name": "stderr"
        },
        {
          "output_type": "stream",
          "text": [
            "----- VAL -----\n",
            "- acc: tensor(0.7494)\n",
            "- real acc: 0.20499807766243752\n",
            "- real rule acc: 0.21491733948481354\n",
            "- real rule2 acc: 0.24159938485198001\n",
            "----- TRAIN -----\n",
            "[1,  2002] loss: 519.285\n",
            "- acc: tensor(0.7462)\n"
          ],
          "name": "stdout"
        },
        {
          "output_type": "stream",
          "text": [
            "13005it [00:36, 359.47it/s]\n"
          ],
          "name": "stderr"
        },
        {
          "output_type": "stream",
          "text": [
            "----- VAL -----\n",
            "- acc: tensor(0.7465)\n",
            "- real acc: 0.24390618992695118\n",
            "- real rule acc: 0.2537485582468281\n",
            "- real rule2 acc: 0.2701268742791234\n",
            "----- TRAIN -----\n",
            "[1,  3002] loss: 509.129\n",
            "- acc: tensor(0.7527)\n"
          ],
          "name": "stdout"
        },
        {
          "output_type": "stream",
          "text": [
            "13005it [00:35, 365.08it/s]\n"
          ],
          "name": "stderr"
        },
        {
          "output_type": "stream",
          "text": [
            "----- VAL -----\n",
            "- acc: tensor(0.7553)\n",
            "- real acc: 0.18346789696270666\n",
            "- real rule acc: 0.19707804690503652\n",
            "- real rule2 acc: 0.23391003460207613\n",
            "----- TRAIN -----\n",
            "[1,  4002] loss: 501.312\n",
            "- acc: tensor(0.7599)\n"
          ],
          "name": "stdout"
        },
        {
          "output_type": "stream",
          "text": [
            "13005it [00:35, 361.45it/s]\n"
          ],
          "name": "stderr"
        },
        {
          "output_type": "stream",
          "text": [
            "----- VAL -----\n",
            "- acc: tensor(0.7591)\n",
            "- real acc: 0.23260284505959247\n",
            "- real rule acc: 0.24013840830449826\n",
            "- real rule2 acc: 0.25520953479430986\n",
            "----- TRAIN -----\n",
            "[1,  5002] loss: 500.424\n",
            "- acc: tensor(0.7604)\n"
          ],
          "name": "stdout"
        },
        {
          "output_type": "stream",
          "text": [
            "13005it [00:35, 362.03it/s]\n"
          ],
          "name": "stderr"
        },
        {
          "output_type": "stream",
          "text": [
            "----- VAL -----\n",
            "- acc: tensor(0.7616)\n",
            "- real acc: 0.20153787004998078\n",
            "- real rule acc: 0.20838139177239523\n",
            "- real rule2 acc: 0.2271434063821607\n",
            "----- TRAIN -----\n",
            "[1,  6002] loss: 494.436\n",
            "- acc: tensor(0.7657)\n"
          ],
          "name": "stdout"
        },
        {
          "output_type": "stream",
          "text": [
            "13005it [00:35, 361.52it/s]\n"
          ],
          "name": "stderr"
        },
        {
          "output_type": "stream",
          "text": [
            "----- VAL -----\n",
            "- acc: tensor(0.7637)\n",
            "- real acc: 0.21237985390234526\n",
            "- real rule acc: 0.22122260668973473\n",
            "- real rule2 acc: 0.24206074586697424\n",
            "----- TRAIN -----\n",
            "[1,  7002] loss: 491.484\n",
            "- acc: tensor(0.7667)\n"
          ],
          "name": "stdout"
        },
        {
          "output_type": "stream",
          "text": [
            "13005it [00:36, 359.03it/s]\n"
          ],
          "name": "stderr"
        },
        {
          "output_type": "stream",
          "text": [
            "----- VAL -----\n",
            "- acc: tensor(0.7644)\n",
            "- real acc: 0.2219915417147251\n",
            "- real rule acc: 0.23137254901960785\n",
            "- real rule2 acc: 0.2485198000768935\n",
            "----- TRAIN -----\n",
            "[1,  8002] loss: 496.413\n",
            "- acc: tensor(0.7616)\n"
          ],
          "name": "stdout"
        },
        {
          "output_type": "stream",
          "text": [
            "13005it [00:36, 361.05it/s]\n"
          ],
          "name": "stderr"
        },
        {
          "output_type": "stream",
          "text": [
            "----- VAL -----\n",
            "- acc: tensor(0.7663)\n",
            "- real acc: 0.21768550557477892\n",
            "- real rule acc: 0.22637447135717031\n",
            "- real rule2 acc: 0.24390618992695118\n",
            "----- TRAIN -----\n",
            "[1,  9002] loss: 488.702\n",
            "- acc: tensor(0.7688)\n"
          ],
          "name": "stdout"
        },
        {
          "output_type": "stream",
          "text": [
            "13005it [00:35, 363.89it/s]\n"
          ],
          "name": "stderr"
        },
        {
          "output_type": "stream",
          "text": [
            "----- VAL -----\n",
            "- acc: tensor(0.7680)\n",
            "- real acc: 0.2302960399846213\n",
            "- real rule acc: 0.23844675124951942\n",
            "- real rule2 acc: 0.2506728181468666\n",
            "----- TRAIN -----\n",
            "[1, 10002] loss: 487.476\n",
            "- acc: tensor(0.7687)\n"
          ],
          "name": "stdout"
        },
        {
          "output_type": "stream",
          "text": [
            "13005it [00:35, 365.94it/s]\n"
          ],
          "name": "stderr"
        },
        {
          "output_type": "stream",
          "text": [
            "----- VAL -----\n",
            "- acc: tensor(0.7680)\n",
            "- real acc: 0.2542868127643214\n",
            "- real rule acc: 0.26197616301422527\n",
            "- real rule2 acc: 0.2696655132641292\n",
            "----- TRAIN -----\n",
            "[1, 11002] loss: 488.492\n",
            "- acc: tensor(0.7706)\n"
          ],
          "name": "stdout"
        },
        {
          "output_type": "stream",
          "text": [
            "13005it [00:36, 352.73it/s]\n"
          ],
          "name": "stderr"
        },
        {
          "output_type": "stream",
          "text": [
            "----- VAL -----\n",
            "- acc: tensor(0.7685)\n",
            "- real acc: 0.24021530180699732\n",
            "- real rule acc: 0.2471357170319108\n",
            "- real rule2 acc: 0.25551710880430606\n",
            "----- TRAIN -----\n",
            "[1, 12002] loss: 479.145\n",
            "- acc: tensor(0.7745)\n"
          ],
          "name": "stdout"
        },
        {
          "output_type": "stream",
          "text": [
            "13005it [00:35, 369.66it/s]\n"
          ],
          "name": "stderr"
        },
        {
          "output_type": "stream",
          "text": [
            "----- VAL -----\n",
            "- acc: tensor(0.7725)\n",
            "- real acc: 0.2477508650519031\n",
            "- real rule acc: 0.2569011918492887\n",
            "- real rule2 acc: 0.26782006920415224\n",
            "----- TRAIN -----\n",
            "[1, 13002] loss: 481.649\n",
            "- acc: tensor(0.7718)\n"
          ],
          "name": "stdout"
        },
        {
          "output_type": "stream",
          "text": [
            "13005it [00:34, 372.20it/s]\n"
          ],
          "name": "stderr"
        },
        {
          "output_type": "stream",
          "text": [
            "----- VAL -----\n",
            "- acc: tensor(0.7717)\n",
            "- real acc: 0.23606305267204922\n",
            "- real rule acc: 0.24367550941945407\n",
            "- real rule2 acc: 0.2584390618992695\n",
            "----- TRAIN -----\n",
            "[1, 14002] loss: 480.463\n",
            "- acc: tensor(0.7745)\n"
          ],
          "name": "stdout"
        },
        {
          "output_type": "stream",
          "text": [
            "13005it [00:35, 368.67it/s]\n"
          ],
          "name": "stderr"
        },
        {
          "output_type": "stream",
          "text": [
            "----- VAL -----\n",
            "- acc: tensor(0.7720)\n",
            "- real acc: 0.24282968089196463\n",
            "- real rule acc: 0.2519031141868512\n",
            "- real rule2 acc: 0.2678969627066513\n",
            "----- TRAIN -----\n",
            "[1, 15002] loss: 477.882\n",
            "- acc: tensor(0.7775)\n"
          ],
          "name": "stdout"
        },
        {
          "output_type": "stream",
          "text": [
            "13005it [00:35, 369.52it/s]\n"
          ],
          "name": "stderr"
        },
        {
          "output_type": "stream",
          "text": [
            "----- VAL -----\n",
            "- acc: tensor(0.7717)\n",
            "- real acc: 0.25713187235678586\n",
            "- real rule acc: 0.2685121107266436\n",
            "- real rule2 acc: 0.27935409457900806\n",
            "----- TRAIN -----\n",
            "[1, 16002] loss: 478.939\n",
            "- acc: tensor(0.7791)\n"
          ],
          "name": "stdout"
        },
        {
          "output_type": "stream",
          "text": [
            "13005it [00:36, 356.57it/s]\n"
          ],
          "name": "stderr"
        },
        {
          "output_type": "stream",
          "text": [
            "----- VAL -----\n",
            "- acc: tensor(0.7645)\n",
            "- real acc: 0.2780469050365244\n",
            "- real rule acc: 0.2837370242214533\n",
            "- real rule2 acc: 0.2875048058439062\n",
            "----- TRAIN -----\n",
            "[1, 17002] loss: 474.871\n",
            "- acc: tensor(0.7759)\n"
          ],
          "name": "stdout"
        },
        {
          "output_type": "stream",
          "text": [
            "13005it [00:35, 363.87it/s]\n"
          ],
          "name": "stderr"
        },
        {
          "output_type": "stream",
          "text": [
            "----- VAL -----\n",
            "- acc: tensor(0.7736)\n",
            "- real acc: 0.25459438677431756\n",
            "- real rule acc: 0.2621299500192234\n",
            "- real rule2 acc: 0.27197231833910035\n",
            "----- TRAIN -----\n",
            "[1, 18002] loss: 477.290\n",
            "- acc: tensor(0.7774)\n"
          ],
          "name": "stdout"
        },
        {
          "output_type": "stream",
          "text": [
            "13005it [00:35, 363.81it/s]\n"
          ],
          "name": "stderr"
        },
        {
          "output_type": "stream",
          "text": [
            "----- VAL -----\n",
            "- acc: tensor(0.7751)\n",
            "- real acc: 0.24113802383698577\n",
            "- real rule acc: 0.2512879661668589\n",
            "- real rule2 acc: 0.2669742406766628\n",
            "----- TRAIN -----\n",
            "[1, 19002] loss: 478.124\n",
            "- acc: tensor(0.7781)\n"
          ],
          "name": "stdout"
        },
        {
          "output_type": "stream",
          "text": [
            "13005it [00:36, 360.40it/s]\n"
          ],
          "name": "stderr"
        },
        {
          "output_type": "stream",
          "text": [
            "----- VAL -----\n",
            "- acc: tensor(0.7752)\n",
            "- real acc: 0.253440984236832\n",
            "- real rule acc: 0.2642060745866974\n",
            "- real rule2 acc: 0.2776624375240292\n",
            "----- TRAIN -----\n",
            "[1, 20002] loss: 481.812\n",
            "- acc: tensor(0.7711)\n"
          ],
          "name": "stdout"
        },
        {
          "output_type": "stream",
          "text": [
            "13005it [00:35, 367.28it/s]\n"
          ],
          "name": "stderr"
        },
        {
          "output_type": "stream",
          "text": [
            "----- VAL -----\n",
            "- acc: tensor(0.7755)\n",
            "- real acc: 0.25736255286428295\n",
            "- real rule acc: 0.26628219915417145\n",
            "- real rule2 acc: 0.2801999231064975\n",
            "----- TRAIN -----\n",
            "[1, 21002] loss: 479.040\n",
            "- acc: tensor(0.7750)\n"
          ],
          "name": "stdout"
        },
        {
          "output_type": "stream",
          "text": [
            "13005it [00:35, 366.74it/s]\n"
          ],
          "name": "stderr"
        },
        {
          "output_type": "stream",
          "text": [
            "----- VAL -----\n",
            "- acc: tensor(0.7749)\n",
            "- real acc: 0.2542099192618224\n",
            "- real rule acc: 0.26605151864667437\n",
            "- real rule2 acc: 0.283275663206459\n",
            "----- TRAIN -----\n",
            "[1, 22002] loss: 473.050\n",
            "- acc: tensor(0.7799)\n"
          ],
          "name": "stdout"
        },
        {
          "output_type": "stream",
          "text": [
            "13005it [00:35, 362.46it/s]\n"
          ],
          "name": "stderr"
        },
        {
          "output_type": "stream",
          "text": [
            "----- VAL -----\n",
            "- acc: tensor(0.7748)\n",
            "- real acc: 0.26343713956170706\n",
            "- real rule acc: 0.2736639753940792\n",
            "- real rule2 acc: 0.281199538638985\n",
            "----- TRAIN -----\n",
            "[1, 23002] loss: 471.839\n",
            "- acc: tensor(0.7797)\n"
          ],
          "name": "stdout"
        },
        {
          "output_type": "stream",
          "text": [
            "13005it [00:35, 361.85it/s]\n"
          ],
          "name": "stderr"
        },
        {
          "output_type": "stream",
          "text": [
            "----- VAL -----\n",
            "- acc: tensor(0.7734)\n",
            "- real acc: 0.26505190311418686\n",
            "- real rule acc: 0.27143406382160706\n",
            "- real rule2 acc: 0.27735486351403305\n",
            "----- TRAIN -----\n",
            "[1, 24002] loss: 471.644\n",
            "- acc: tensor(0.7807)\n"
          ],
          "name": "stdout"
        },
        {
          "output_type": "stream",
          "text": [
            "13005it [00:36, 357.02it/s]\n"
          ],
          "name": "stderr"
        },
        {
          "output_type": "stream",
          "text": [
            "----- VAL -----\n",
            "- acc: tensor(0.7747)\n",
            "- real acc: 0.26620530565167244\n",
            "- real rule acc: 0.2748942714340638\n",
            "- real rule2 acc: 0.28127643214148407\n",
            "----- TRAIN -----\n",
            "[1, 25002] loss: 475.327\n",
            "- acc: tensor(0.7764)\n"
          ],
          "name": "stdout"
        },
        {
          "output_type": "stream",
          "text": [
            "13005it [00:36, 356.70it/s]\n"
          ],
          "name": "stderr"
        },
        {
          "output_type": "stream",
          "text": [
            "----- VAL -----\n",
            "- acc: tensor(0.7768)\n",
            "- real acc: 0.2348327566320646\n",
            "- real rule acc: 0.24421376393694733\n",
            "- real rule2 acc: 0.2639753940792003\n",
            "----- TRAIN -----\n",
            "[1, 26002] loss: 471.717\n",
            "- acc: tensor(0.7779)\n"
          ],
          "name": "stdout"
        },
        {
          "output_type": "stream",
          "text": [
            "13005it [00:35, 362.52it/s]\n"
          ],
          "name": "stderr"
        },
        {
          "output_type": "stream",
          "text": [
            "----- VAL -----\n",
            "- acc: tensor(0.7782)\n",
            "- real acc: 0.24805843906189928\n",
            "- real rule acc: 0.2586697424067666\n",
            "- real rule2 acc: 0.27474048442906573\n",
            "----- TRAIN -----\n",
            "[1, 27002] loss: 471.710\n",
            "- acc: tensor(0.7785)\n"
          ],
          "name": "stdout"
        },
        {
          "output_type": "stream",
          "text": [
            "13005it [00:36, 358.91it/s]\n"
          ],
          "name": "stderr"
        },
        {
          "output_type": "stream",
          "text": [
            "----- VAL -----\n",
            "- acc: tensor(0.7761)\n",
            "- real acc: 0.2585159554017685\n",
            "- real rule acc: 0.26782006920415224\n",
            "- real rule2 acc: 0.2770472895040369\n",
            "----- TRAIN -----\n",
            "[1, 28002] loss: 473.051\n",
            "- acc: tensor(0.7766)\n"
          ],
          "name": "stdout"
        },
        {
          "output_type": "stream",
          "text": [
            "13005it [00:35, 364.15it/s]\n"
          ],
          "name": "stderr"
        },
        {
          "output_type": "stream",
          "text": [
            "----- VAL -----\n",
            "- acc: tensor(0.7778)\n",
            "- real acc: 0.24290657439446367\n",
            "- real rule acc: 0.25151864667435603\n",
            "- real rule2 acc: 0.2689734717416378\n",
            "----- TRAIN -----\n",
            "[1, 29002] loss: 466.584\n",
            "- acc: tensor(0.7829)\n"
          ],
          "name": "stdout"
        },
        {
          "output_type": "stream",
          "text": [
            "13005it [00:35, 361.45it/s]\n"
          ],
          "name": "stderr"
        },
        {
          "output_type": "stream",
          "text": [
            "----- VAL -----\n",
            "- acc: tensor(0.7793)\n",
            "- real acc: 0.24467512495194155\n",
            "- real rule acc: 0.25459438677431756\n",
            "- real rule2 acc: 0.26820453671664746\n",
            "----- TRAIN -----\n",
            "[1, 30002] loss: 469.493\n",
            "- acc: tensor(0.7790)\n"
          ],
          "name": "stdout"
        },
        {
          "output_type": "stream",
          "text": [
            "13005it [00:35, 361.97it/s]\n"
          ],
          "name": "stderr"
        },
        {
          "output_type": "stream",
          "text": [
            "----- VAL -----\n",
            "- acc: tensor(0.7773)\n",
            "- real acc: 0.24813533256439832\n",
            "- real rule acc: 0.25728565936178394\n",
            "- real rule2 acc: 0.267358708189158\n",
            "----- TRAIN -----\n",
            "[1, 31002] loss: 466.536\n",
            "- acc: tensor(0.7834)\n"
          ],
          "name": "stdout"
        },
        {
          "output_type": "stream",
          "text": [
            "13005it [00:36, 360.78it/s]\n"
          ],
          "name": "stderr"
        },
        {
          "output_type": "stream",
          "text": [
            "----- VAL -----\n",
            "- acc: tensor(0.7769)\n",
            "- real acc: 0.2754325259515571\n",
            "- real rule acc: 0.28604382929642447\n",
            "- real rule2 acc: 0.29473279507881583\n",
            "----- TRAIN -----\n",
            "[1, 32002] loss: 464.532\n",
            "- acc: tensor(0.7819)\n"
          ],
          "name": "stdout"
        },
        {
          "output_type": "stream",
          "text": [
            "13005it [00:35, 362.06it/s]\n"
          ],
          "name": "stderr"
        },
        {
          "output_type": "stream",
          "text": [
            "----- VAL -----\n",
            "- acc: tensor(0.7788)\n",
            "- real acc: 0.255440215301807\n",
            "- real rule acc: 0.26582083813917723\n",
            "- real rule2 acc: 0.28035371011149557\n",
            "----- TRAIN -----\n",
            "[1, 33002] loss: 470.577\n",
            "- acc: tensor(0.7805)\n"
          ],
          "name": "stdout"
        },
        {
          "output_type": "stream",
          "text": [
            "13005it [00:36, 359.65it/s]\n"
          ],
          "name": "stderr"
        },
        {
          "output_type": "stream",
          "text": [
            "----- VAL -----\n",
            "- acc: tensor(0.7799)\n",
            "- real acc: 0.2585159554017685\n",
            "- real rule acc: 0.2686658977316417\n",
            "- real rule2 acc: 0.2796616685890042\n",
            "----- TRAIN -----\n",
            "[1, 34002] loss: 461.123\n",
            "- acc: tensor(0.7848)\n"
          ],
          "name": "stdout"
        },
        {
          "output_type": "stream",
          "text": [
            "13005it [00:36, 355.58it/s]\n"
          ],
          "name": "stderr"
        },
        {
          "output_type": "stream",
          "text": [
            "----- VAL -----\n",
            "- acc: tensor(0.7781)\n",
            "- real acc: 0.2623606305267205\n",
            "- real rule acc: 0.2728950403690888\n",
            "- real rule2 acc: 0.2845059592464437\n",
            "----- TRAIN -----\n",
            "[1, 35002] loss: 467.844\n",
            "- acc: tensor(0.7804)\n"
          ],
          "name": "stdout"
        },
        {
          "output_type": "stream",
          "text": [
            "13005it [00:35, 363.25it/s]\n"
          ],
          "name": "stderr"
        },
        {
          "output_type": "stream",
          "text": [
            "----- VAL -----\n",
            "- acc: tensor(0.7749)\n",
            "- real acc: 0.26566705113417916\n",
            "- real rule acc: 0.2778162245290273\n",
            "- real rule2 acc: 0.2918877354863514\n",
            "----- TRAIN -----\n",
            "[1, 36002] loss: 472.327\n",
            "- acc: tensor(0.7802)\n"
          ],
          "name": "stdout"
        },
        {
          "output_type": "stream",
          "text": [
            "13005it [00:36, 359.69it/s]\n"
          ],
          "name": "stderr"
        },
        {
          "output_type": "stream",
          "text": [
            "----- VAL -----\n",
            "- acc: tensor(0.7788)\n",
            "- real acc: 0.2585928489042676\n",
            "- real rule acc: 0.26828143021914647\n",
            "- real rule2 acc: 0.28096885813148786\n",
            "----- TRAIN -----\n",
            "[1, 37002] loss: 469.660\n",
            "- acc: tensor(0.7814)\n"
          ],
          "name": "stdout"
        },
        {
          "output_type": "stream",
          "text": [
            "13005it [00:36, 360.57it/s]\n"
          ],
          "name": "stderr"
        },
        {
          "output_type": "stream",
          "text": [
            "----- VAL -----\n",
            "- acc: tensor(0.7763)\n",
            "- real acc: 0.28266051518646673\n",
            "- real rule acc: 0.2943483275663206\n",
            "- real rule2 acc: 0.30680507497116494\n",
            "----- TRAIN -----\n",
            "[1, 38002] loss: 466.042\n",
            "- acc: tensor(0.7843)\n"
          ],
          "name": "stdout"
        },
        {
          "output_type": "stream",
          "text": [
            "13005it [00:36, 355.21it/s]\n"
          ],
          "name": "stderr"
        },
        {
          "output_type": "stream",
          "text": [
            "----- VAL -----\n",
            "- acc: tensor(0.7801)\n",
            "- real acc: 0.2685121107266436\n",
            "- real rule acc: 0.27773933102652826\n",
            "- real rule2 acc: 0.28673587081891583\n",
            "----- TRAIN -----\n",
            "[1, 39002] loss: 473.266\n",
            "- acc: tensor(0.7793)\n"
          ],
          "name": "stdout"
        },
        {
          "output_type": "stream",
          "text": [
            "13005it [00:36, 354.55it/s]\n"
          ],
          "name": "stderr"
        },
        {
          "output_type": "stream",
          "text": [
            "----- VAL -----\n",
            "- acc: tensor(0.7783)\n",
            "- real acc: 0.25982314494425224\n",
            "- real rule acc: 0.26981930026912726\n",
            "- real rule2 acc: 0.28089196462898885\n",
            "----- TRAIN -----\n",
            "[1, 40002] loss: 469.439\n",
            "- acc: tensor(0.7804)\n"
          ],
          "name": "stdout"
        },
        {
          "output_type": "stream",
          "text": [
            "13005it [00:36, 358.31it/s]\n"
          ],
          "name": "stderr"
        },
        {
          "output_type": "stream",
          "text": [
            "----- VAL -----\n",
            "- acc: tensor(0.7801)\n",
            "- real acc: 0.2609765474817378\n",
            "- real rule acc: 0.27035755478662055\n",
            "- real rule2 acc: 0.28089196462898885\n",
            "----- TRAIN -----\n",
            "[1, 41002] loss: 464.457\n",
            "- acc: tensor(0.7841)\n"
          ],
          "name": "stdout"
        },
        {
          "output_type": "stream",
          "text": [
            "13005it [00:36, 357.62it/s]\n"
          ],
          "name": "stderr"
        },
        {
          "output_type": "stream",
          "text": [
            "----- VAL -----\n",
            "- acc: tensor(0.7757)\n",
            "- real acc: 0.2748942714340638\n",
            "- real rule acc: 0.287043444828912\n",
            "- real rule2 acc: 0.2965013456362937\n",
            "----- TRAIN -----\n",
            "[1, 42002] loss: 465.151\n",
            "- acc: tensor(0.7816)\n"
          ],
          "name": "stdout"
        },
        {
          "output_type": "stream",
          "text": [
            "13005it [00:36, 360.94it/s]\n"
          ],
          "name": "stderr"
        },
        {
          "output_type": "stream",
          "text": [
            "----- VAL -----\n",
            "- acc: tensor(0.7811)\n",
            "- real acc: 0.27412533640907344\n",
            "- real rule acc: 0.28404459823144945\n",
            "- real rule2 acc: 0.29565551710880433\n",
            "----- TRAIN -----\n",
            "[1, 43002] loss: 464.247\n",
            "- acc: tensor(0.7845)\n"
          ],
          "name": "stdout"
        },
        {
          "output_type": "stream",
          "text": [
            "13005it [00:36, 359.57it/s]\n"
          ],
          "name": "stderr"
        },
        {
          "output_type": "stream",
          "text": [
            "----- VAL -----\n",
            "- acc: tensor(0.7807)\n",
            "- real acc: 0.26582083813917723\n",
            "- real rule acc: 0.27297193387158786\n",
            "- real rule2 acc: 0.28404459823144945\n",
            "----- TRAIN -----\n",
            "[1, 44002] loss: 466.872\n",
            "- acc: tensor(0.7819)\n"
          ],
          "name": "stdout"
        },
        {
          "output_type": "stream",
          "text": [
            "13005it [00:36, 357.02it/s]\n"
          ],
          "name": "stderr"
        },
        {
          "output_type": "stream",
          "text": [
            "----- VAL -----\n",
            "- acc: tensor(0.7804)\n",
            "- real acc: 0.26943483275663205\n",
            "- real rule acc: 0.2774317570165321\n",
            "- real rule2 acc: 0.287043444828912\n",
            "----- TRAIN -----\n",
            "[1, 45002] loss: 460.778\n",
            "- acc: tensor(0.7854)\n"
          ],
          "name": "stdout"
        },
        {
          "output_type": "stream",
          "text": [
            "13005it [00:36, 359.13it/s]\n"
          ],
          "name": "stderr"
        },
        {
          "output_type": "stream",
          "text": [
            "----- VAL -----\n",
            "- acc: tensor(0.7811)\n",
            "- real acc: 0.267358708189158\n",
            "- real rule acc: 0.27550941945405616\n",
            "- real rule2 acc: 0.2855055747789312\n",
            "----- TRAIN -----\n",
            "[1, 46002] loss: 467.236\n",
            "- acc: tensor(0.7833)\n"
          ],
          "name": "stdout"
        },
        {
          "output_type": "stream",
          "text": [
            "13005it [00:36, 359.05it/s]\n"
          ],
          "name": "stderr"
        },
        {
          "output_type": "stream",
          "text": [
            "----- VAL -----\n",
            "- acc: tensor(0.7793)\n",
            "- real acc: 0.25236447520184546\n",
            "- real rule acc: 0.26605151864667437\n",
            "- real rule2 acc: 0.28427527873894654\n",
            "----- TRAIN -----\n",
            "[1, 47002] loss: 462.153\n",
            "- acc: tensor(0.7857)\n"
          ],
          "name": "stdout"
        },
        {
          "output_type": "stream",
          "text": [
            "13005it [00:36, 358.53it/s]\n"
          ],
          "name": "stderr"
        },
        {
          "output_type": "stream",
          "text": [
            "----- VAL -----\n",
            "- acc: tensor(0.7800)\n",
            "- real acc: 0.2578239138792772\n",
            "- real rule acc: 0.2668973471741638\n",
            "- real rule2 acc: 0.2806612841214917\n",
            "----- TRAIN -----\n",
            "[1, 48002] loss: 463.692\n",
            "- acc: tensor(0.7830)\n"
          ],
          "name": "stdout"
        },
        {
          "output_type": "stream",
          "text": [
            "13005it [00:36, 358.53it/s]\n"
          ],
          "name": "stderr"
        },
        {
          "output_type": "stream",
          "text": [
            "----- VAL -----\n",
            "- acc: tensor(0.7789)\n",
            "- real acc: 0.26582083813917723\n",
            "- real rule acc: 0.2744329104190696\n",
            "- real rule2 acc: 0.2837370242214533\n",
            "----- TRAIN -----\n",
            "[1, 49002] loss: 460.075\n",
            "- acc: tensor(0.7844)\n"
          ],
          "name": "stdout"
        },
        {
          "output_type": "stream",
          "text": [
            "13005it [00:36, 356.76it/s]\n"
          ],
          "name": "stderr"
        },
        {
          "output_type": "stream",
          "text": [
            "----- VAL -----\n",
            "- acc: tensor(0.7806)\n",
            "- real acc: 0.2770472895040369\n",
            "- real rule acc: 0.28565936178392926\n",
            "- real rule2 acc: 0.29627066512879663\n",
            "----- TRAIN -----\n",
            "[1, 50002] loss: 458.965\n",
            "- acc: tensor(0.7877)\n"
          ],
          "name": "stdout"
        },
        {
          "output_type": "stream",
          "text": [
            "13005it [00:36, 356.06it/s]\n"
          ],
          "name": "stderr"
        },
        {
          "output_type": "stream",
          "text": [
            "----- VAL -----\n",
            "- acc: tensor(0.7796)\n",
            "- real acc: 0.2528258362168397\n",
            "- real rule acc: 0.2621299500192234\n",
            "- real rule2 acc: 0.27935409457900806\n",
            "----- TRAIN -----\n",
            "[1, 51002] loss: 460.367\n",
            "- acc: tensor(0.7840)\n"
          ],
          "name": "stdout"
        },
        {
          "output_type": "stream",
          "text": [
            "13005it [00:36, 359.94it/s]\n"
          ],
          "name": "stderr"
        },
        {
          "output_type": "stream",
          "text": [
            "----- VAL -----\n",
            "- acc: tensor(0.7793)\n",
            "- real acc: 0.2445982314494425\n",
            "- real rule acc: 0.2522106881968474\n",
            "- real rule2 acc: 0.26920415224913496\n",
            "----- TRAIN -----\n",
            "[1, 52002] loss: 462.672\n",
            "- acc: tensor(0.7829)\n"
          ],
          "name": "stdout"
        },
        {
          "output_type": "stream",
          "text": [
            "13005it [00:36, 356.08it/s]\n"
          ],
          "name": "stderr"
        },
        {
          "output_type": "stream",
          "text": [
            "----- VAL -----\n",
            "- acc: tensor(0.7807)\n",
            "- real acc: 0.2691272587466359\n",
            "- real rule acc: 0.2805843906189927\n",
            "- real rule2 acc: 0.2944252210688197\n",
            "----- TRAIN -----\n",
            "[1, 53002] loss: 460.366\n",
            "- acc: tensor(0.7853)\n"
          ],
          "name": "stdout"
        },
        {
          "output_type": "stream",
          "text": [
            "13005it [00:36, 354.14it/s]\n"
          ],
          "name": "stderr"
        },
        {
          "output_type": "stream",
          "text": [
            "----- VAL -----\n",
            "- acc: tensor(0.7800)\n",
            "- real acc: 0.25720876585928487\n",
            "- real rule acc: 0.2669742406766628\n",
            "- real rule2 acc: 0.28204536716647444\n",
            "----- TRAIN -----\n",
            "[1, 54002] loss: 460.682\n",
            "- acc: tensor(0.7847)\n"
          ],
          "name": "stdout"
        },
        {
          "output_type": "stream",
          "text": [
            "13005it [00:36, 359.80it/s]\n"
          ],
          "name": "stderr"
        },
        {
          "output_type": "stream",
          "text": [
            "----- VAL -----\n",
            "- acc: tensor(0.7810)\n",
            "- real acc: 0.2685890042291426\n",
            "- real rule acc: 0.2778162245290273\n",
            "- real rule2 acc: 0.28981161091887736\n",
            "----- TRAIN -----\n",
            "[1, 55002] loss: 463.859\n",
            "- acc: tensor(0.7844)\n"
          ],
          "name": "stdout"
        },
        {
          "output_type": "stream",
          "text": [
            "13005it [00:36, 360.93it/s]\n"
          ],
          "name": "stderr"
        },
        {
          "output_type": "stream",
          "text": [
            "----- VAL -----\n",
            "- acc: tensor(0.7813)\n",
            "- real acc: 0.25928489042675895\n",
            "- real rule acc: 0.26981930026912726\n",
            "- real rule2 acc: 0.2879661668589004\n",
            "----- TRAIN -----\n",
            "[1, 56002] loss: 461.153\n",
            "- acc: tensor(0.7839)\n"
          ],
          "name": "stdout"
        },
        {
          "output_type": "stream",
          "text": [
            "13005it [00:36, 358.38it/s]\n"
          ],
          "name": "stderr"
        },
        {
          "output_type": "stream",
          "text": [
            "----- VAL -----\n",
            "- acc: tensor(0.7801)\n",
            "- real acc: 0.27304882737408687\n",
            "- real rule acc: 0.28342945021145716\n",
            "- real rule2 acc: 0.2975009611687812\n",
            "----- TRAIN -----\n",
            "[1, 57002] loss: 465.034\n",
            "- acc: tensor(0.7813)\n"
          ],
          "name": "stdout"
        },
        {
          "output_type": "stream",
          "text": [
            "13005it [00:36, 356.01it/s]\n"
          ],
          "name": "stderr"
        },
        {
          "output_type": "stream",
          "text": [
            "----- VAL -----\n",
            "- acc: tensor(0.7814)\n",
            "- real acc: 0.2616685890042291\n",
            "- real rule acc: 0.27120338331411\n",
            "- real rule2 acc: 0.2837370242214533\n",
            "----- TRAIN -----\n",
            "[1, 58002] loss: 463.866\n",
            "- acc: tensor(0.7830)\n"
          ],
          "name": "stdout"
        },
        {
          "output_type": "stream",
          "text": [
            "13005it [00:37, 350.10it/s]\n"
          ],
          "name": "stderr"
        },
        {
          "output_type": "stream",
          "text": [
            "----- VAL -----\n",
            "- acc: tensor(0.7806)\n",
            "- real acc: 0.2501345636293733\n",
            "- real rule acc: 0.2589773164167628\n",
            "- real rule2 acc: 0.2774317570165321\n",
            "----- TRAIN -----\n",
            "[1, 59002] loss: 458.968\n",
            "- acc: tensor(0.7851)\n"
          ],
          "name": "stdout"
        },
        {
          "output_type": "stream",
          "text": [
            "13005it [00:36, 355.06it/s]\n"
          ],
          "name": "stderr"
        },
        {
          "output_type": "stream",
          "text": [
            "----- VAL -----\n",
            "- acc: tensor(0.7811)\n",
            "- real acc: 0.2507497116493656\n",
            "- real rule acc: 0.2605920799692426\n",
            "- real rule2 acc: 0.275278738946559\n",
            "----- TRAIN -----\n",
            "[1, 60002] loss: 468.010\n",
            "- acc: tensor(0.7815)\n"
          ],
          "name": "stdout"
        },
        {
          "output_type": "stream",
          "text": [
            "13005it [00:37, 350.28it/s]\n"
          ],
          "name": "stderr"
        },
        {
          "output_type": "stream",
          "text": [
            "----- VAL -----\n",
            "- acc: tensor(0.7810)\n",
            "- real acc: 0.2695886197616301\n",
            "- real rule acc: 0.2818146866589773\n",
            "- real rule2 acc: 0.297039600153787\n",
            "----- TRAIN -----\n",
            "[1, 61002] loss: 459.134\n",
            "- acc: tensor(0.7853)\n"
          ],
          "name": "stdout"
        },
        {
          "output_type": "stream",
          "text": [
            "13005it [00:37, 349.75it/s]\n"
          ],
          "name": "stderr"
        },
        {
          "output_type": "stream",
          "text": [
            "----- VAL -----\n",
            "- acc: tensor(0.7815)\n",
            "- real acc: 0.255440215301807\n",
            "- real rule acc: 0.2649750096116878\n",
            "- real rule2 acc: 0.27920030757401\n",
            "----- TRAIN -----\n",
            "[1, 62002] loss: 468.944\n",
            "- acc: tensor(0.7806)\n"
          ],
          "name": "stdout"
        },
        {
          "output_type": "stream",
          "text": [
            "13005it [00:37, 349.87it/s]\n"
          ],
          "name": "stderr"
        },
        {
          "output_type": "stream",
          "text": [
            "----- VAL -----\n",
            "- acc: tensor(0.7820)\n",
            "- real acc: 0.2708958093041138\n",
            "- real rule acc: 0.2817377931564783\n",
            "- real rule2 acc: 0.2933487120338331\n",
            "----- TRAIN -----\n",
            "[1, 63002] loss: 457.729\n",
            "- acc: tensor(0.7870)\n"
          ],
          "name": "stdout"
        },
        {
          "output_type": "stream",
          "text": [
            "13005it [00:36, 355.98it/s]\n"
          ],
          "name": "stderr"
        },
        {
          "output_type": "stream",
          "text": [
            "----- VAL -----\n",
            "- acc: tensor(0.7813)\n",
            "- real acc: 0.26543637062668207\n",
            "- real rule acc: 0.2768935024990388\n",
            "- real rule2 acc: 0.29311803152633603\n",
            "----- TRAIN -----\n",
            "[1, 64002] loss: 462.873\n",
            "- acc: tensor(0.7834)\n"
          ],
          "name": "stdout"
        },
        {
          "output_type": "stream",
          "text": [
            "13005it [00:37, 349.67it/s]\n"
          ],
          "name": "stderr"
        },
        {
          "output_type": "stream",
          "text": [
            "----- VAL -----\n",
            "- acc: tensor(0.7821)\n",
            "- real acc: 0.2520569011918493\n",
            "- real rule acc: 0.26128412149173397\n",
            "- real rule2 acc: 0.2758169934640523\n",
            "----- TRAIN -----\n",
            "[1, 65002] loss: 463.858\n",
            "- acc: tensor(0.7827)\n"
          ],
          "name": "stdout"
        },
        {
          "output_type": "stream",
          "text": [
            "13005it [00:37, 347.94it/s]\n"
          ],
          "name": "stderr"
        },
        {
          "output_type": "stream",
          "text": [
            "----- VAL -----\n",
            "- acc: tensor(0.7809)\n",
            "- real acc: 0.2737408688965782\n",
            "- real rule acc: 0.28312187620146095\n",
            "- real rule2 acc: 0.2938100730488274\n",
            "----- TRAIN -----\n",
            "[1, 66002] loss: 461.970\n",
            "- acc: tensor(0.7866)\n"
          ],
          "name": "stdout"
        },
        {
          "output_type": "stream",
          "text": [
            "13005it [00:37, 348.76it/s]\n"
          ],
          "name": "stderr"
        },
        {
          "output_type": "stream",
          "text": [
            "----- VAL -----\n",
            "- acc: tensor(0.7819)\n",
            "- real acc: 0.25667051134179164\n",
            "- real rule acc: 0.2658977316416763\n",
            "- real rule2 acc: 0.27927720107650905\n",
            "----- TRAIN -----\n",
            "[1, 67002] loss: 453.622\n",
            "- acc: tensor(0.7893)\n"
          ],
          "name": "stdout"
        },
        {
          "output_type": "stream",
          "text": [
            "13005it [00:37, 349.94it/s]\n"
          ],
          "name": "stderr"
        },
        {
          "output_type": "stream",
          "text": [
            "----- VAL -----\n",
            "- acc: tensor(0.7801)\n",
            "- real acc: 0.2822760476739716\n",
            "- real rule acc: 0.2938100730488274\n",
            "- real rule2 acc: 0.30503652441368706\n",
            "----- TRAIN -----\n",
            "[1, 68002] loss: 462.444\n",
            "- acc: tensor(0.7846)\n"
          ],
          "name": "stdout"
        },
        {
          "output_type": "stream",
          "text": [
            "13005it [00:37, 348.98it/s]\n"
          ],
          "name": "stderr"
        },
        {
          "output_type": "stream",
          "text": [
            "----- VAL -----\n",
            "- acc: tensor(0.7817)\n",
            "- real acc: 0.28212226066897345\n",
            "- real rule acc: 0.29242599000384467\n",
            "- real rule2 acc: 0.3031910803537101\n",
            "----- TRAIN -----\n",
            "[1, 69002] loss: 462.532\n",
            "- acc: tensor(0.7849)\n"
          ],
          "name": "stdout"
        },
        {
          "output_type": "stream",
          "text": [
            "13005it [00:37, 350.50it/s]\n"
          ],
          "name": "stderr"
        },
        {
          "output_type": "stream",
          "text": [
            "----- VAL -----\n",
            "- acc: tensor(0.7813)\n",
            "- real acc: 0.27097270280661284\n",
            "- real rule acc: 0.27873894655901577\n",
            "- real rule2 acc: 0.2895809304113802\n",
            "----- TRAIN -----\n",
            "[2,     2] loss: 0.844\n",
            "- acc: tensor(0.7812)\n"
          ],
          "name": "stdout"
        },
        {
          "output_type": "stream",
          "text": [
            "13005it [00:37, 349.11it/s]\n"
          ],
          "name": "stderr"
        },
        {
          "output_type": "stream",
          "text": [
            "----- VAL -----\n",
            "- acc: tensor(0.7827)\n",
            "- real acc: 0.26305267204921184\n",
            "- real rule acc: 0.27304882737408687\n",
            "- real rule2 acc: 0.28996539792387543\n",
            "----- TRAIN -----\n",
            "[2,  1002] loss: 458.823\n",
            "- acc: tensor(0.7845)\n"
          ],
          "name": "stdout"
        },
        {
          "output_type": "stream",
          "text": [
            "13005it [00:36, 354.17it/s]\n"
          ],
          "name": "stderr"
        },
        {
          "output_type": "stream",
          "text": [
            "----- VAL -----\n",
            "- acc: tensor(0.7784)\n",
            "- real acc: 0.2538254517493272\n",
            "- real rule acc: 0.2665128796616686\n",
            "- real rule2 acc: 0.2905036524413687\n",
            "----- TRAIN -----\n",
            "[2,  2002] loss: 461.267\n",
            "- acc: tensor(0.7830)\n"
          ],
          "name": "stdout"
        },
        {
          "output_type": "stream",
          "text": [
            "13005it [00:36, 351.85it/s]\n"
          ],
          "name": "stderr"
        },
        {
          "output_type": "stream",
          "text": [
            "----- VAL -----\n",
            "- acc: tensor(0.7826)\n",
            "- real acc: 0.26682045367166474\n",
            "- real rule acc: 0.27566320645905423\n",
            "- real rule2 acc: 0.28673587081891583\n",
            "----- TRAIN -----\n",
            "[2,  3002] loss: 459.763\n",
            "- acc: tensor(0.7833)\n"
          ],
          "name": "stdout"
        },
        {
          "output_type": "stream",
          "text": [
            "13005it [00:36, 351.97it/s]\n"
          ],
          "name": "stderr"
        },
        {
          "output_type": "stream",
          "text": [
            "----- VAL -----\n",
            "- acc: tensor(0.7821)\n",
            "- real acc: 0.26774317570165324\n",
            "- real rule acc: 0.27835447904652055\n",
            "- real rule2 acc: 0.2928873510188389\n",
            "----- TRAIN -----\n",
            "[2,  4002] loss: 456.206\n",
            "- acc: tensor(0.7873)\n"
          ],
          "name": "stdout"
        },
        {
          "output_type": "stream",
          "text": [
            "13005it [00:36, 352.42it/s]\n"
          ],
          "name": "stderr"
        },
        {
          "output_type": "stream",
          "text": [
            "----- VAL -----\n",
            "- acc: tensor(0.7831)\n",
            "- real acc: 0.2612072279892349\n",
            "- real rule acc: 0.2711264898116109\n",
            "- real rule2 acc: 0.2895040369088812\n",
            "----- TRAIN -----\n",
            "[2,  5002] loss: 457.637\n",
            "- acc: tensor(0.7881)\n"
          ],
          "name": "stdout"
        },
        {
          "output_type": "stream",
          "text": [
            "13005it [00:37, 351.08it/s]\n"
          ],
          "name": "stderr"
        },
        {
          "output_type": "stream",
          "text": [
            "----- VAL -----\n",
            "- acc: tensor(0.7828)\n",
            "- real acc: 0.2668973471741638\n",
            "- real rule acc: 0.2768935024990388\n",
            "- real rule2 acc: 0.29219530949634753\n",
            "----- TRAIN -----\n",
            "[2,  6002] loss: 462.897\n",
            "- acc: tensor(0.7829)\n"
          ],
          "name": "stdout"
        },
        {
          "output_type": "stream",
          "text": [
            "6960it [00:19, 358.05it/s]"
          ],
          "name": "stderr"
        }
      ]
    },
    {
      "cell_type": "code",
      "metadata": {
        "id": "Rk6kgORYssKK"
      },
      "source": [
        "torch.save(model, 'vanilla_model_epoch1.2.pth')"
      ],
      "execution_count": null,
      "outputs": []
    },
    {
      "cell_type": "code",
      "metadata": {
        "id": "NvGS3vH8nKsO"
      },
      "source": [
        "torch.save(model, 'vanilla_layernorm_model_epoch1.2.pth')"
      ],
      "execution_count": null,
      "outputs": []
    },
    {
      "cell_type": "markdown",
      "metadata": {
        "id": "XVAel0s2ZXcy"
      },
      "source": [
        "## test script"
      ]
    },
    {
      "cell_type": "code",
      "metadata": {
        "colab": {
          "base_uri": "https://localhost:8080/"
        },
        "id": "unZYggvpb26B",
        "outputId": "5b8c11df-5e6c-402a-f9b1-94a43494e1ee"
      },
      "source": [
        "item_info_dict, test_samples = load_test_data(data_path='/content/drive/MyDrive/202108-bigdatacup2021/data/', filename='track1_testset.csv')\n",
        "\n",
        "test_ds = BigDataCupTestDataset(item_info_dict, test_samples)\n",
        "test_dl = torch.utils.data.DataLoader(dataset=test_ds, batch_size=9, shuffle=False)"
      ],
      "execution_count": null,
      "outputs": [
        {
          "output_type": "stream",
          "text": [
            "100%|██████████| 381/381 [00:00<00:00, 28568.39it/s]\n",
            "100%|██████████| 206254/206254 [00:18<00:00, 11116.89it/s]\n"
          ],
          "name": "stderr"
        }
      ]
    },
    {
      "cell_type": "code",
      "metadata": {
        "colab": {
          "base_uri": "https://localhost:8080/"
        },
        "id": "wB9VrktYZYlV",
        "outputId": "51eeefa2-8191-4e57-aebb-9bb2cd37ac62"
      },
      "source": [
        "model = model.eval()\n",
        "\n",
        "fp = open('vanilla_model_epoch1.2_track1.csv', 'w')\n",
        "print('id,category', file=fp)\n",
        "\n",
        "for i, data in tqdm(enumerate(test_dl, 0)):\n",
        "    user_click_history, num_user_click_history, user_discrete_feature, \\\n",
        "            item_id, item_discrete_feature, item_cont_feature = data\n",
        "\n",
        "    # forward + backward + optimize\n",
        "    outputs = model(user_click_history, num_user_click_history, user_discrete_feature, \\\n",
        "            item_id, item_discrete_feature, item_cont_feature)\n",
        "    \n",
        "    y_pred_tag = torch.round(torch.sigmoid(outputs))\n",
        "\n",
        "    ## rule1\n",
        "    # cum_sum = 0\n",
        "    # for j in range(9):\n",
        "    #     if y_pred_tag[j][0] == 1:\n",
        "    #         cum_sum += 1\n",
        "    #     if j == 2 and cum_sum != 3:\n",
        "    #         y_pred_tag[3:] = 0\n",
        "    #         break\n",
        "    #     if j == 5 and cum_sum != 6:\n",
        "    #         y_pred_tag[6:] = 0\n",
        "    #         break\n",
        "\n",
        "    ## rule2\n",
        "    cum_sum = 0\n",
        "    for j in range(9):\n",
        "        k = 8 - j\n",
        "        if k >= 6 and y_pred_tag[k][0] == 1:\n",
        "            y_pred_tag[:6] = 1\n",
        "        if k >= 3 and y_pred_tag[k][0] == 1:\n",
        "            y_pred_tag[:3] = 1\n",
        "    \n",
        "    y_pred_tag = list(y_pred_tag.detach().numpy()[:, 0].astype(np.int32))\n",
        "    y_pred_tag = [str(a) for a in y_pred_tag]\n",
        "    p = ' '.join(y_pred_tag)\n",
        "    print(f'{i+1},{p}', file=fp)\n",
        "    # break\n",
        "\n",
        "fp.close()"
      ],
      "execution_count": null,
      "outputs": [
        {
          "output_type": "stream",
          "text": [
            "206254it [05:33, 618.80it/s]\n"
          ],
          "name": "stderr"
        }
      ]
    },
    {
      "cell_type": "code",
      "metadata": {
        "id": "dz_iPsljArcr"
      },
      "source": [
        ""
      ],
      "execution_count": null,
      "outputs": []
    }
  ]
}