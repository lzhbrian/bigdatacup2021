{
  "nbformat": 4,
  "nbformat_minor": 0,
  "metadata": {
    "colab": {
      "name": "202108-bigdatacup-sessionprediction.ipynb",
      "provenance": [],
      "collapsed_sections": [],
      "toc_visible": true,
      "machine_shape": "hm"
    },
    "kernelspec": {
      "name": "python3",
      "display_name": "Python 3"
    },
    "language_info": {
      "name": "python"
    },
    "accelerator": "GPU"
  },
  "cells": [
    {
      "cell_type": "markdown",
      "metadata": {
        "id": "a_JhGn3SqC-a"
      },
      "source": [
        "## 本文档要实现一个预测用户购买到了哪个session的模型"
      ]
    },
    {
      "cell_type": "markdown",
      "metadata": {
        "id": "l_QXu0x4qRRt"
      },
      "source": [
        "输入：\n",
        "1. 展示给用户的9个商品（商品的emb、离散属性、连续属性）\n",
        "3. 用户的点击历史记录（商品的emb、离散属性、连续属性）\n",
        "3. 用户的属性（离散属性）\n",
        "\n",
        "输出：\n",
        "1. 用户购买到了第几个 session（购买了0-3，4-6，7-9，三类session）\n",
        "2. 用户是否购买这9个商品（可以用gaochen提的4类商品reweighting loss）"
      ]
    },
    {
      "cell_type": "markdown",
      "metadata": {
        "id": "mcNWsLo0q1zg"
      },
      "source": [
        "## pre"
      ]
    },
    {
      "cell_type": "code",
      "metadata": {
        "colab": {
          "base_uri": "https://localhost:8080/"
        },
        "id": "nZtpedbxqKV2",
        "outputId": "c62cbc51-ab30-466c-9fac-f30c5b5ec80e"
      },
      "source": [
        "%cd /content/drive/MyDrive/202108-bigdatacup2021"
      ],
      "execution_count": 1,
      "outputs": [
        {
          "output_type": "stream",
          "text": [
            "/content/drive/MyDrive/202108-bigdatacup2021\n"
          ],
          "name": "stdout"
        }
      ]
    },
    {
      "cell_type": "code",
      "metadata": {
        "id": "K4cozZgaq-CJ"
      },
      "source": [
        "import torch\n",
        "import torch.nn as nn\n",
        "import torch.optim as optim\n",
        "import pandas as pd\n",
        "from tqdm import tqdm\n",
        "import numpy as np\n",
        "from sklearn.utils import shuffle"
      ],
      "execution_count": 2,
      "outputs": []
    },
    {
      "cell_type": "code",
      "metadata": {
        "colab": {
          "base_uri": "https://localhost:8080/"
        },
        "id": "597GI-kjCYuj",
        "outputId": "d7cd274c-98b4-435a-a2fe-35014f6224ed"
      },
      "source": [
        "!pip install einops"
      ],
      "execution_count": 3,
      "outputs": [
        {
          "output_type": "stream",
          "text": [
            "Collecting einops\n",
            "  Downloading einops-0.3.0-py2.py3-none-any.whl (25 kB)\n",
            "Installing collected packages: einops\n",
            "Successfully installed einops-0.3.0\n"
          ],
          "name": "stdout"
        }
      ]
    },
    {
      "cell_type": "code",
      "metadata": {
        "id": "Xe2QKPaICaa-"
      },
      "source": [
        "import einops"
      ],
      "execution_count": 4,
      "outputs": []
    },
    {
      "cell_type": "markdown",
      "metadata": {
        "id": "iI3v-E1gq3HQ"
      },
      "source": [
        "## model"
      ]
    },
    {
      "cell_type": "code",
      "metadata": {
        "id": "rUIJbrWoq_Yc"
      },
      "source": [
        "class SessionPredictionModel(nn.Module):\n",
        "    def __init__(self, \n",
        "                 num_items,\n",
        "                 dim_item_emb=64,\n",
        "                 dim_item_discrete_feature_emb=16,\n",
        "                 dim_user_discrete_feature_emb=16,\n",
        "                ):\n",
        "        \"\"\"\n",
        "        除了 item_emb 之外，其余的 emb 编号都是 0 开始的\n",
        "        \"\"\"\n",
        "\n",
        "        super().__init__()\n",
        "        self.num_items = num_items\n",
        "        self.NUM_ITEM_DISCRETE_FEATURE = 3+1 # item_vec3 + location1\n",
        "        self.NUM_ITEM_CONT_FEATURE = 2+1 # item_vec2 + price1\n",
        "        self.NUM_USER_DISCRETE_FEATURE = 10\n",
        "        self.dim_item_emb = dim_item_emb\n",
        "        self.dim_item_discrete_feature_emb = dim_item_discrete_feature_emb\n",
        "        self.dim_user_discrete_feature_emb = dim_user_discrete_feature_emb\n",
        "\n",
        "        # item emb\n",
        "        self.item_emb = nn.Embedding(self.num_items + 1, self.dim_item_emb) # 0 表示没有记录，因此 num_items + 1\n",
        "\n",
        "        # item discrete feature\n",
        "        self.item_discrete_feature_emb_list = nn.ModuleList()\n",
        "        num_unique_value_list = [4, 10, 2, 3]\n",
        "        for i in range(self.NUM_ITEM_DISCRETE_FEATURE):\n",
        "            num_unique_value = num_unique_value_list[i]\n",
        "            self.item_discrete_feature_emb_list.append(\n",
        "                nn.Embedding(num_unique_value, self.dim_item_discrete_feature_emb)\n",
        "            )\n",
        "        \n",
        "        # user discrete feature\n",
        "        self.user_discrete_feature_emb_list = nn.ModuleList()\n",
        "        num_unique_value_list = [3, 1430, 20, 10, 198, 52, 3, 13, 2, 2347]\n",
        "        for i in range(self.NUM_USER_DISCRETE_FEATURE):\n",
        "            num_unique_value = num_unique_value_list[i]\n",
        "            self.user_discrete_feature_emb_list.append(\n",
        "                nn.Embedding(num_unique_value, self.dim_user_discrete_feature_emb)\n",
        "            )\n",
        "\n",
        "        # backbone\n",
        "        self.backbone = nn.Sequential(\n",
        "            nn.Linear(\n",
        "                # user_click_history\n",
        "                self.dim_item_emb + self.NUM_ITEM_DISCRETE_FEATURE * self.dim_item_discrete_feature_emb + self.NUM_ITEM_CONT_FEATURE + \n",
        "                # nine items\n",
        "                9 * (self.dim_item_emb + self.NUM_ITEM_DISCRETE_FEATURE * self.dim_item_discrete_feature_emb + self.NUM_ITEM_CONT_FEATURE) +\n",
        "                # user\n",
        "                self.NUM_USER_DISCRETE_FEATURE * self.dim_user_discrete_feature_emb\n",
        "                , 400), \n",
        "            nn.PReLU(),\n",
        "            nn.Linear(400, 200),\n",
        "            nn.PReLU()\n",
        "        )\n",
        "\n",
        "        # session prediction head\n",
        "        self.session_prediction_head = nn.Sequential(\n",
        "            nn.Linear(200, 80),\n",
        "            nn.PReLU(),\n",
        "            nn.Linear(80, 20),\n",
        "            nn.PReLU(),\n",
        "            nn.Linear(20, 4)\n",
        "        )\n",
        "\n",
        "        # buy prediction head\n",
        "        self.buy_prediction_head = nn.Sequential(\n",
        "            nn.Linear(200, 80),\n",
        "            nn.PReLU(),\n",
        "            nn.Linear(80, 20),\n",
        "            nn.PReLU(),\n",
        "            nn.Linear(20, 9)\n",
        "        )\n",
        "\n",
        "    def get_item_emb_attr(self, \n",
        "                          item_id, \n",
        "                          item_cont_feature, \n",
        "                          item_discrete_feature):\n",
        "        \"\"\"\n",
        "        param:\n",
        "            item_id:                [N, 9]   (0表示没有记录，从1开始是真的item)\n",
        "            item_cont_feature:     [N, 9, NUM_ITEM_CONT_FEATURE]\n",
        "            item_discrete_feature: [N, 9, NUM_USER_DISCRETE_FEATURE]\n",
        "        \n",
        "        return: \n",
        "            emb_attr:\n",
        "                [N, 9, dim_item_emb\n",
        "                       + NUM_ITEM_CONT_FEATURE\n",
        "                       + NUM_USER_DISCRETE_FEATURE * dim_user_discrete_feature_emb\n",
        "                ]\n",
        "\n",
        "        note: \n",
        "            above, 9 can be an arbitrary number, e.g. 400\n",
        "        \"\"\"\n",
        "        \n",
        "        # item emb\n",
        "        item_emb = self.item_emb(item_id) # [N, 9, dim_item_emb]\n",
        "        \n",
        "        # item discrete feature emb\n",
        "        tmp = []\n",
        "        for i in range(self.NUM_ITEM_DISCRETE_FEATURE):\n",
        "            # print(i)\n",
        "            # print(item_discrete_feature[:, i])\n",
        "            tmp.append(\n",
        "                self.item_discrete_feature_emb_list[i](item_discrete_feature[:, :, i]) # [N, 9, dim_user_discrete_feature_emb]\n",
        "            )\n",
        "        item_discrete_feature_emb = torch.cat(tmp, dim=-1)\n",
        "\n",
        "        # concat [N, 9, D]\n",
        "        emb_attr = torch.cat([\n",
        "             item_emb, \n",
        "             item_discrete_feature_emb, \n",
        "             item_cont_feature\n",
        "        ], dim=-1)\n",
        "\n",
        "        return emb_attr\n",
        "\n",
        "    def forward(self,\n",
        "                user_click_history, user_click_history_discrete_feature, user_click_history_cont_feature, num_user_click_history,\n",
        "                item_id, item_discrete_feature, item_cont_feature,\n",
        "                user_discrete_feature,\n",
        "                ):\n",
        "        \"\"\"\n",
        "        用户的点击历史记录（商品的emb、离散属性、连续属性）\n",
        "            user_click_history: [N, 400], 最多有400个点击历史记录, 每个里面是itemid, 0表示没有记录\n",
        "            user_click_history_discrete_feature: [N, 400, 3+1]\n",
        "            user_click_history_cont_feature: [N, 400, 2+1]\n",
        "            num_user_click_history: [N, 1], 用户点击历史数量\n",
        "\n",
        "        展示给用户的9个商品（商品的emb、离散属性、连续属性）\n",
        "            item_id: [N, 9], 商品id\n",
        "            item_discrete_feature: [N, 9, 3+1] 商品离散属性（已重映射） item_vec3 + location1\n",
        "            item_cont_feature: [N, 9, 2+1] 商品连续属性（已正则化） item_vec2 + price1\n",
        "\n",
        "        用户的属性（离散属性）\n",
        "            user_discrete_feature: [N, 10] 用户离散属性（已重映射）\n",
        "        \"\"\"\n",
        "\n",
        "        batch_size = user_click_history.size()[0]\n",
        "        \n",
        "        # 用户的点击历史记录（商品的emb、离散属性、连续属性）\n",
        "        tmp = self.get_item_emb_attr(user_click_history, \n",
        "                                     user_click_history_cont_feature, \n",
        "                                     user_click_history_discrete_feature) # [N, 400, D]\n",
        "        user_click_history_emb = torch.zeros( # [N, D]\n",
        "            (batch_size, self.dim_item_emb\n",
        "                         + self.NUM_ITEM_CONT_FEATURE\n",
        "                         + self.NUM_ITEM_DISCRETE_FEATURE * self.dim_item_discrete_feature_emb)\n",
        "        )\n",
        "        for i in range(batch_size):\n",
        "            aa = tmp[i, :num_user_click_history[i], :] # [N, 400, D] -> [400-, D]\n",
        "            a = torch.mean(aa, dim=0) # [400-, D] -> [D]\n",
        "            user_click_history_emb[i] = a\n",
        "\n",
        "        # 展示给用户的9个商品（商品的emb、离散属性、连续属性）\n",
        "        nine_item_emb = self.get_item_emb_attr(item_id, \n",
        "                                               item_cont_feature, \n",
        "                                               item_discrete_feature) # [N, 9, D]\n",
        "        nine_item_emb = einops.rearrange(nine_item_emb, 'N B D -> N (B D)') # [N, 9D]\n",
        "\n",
        "        # 用户的属性（离散属性）\n",
        "        tmp = []\n",
        "        for i in range(self.NUM_USER_DISCRETE_FEATURE):\n",
        "            tmp.append(\n",
        "                self.user_discrete_feature_emb_list[i](user_discrete_feature[:, i]) # [N, dim_user_discrete_feature_emb]\n",
        "            )\n",
        "        user_discrete_feature_emb = torch.cat(tmp, dim=1)\n",
        "\n",
        "        all_emb = torch.cat([user_click_history_emb, \n",
        "                             nine_item_emb,\n",
        "                             user_discrete_feature_emb,\n",
        "                            ], dim=1) # [N, D]\n",
        "        \n",
        "        feat = self.backbone(all_emb) # [N, 1]\n",
        "        session_pred = self.session_prediction_head(feat)\n",
        "        buy_pred = self.buy_prediction_head(feat)\n",
        "        return session_pred, buy_pred # [N, 4], [N, 9]\n",
        "                "
      ],
      "execution_count": 5,
      "outputs": []
    },
    {
      "cell_type": "code",
      "metadata": {
        "colab": {
          "base_uri": "https://localhost:8080/"
        },
        "id": "0zRuRnzOr40p",
        "outputId": "ad152d10-7983-40fb-bf2b-4718ad746df7"
      },
      "source": [
        "m = SessionPredictionModel(num_items=381,\n",
        "                           dim_item_emb=64,\n",
        "                           dim_item_discrete_feature_emb=16,\n",
        "                           dim_user_discrete_feature_emb=16\n",
        "                           )\n",
        "\n",
        "B = 7\n",
        "m(\n",
        "    user_click_history=torch.ones([B, 400], dtype=torch.int32),\n",
        "    user_click_history_discrete_feature=torch.ones([B, 400, 4], dtype=torch.int32),\n",
        "    user_click_history_cont_feature=torch.randn([B, 400, 3]),\n",
        "    num_user_click_history=torch.ones([B, 1], dtype=torch.int32) * 10,\n",
        "    user_discrete_feature=torch.ones([B, 10], dtype=torch.int32),\n",
        "    item_id=torch.ones([B, 9], dtype=torch.int32),\n",
        "    item_discrete_feature=torch.ones([B, 9, 4], dtype=torch.int32),\n",
        "    item_cont_feature=torch.randn([B, 9, 3]),\n",
        ")"
      ],
      "execution_count": 8,
      "outputs": [
        {
          "output_type": "execute_result",
          "data": {
            "text/plain": [
              "(tensor([[ 0.0775,  0.1296, -0.0822,  0.1355],\n",
              "         [ 0.0767,  0.1306, -0.0808,  0.1321],\n",
              "         [ 0.0758,  0.1314, -0.0804,  0.1332],\n",
              "         [ 0.0798,  0.1342, -0.0775,  0.1337],\n",
              "         [ 0.0778,  0.1322, -0.0775,  0.1320],\n",
              "         [ 0.0765,  0.1345, -0.0756,  0.1293],\n",
              "         [ 0.0715,  0.1263, -0.0839,  0.1334]], grad_fn=<AddmmBackward>),\n",
              " tensor([[ 0.0648, -0.1751,  0.1935,  0.1635,  0.0325, -0.1246, -0.0648,  0.0386,\n",
              "           0.1493],\n",
              "         [ 0.0718, -0.1808,  0.1902,  0.1653,  0.0309, -0.1241, -0.0585,  0.0373,\n",
              "           0.1511],\n",
              "         [ 0.0656, -0.1761,  0.1942,  0.1630,  0.0353, -0.1242, -0.0632,  0.0388,\n",
              "           0.1508],\n",
              "         [ 0.0570, -0.1684,  0.1963,  0.1594,  0.0412, -0.1287, -0.0629,  0.0395,\n",
              "           0.1486],\n",
              "         [ 0.0695, -0.1782,  0.1937,  0.1638,  0.0346, -0.1236, -0.0612,  0.0381,\n",
              "           0.1489],\n",
              "         [ 0.0713, -0.1777,  0.1892,  0.1659,  0.0320, -0.1250, -0.0610,  0.0403,\n",
              "           0.1522],\n",
              "         [ 0.0629, -0.1805,  0.1906,  0.1638,  0.0302, -0.1238, -0.0629,  0.0361,\n",
              "           0.1566]], grad_fn=<AddmmBackward>))"
            ]
          },
          "metadata": {
            "tags": []
          },
          "execution_count": 8
        }
      ]
    },
    {
      "cell_type": "markdown",
      "metadata": {
        "id": "XLUSRSm_q0m6"
      },
      "source": [
        "## data"
      ]
    },
    {
      "cell_type": "code",
      "metadata": {
        "colab": {
          "base_uri": "https://localhost:8080/"
        },
        "id": "eZO24jMGrxur",
        "outputId": "24047be7-1262-468b-8396-97a60a7f41d5"
      },
      "source": [
        "## 获取 user portrait 的映射，因为\n",
        "data_path='/content/drive/MyDrive/202108-bigdatacup2021/data/'\n",
        "# portraitidx_to_idx_dict_list: list of 10 dict, int:int\n",
        "\n",
        "portraitidx_to_idx_dict_list = []\n",
        "for i in range(10):\n",
        "    portraitidx_to_idx_dict_list.append(dict())\n",
        "acculumated_idx = [0] * 10\n",
        "\n",
        "\n",
        "df_train = pd.read_csv(f'{data_path}/trainset.csv', sep=' ')\n",
        "for i in tqdm(range(df_train.shape[0])):\n",
        "    user_portrait = [int(s) for s in df_train.at[i, 'user_protrait'].split(',')]\n",
        "    for idx, u in enumerate(user_portrait):\n",
        "        if portraitidx_to_idx_dict_list[idx].get(u, -1) == -1:\n",
        "            portraitidx_to_idx_dict_list[idx][u] = acculumated_idx[idx]\n",
        "            acculumated_idx[idx] += 1\n",
        "\n",
        "df_test1 = pd.read_csv(f'{data_path}/track1_testset.csv', sep=' ')\n",
        "for i in tqdm(range(df_test1.shape[0])):\n",
        "    user_portrait = [int(s) for s in df_test1.at[i, 'user_protrait'].split(',')]\n",
        "    for idx, u in enumerate(user_portrait):\n",
        "        if portraitidx_to_idx_dict_list[idx].get(u, -1) == -1:\n",
        "            portraitidx_to_idx_dict_list[idx][u] = acculumated_idx[idx]\n",
        "            acculumated_idx[idx] += 1\n",
        "\n",
        "df_test2 = pd.read_csv(f'{data_path}/track2_testset.csv', sep=' ')\n",
        "for i in tqdm(range(df_test2.shape[0])):\n",
        "    user_portrait = [int(s) for s in df_test2.at[i, 'user_protrait'].split(',')]\n",
        "    for idx, u in enumerate(user_portrait):\n",
        "        if portraitidx_to_idx_dict_list[idx].get(u, -1) == -1:\n",
        "            portraitidx_to_idx_dict_list[idx][u] = acculumated_idx[idx]\n",
        "            acculumated_idx[idx] += 1\n",
        "\n",
        "acculumated_idx"
      ],
      "execution_count": 9,
      "outputs": [
        {
          "output_type": "stream",
          "text": [
            "100%|██████████| 260087/260087 [00:02<00:00, 97962.81it/s]\n",
            "100%|██████████| 206254/206254 [00:02<00:00, 100980.58it/s]\n",
            "100%|██████████| 206096/206096 [00:01<00:00, 104513.47it/s]\n"
          ],
          "name": "stderr"
        },
        {
          "output_type": "execute_result",
          "data": {
            "text/plain": [
              "[3, 1430, 20, 10, 198, 52, 3, 13, 2, 2347]"
            ]
          },
          "metadata": {
            "tags": []
          },
          "execution_count": 9
        }
      ]
    },
    {
      "cell_type": "code",
      "metadata": {
        "id": "yGmk9gZgqjQJ"
      },
      "source": [
        "def load_item_info(data_path='/content/drive/MyDrive/202108-bigdatacup2021/data/'):\n",
        "    # item info\n",
        "    df_item_info = pd.read_csv(f'{data_path}/item_info.csv', sep=' ')\n",
        "    item_info_dict = {}\n",
        "    for i in tqdm(range(df_item_info.shape[0])):\n",
        "        item_id = df_item_info.at[i, 'item_id'] \n",
        "\n",
        "        item_discrete = df_item_info.at[i, 'item_vec'].split(',')[:3]\n",
        "        item_cont = df_item_info.at[i, 'item_vec'].split(',')[-2:]\n",
        "        price = df_item_info.at[i, 'price'] / 3000\n",
        "        loc = df_item_info.at[i, 'location'] - 1 # 0~2\n",
        "\n",
        "        item_cont.append(price) # 2 + 1\n",
        "        item_discrete.append(loc) # 3 + 1\n",
        "\n",
        "        item_cont = [float(it) for it in item_cont]\n",
        "        item_discrete = [int(it) for it in item_discrete]\n",
        "        item_discrete[0] = item_discrete[0] - 1 # 1~4 -> 0~3\n",
        "        item_discrete[2] = item_discrete[2] - 1 # 1~2 -> 0~1\n",
        "\n",
        "        item_info_dict[int(item_id)] = {\n",
        "            'cont': np.array(item_cont, dtype=np.float64),\n",
        "            'discrete': np.array(item_discrete, dtype=np.int64),\n",
        "        }\n",
        "    return item_info_dict"
      ],
      "execution_count": 10,
      "outputs": []
    },
    {
      "cell_type": "code",
      "metadata": {
        "colab": {
          "base_uri": "https://localhost:8080/"
        },
        "id": "gbjFZ4SPAJRI",
        "outputId": "a13bd2d8-4f60-41e3-c841-82052acd2e34"
      },
      "source": [
        "item_info_dict = load_item_info(data_path='/content/drive/MyDrive/202108-bigdatacup2021/data/')"
      ],
      "execution_count": 11,
      "outputs": [
        {
          "output_type": "stream",
          "text": [
            "100%|██████████| 381/381 [00:00<00:00, 30668.83it/s]\n"
          ],
          "name": "stderr"
        }
      ]
    },
    {
      "cell_type": "code",
      "metadata": {
        "id": "WvWsdWAP1t00"
      },
      "source": [
        "def load_train_data(data_path='/content/drive/MyDrive/202108-bigdatacup2021/data/'):\n",
        "    # trainset\n",
        "    train_samples = []\n",
        "    val_samples = []\n",
        "    df_train = pd.read_csv(f'{data_path}/trainset.csv', sep=' ')\n",
        "\n",
        "    # shuffle\n",
        "    df_train = shuffle(df_train, random_state=2333).reset_index()\n",
        "    total_num = int(df_train.shape[0])\n",
        "    num_train = int(total_num * 0.95)\n",
        "    num_val = total_num - num_train # 5% validation data\n",
        "\n",
        "    for i in tqdm(range(total_num)):\n",
        "        if df_train.at[i, 'user_click_history'] == '0:0':\n",
        "            user_click_list = [0]\n",
        "        else:\n",
        "            user_click_list = df_train.at[i, 'user_click_history'].split(',')\n",
        "            user_click_list = [int(sample.split(':')[0]) for sample in user_click_list]\n",
        "        num_user_click_history = len(user_click_list)\n",
        "        tmp = np.zeros(400, dtype=np.int64)\n",
        "        tmp[:len(user_click_list)] = user_click_list\n",
        "        user_click_list = tmp\n",
        "        \n",
        "        exposed_items = [int(s) for s in df_train.at[i, 'exposed_items'].split(',')]\n",
        "        labels = [int(s) for s in df_train.at[i, 'labels'].split(',')]\n",
        "\n",
        "        user_portrait = [int(s) for s in df_train.at[i, 'user_protrait'].split(',')]\n",
        "        # portraitidx_to_idx_dict_list: list of 10 dict, int:int\n",
        "        for j in range(10):\n",
        "            user_portrait[j] = portraitidx_to_idx_dict_list[j][user_portrait[j]]\n",
        "        one_sample = {\n",
        "            'user_click_list': user_click_list,\n",
        "            'num_user_click_history': num_user_click_history,\n",
        "            'user_portrait': np.array(user_portrait, dtype=np.int64),\n",
        "            'item_id': np.array(exposed_items, dtype=np.int64),\n",
        "            'label': np.array(labels, dtype=np.int64)\n",
        "        }\n",
        "        if i < num_train:\n",
        "            train_samples.append(one_sample)\n",
        "        else:\n",
        "            val_samples.append(one_sample)\n",
        "    return train_samples, val_samples"
      ],
      "execution_count": 12,
      "outputs": []
    },
    {
      "cell_type": "code",
      "metadata": {
        "colab": {
          "base_uri": "https://localhost:8080/"
        },
        "id": "GaHYRMrE4oV5",
        "outputId": "1b62875c-3893-4232-eb50-bdfcb5baaaff"
      },
      "source": [
        "train_samples, val_samples = load_train_data(data_path='/content/drive/MyDrive/202108-bigdatacup2021/data/')"
      ],
      "execution_count": 13,
      "outputs": [
        {
          "output_type": "stream",
          "text": [
            "100%|██████████| 260087/260087 [00:16<00:00, 15343.40it/s]\n"
          ],
          "name": "stderr"
        }
      ]
    },
    {
      "cell_type": "code",
      "metadata": {
        "id": "LhnPDrwEq8GK"
      },
      "source": [
        "class BigDataCupDataset(torch.utils.data.Dataset):\n",
        "    def __init__(self, \n",
        "                 item_info_dict,\n",
        "                 database\n",
        "                ):\n",
        "        super().__init__()\n",
        "        self.item_info_dict = item_info_dict\n",
        "        self.database = database\n",
        "\n",
        "    def __len__(self, ):\n",
        "        return len(self.database)\n",
        "\n",
        "    def __getitem__(self, idx):\n",
        "        one_sample = self.database[idx]\n",
        "        user_click_history = one_sample['user_click_list']\n",
        "        num_user_click_history = one_sample['num_user_click_history']\n",
        "        user_discrete_feature = one_sample['user_portrait']\n",
        "        item_id = one_sample['item_id']\n",
        "        label = one_sample['label']\n",
        "\n",
        "        user_click_history_discrete_feature = np.zeros((400, 3+1)).astype(np.int64)\n",
        "        user_click_history_cont_feature = np.zeros((400, 2+1)).astype(np.float64)\n",
        "        for i in range(num_user_click_history):\n",
        "            if user_click_history[i] == 0:\n",
        "                continue # 这里不太好，但先这样吧。0表示没有任何点击，这里的discrete和cont feature直接用了全0\n",
        "            else:\n",
        "                user_click_history_discrete_feature[i] = self.item_info_dict[user_click_history[i]]['discrete']\n",
        "                user_click_history_cont_feature[i] = self.item_info_dict[user_click_history[i]]['cont']\n",
        "\n",
        "        item_discrete_feature = np.zeros((9, 3+1)).astype(np.int64)\n",
        "        item_cont_feature = np.zeros((9, 2+1)).astype(np.float64)\n",
        "        for i in range(9):\n",
        "            item_discrete_feature[i] = self.item_info_dict[item_id[i]]['discrete']\n",
        "            item_cont_feature[i] = self.item_info_dict[item_id[i]]['cont']\n",
        "\n",
        "        session_label = 0 # 0,1,2,3\n",
        "        # 0: 什么都不买\n",
        "        for i in range(9):\n",
        "            if label[i]: # 买1~3个\n",
        "                session_label = 1\n",
        "            if i >= 3 and label[i]: # 买4~6个\n",
        "                session_label = 2\n",
        "            if i >= 6 and label[i]: # 买7~9个\n",
        "                session_label = 3\n",
        "\n",
        "        user_click_history = torch.IntTensor(user_click_history)\n",
        "        user_click_history_discrete_feature = torch.IntTensor(user_click_history_discrete_feature)\n",
        "        user_click_history_cont_feature = torch.FloatTensor(user_click_history_cont_feature)\n",
        "        num_user_click_history = torch.IntTensor([num_user_click_history])\n",
        "        user_discrete_feature = torch.IntTensor(user_discrete_feature)\n",
        "        item_id = torch.IntTensor(item_id)\n",
        "        item_discrete_feature = torch.IntTensor(item_discrete_feature)\n",
        "        item_cont_feature = torch.FloatTensor(item_cont_feature)\n",
        "        label = torch.IntTensor(label)\n",
        "        session_label = session_label\n",
        "        \n",
        "        return user_click_history, \\\n",
        "            user_click_history_discrete_feature, user_click_history_cont_feature, \\\n",
        "            num_user_click_history, \\\n",
        "            item_id, item_discrete_feature, item_cont_feature, \\\n",
        "            user_discrete_feature, label, session_label"
      ],
      "execution_count": 14,
      "outputs": []
    },
    {
      "cell_type": "code",
      "metadata": {
        "id": "GeMu5TTrsW4y"
      },
      "source": [
        "ds = BigDataCupDataset(item_info_dict, train_samples)"
      ],
      "execution_count": 15,
      "outputs": []
    },
    {
      "cell_type": "code",
      "metadata": {
        "colab": {
          "base_uri": "https://localhost:8080/"
        },
        "id": "O4gRymk3y4NA",
        "outputId": "635db1ee-807f-4b42-e50f-a5a02561b531"
      },
      "source": [
        "train_samples, val_samples = load_train_data()\n",
        "\n",
        "train_ds = BigDataCupDataset(item_info_dict, train_samples)\n",
        "train_dl = torch.utils.data.DataLoader(dataset=train_ds, batch_size=32, shuffle=True)\n",
        "\n",
        "val_ds = BigDataCupDataset(item_info_dict, val_samples)\n",
        "val_dl = torch.utils.data.DataLoader(dataset=val_ds, batch_size=32, shuffle=False)"
      ],
      "execution_count": 16,
      "outputs": [
        {
          "output_type": "stream",
          "text": [
            "100%|██████████| 260087/260087 [00:16<00:00, 15312.28it/s]\n"
          ],
          "name": "stderr"
        }
      ]
    },
    {
      "cell_type": "markdown",
      "metadata": {
        "id": "TLla7fQWACja"
      },
      "source": [
        "## train"
      ]
    },
    {
      "cell_type": "code",
      "metadata": {
        "id": "SgJASuk0Zh4y"
      },
      "source": [
        "def binary_acc(sess_pred, y_pred, y_test):\n",
        "    # print(sess_pred)\n",
        "    y_pred_tag = torch.round(torch.sigmoid(y_pred))\n",
        "    y_pred_tag_intact = y_pred_tag.clone()\n",
        "\n",
        "\n",
        "    ##################################\n",
        "    ## vanilla\n",
        "    correct_results_sum = (y_pred_tag == y_test).sum().float()\n",
        "    acc1 = correct_results_sum / y_test.shape[0] / 9\n",
        "\n",
        "    real_acc1 = 0.0\n",
        "    for i in range(y_test.shape[0]):\n",
        "        correct_results_sum = (y_pred_tag[i] == y_test[i]).sum().float()\n",
        "        one_acc = correct_results_sum / 9\n",
        "        if one_acc == 1:\n",
        "            real_acc1 += 1\n",
        "    real_acc1 = real_acc1 / y_test.shape[0]\n",
        "    # print(y_pred_tag)\n",
        "\n",
        "    ####################################\n",
        "    ## use sess to refine y_pred_tag\n",
        "    for i in range(y_test.shape[0]):\n",
        "        if sess_pred[i] == 0:\n",
        "            y_pred_tag[i][:] = 0\n",
        "        elif sess_pred[i] == 1:\n",
        "            y_pred_tag[i][3:] = 0\n",
        "        elif sess_pred[i] == 2:\n",
        "            y_pred_tag[i][:3] = 1\n",
        "            y_pred_tag[i][6:] = 0\n",
        "        elif sess_pred[i] == 3:\n",
        "            y_pred_tag[i][:6] = 1\n",
        "\n",
        "    correct_results_sum = (y_pred_tag == y_test).sum().float()\n",
        "    acc2 = correct_results_sum / y_test.shape[0] / 9\n",
        "\n",
        "    real_acc2 = 0.0\n",
        "    for i in range(y_test.shape[0]):\n",
        "        correct_results_sum = (y_pred_tag[i] == y_test[i]).sum().float()\n",
        "        one_acc = correct_results_sum / 9\n",
        "        if one_acc == 1:\n",
        "            real_acc2 += 1\n",
        "    real_acc2 = real_acc2 / y_test.shape[0]\n",
        "    # print(y_pred_tag)\n",
        "\n",
        "    #######################################\n",
        "    ## rule 2\n",
        "    y_pred_tag = y_pred_tag_intact\n",
        "    acc_rule2 = 0.0\n",
        "    real_acc_rule2 = 0.0\n",
        "    for i in range(y_test.shape[0]):\n",
        "        for j in range(9):\n",
        "            k = 8 - j\n",
        "            if k >= 6 and y_pred_tag[i][k] == 1:\n",
        "                y_pred_tag[i][:6] = 1\n",
        "            if k >= 3 and y_pred_tag[i][k] == 1:\n",
        "                y_pred_tag[i][:3] = 1\n",
        "        \n",
        "        correct_results_sum = (y_pred_tag[i] == y_test[i]).sum().float()\n",
        "        a = correct_results_sum / 9\n",
        "        acc_rule2 += a\n",
        "        if a == 1:\n",
        "            real_acc_rule2 += 1\n",
        "    acc_rule2 = acc_rule2 / y_test.shape[0]\n",
        "    real_acc_rule2 = real_acc_rule2 / y_test.shape[0]\n",
        "    # print(y_pred_tag)\n",
        "\n",
        "\n",
        "    return acc1, acc2, acc_rule2, real_acc1, real_acc2, real_acc_rule2"
      ],
      "execution_count": 51,
      "outputs": []
    },
    {
      "cell_type": "code",
      "metadata": {
        "id": "RK0VlCA3hmmz"
      },
      "source": [
        "model = SessionPredictionModel(num_items=381,\n",
        "    dim_item_emb=32,\n",
        "    dim_item_discrete_feature_emb=8,\n",
        "    dim_user_discrete_feature_emb=8\n",
        ")"
      ],
      "execution_count": 18,
      "outputs": []
    },
    {
      "cell_type": "code",
      "metadata": {
        "colab": {
          "base_uri": "https://localhost:8080/"
        },
        "id": "CLvz60iaAOLo",
        "outputId": "66013af6-8301-4a77-fdc5-f2c7a8e42908"
      },
      "source": [
        "model"
      ],
      "execution_count": 19,
      "outputs": [
        {
          "output_type": "execute_result",
          "data": {
            "text/plain": [
              "SessionPredictionModel(\n",
              "  (item_emb): Embedding(382, 32)\n",
              "  (item_discrete_feature_emb_list): ModuleList(\n",
              "    (0): Embedding(4, 8)\n",
              "    (1): Embedding(10, 8)\n",
              "    (2): Embedding(2, 8)\n",
              "    (3): Embedding(3, 8)\n",
              "  )\n",
              "  (user_discrete_feature_emb_list): ModuleList(\n",
              "    (0): Embedding(3, 8)\n",
              "    (1): Embedding(1430, 8)\n",
              "    (2): Embedding(20, 8)\n",
              "    (3): Embedding(10, 8)\n",
              "    (4): Embedding(198, 8)\n",
              "    (5): Embedding(52, 8)\n",
              "    (6): Embedding(3, 8)\n",
              "    (7): Embedding(13, 8)\n",
              "    (8): Embedding(2, 8)\n",
              "    (9): Embedding(2347, 8)\n",
              "  )\n",
              "  (backbone): Sequential(\n",
              "    (0): Linear(in_features=750, out_features=400, bias=True)\n",
              "    (1): PReLU(num_parameters=1)\n",
              "    (2): Linear(in_features=400, out_features=200, bias=True)\n",
              "    (3): PReLU(num_parameters=1)\n",
              "  )\n",
              "  (session_prediction_head): Sequential(\n",
              "    (0): Linear(in_features=200, out_features=80, bias=True)\n",
              "    (1): PReLU(num_parameters=1)\n",
              "    (2): Linear(in_features=80, out_features=20, bias=True)\n",
              "    (3): PReLU(num_parameters=1)\n",
              "    (4): Linear(in_features=20, out_features=4, bias=True)\n",
              "  )\n",
              "  (buy_prediction_head): Sequential(\n",
              "    (0): Linear(in_features=200, out_features=80, bias=True)\n",
              "    (1): PReLU(num_parameters=1)\n",
              "    (2): Linear(in_features=80, out_features=20, bias=True)\n",
              "    (3): PReLU(num_parameters=1)\n",
              "    (4): Linear(in_features=20, out_features=9, bias=True)\n",
              "  )\n",
              ")"
            ]
          },
          "metadata": {
            "tags": []
          },
          "execution_count": 19
        }
      ]
    },
    {
      "cell_type": "code",
      "metadata": {
        "id": "N3eOxzVAHhr9"
      },
      "source": [
        "sess_criterion = nn.CrossEntropyLoss()\n",
        "buy_criterion = nn.BCEWithLogitsLoss()\n",
        "\n",
        "# optimizer = optim.SGD(model.parameters(), lr=0.01, momentum=0.9)\n",
        "optimizer = optim.Adam(model.parameters(), lr=0.001, betas=(0.9, 0.999))"
      ],
      "execution_count": null,
      "outputs": []
    },
    {
      "cell_type": "code",
      "metadata": {
        "colab": {
          "base_uri": "https://localhost:8080/"
        },
        "id": "5uh3Bd3EASid",
        "outputId": "75a49445-90aa-4bee-c4e8-566eadaea4e7"
      },
      "source": [
        "optimizer = optim.Adam(model.parameters(), lr=0.0001, betas=(0.9, 0.999))\n",
        "\n",
        "NUM_EPOCH = 2\n",
        "for epoch_idx in range(NUM_EPOCH):  # loop over the dataset multiple times\n",
        "\n",
        "    running_sess_loss = 0.0\n",
        "    running_buy_loss = 0.0\n",
        "    train_cnt = 0\n",
        "    train_sess_acc_sum = 0\n",
        "    train_buy_acc1_sum = 0\n",
        "    train_buy_real_acc1_sum = 0\n",
        "    train_buy_acc2_sum = 0\n",
        "    train_buy_real_acc2_sum = 0\n",
        "    train_buy_acc_rule2_sum = 0\n",
        "    train_buy_real_acc_rule2_sum = 0\n",
        "    train_cnt_session_0 = train_cnt_session_1 = train_cnt_session_2 = train_cnt_session_3 = 0\n",
        "    \n",
        "    for i, data in enumerate(train_dl, 0):\n",
        "        model.train()\n",
        "\n",
        "        # get the inputs; data is a list of [inputs, labels]\n",
        "        user_click_history, \\\n",
        "            user_click_history_discrete_feature, user_click_history_cont_feature, \\\n",
        "            num_user_click_history, \\\n",
        "            item_id, item_discrete_feature, item_cont_feature, \\\n",
        "            user_discrete_feature, label, session_label = data\n",
        "\n",
        "        train_batch_size = user_click_history.shape[0]\n",
        "\n",
        "        # zero the parameter gradients\n",
        "        optimizer.zero_grad()\n",
        "\n",
        "        # forward + backward + optimize\n",
        "        sess_outputs, buy_outputs = model(\n",
        "            user_click_history,\n",
        "            user_click_history_discrete_feature,\n",
        "            user_click_history_cont_feature,\n",
        "            num_user_click_history,\n",
        "            item_id,\n",
        "            item_discrete_feature,\n",
        "            item_cont_feature,\n",
        "            user_discrete_feature\n",
        "        )\n",
        "\n",
        "        sess_loss = sess_criterion(sess_outputs, session_label)\n",
        "        buy_loss = buy_criterion(buy_outputs, label.float())\n",
        "        loss = sess_loss + buy_loss\n",
        "\n",
        "        loss.backward()\n",
        "        optimizer.step()\n",
        "\n",
        "        # print statistics\n",
        "        running_sess_loss += sess_loss.item()\n",
        "        running_buy_loss += buy_loss.item()\n",
        "\n",
        "        _, sess_predicted = torch.max(sess_outputs.data, 1)\n",
        "        sess_acc = (sess_predicted == session_label).sum().item() / train_batch_size\n",
        "        # buy_acc1, buy_acc2, buy_real_acc1, buy_real_acc2 = binary_acc(sess_predicted, buy_outputs, label)\n",
        "        buy_acc1, buy_acc2, buy_acc_rule2, buy_real_acc1, buy_real_acc2, buy_real_acc_rule2 = binary_acc(sess_predicted, buy_outputs, label)\n",
        "\n",
        "        train_sess_acc_sum += sess_acc\n",
        "        train_buy_acc1_sum += buy_acc1\n",
        "        train_buy_real_acc1_sum += buy_real_acc1\n",
        "        train_buy_acc2_sum += buy_acc2\n",
        "        train_buy_real_acc2_sum += buy_real_acc2\n",
        "        train_buy_acc_rule2_sum += buy_acc_rule2\n",
        "        train_buy_real_acc_rule2_sum += buy_real_acc_rule2\n",
        "        train_cnt += 1\n",
        "\n",
        "        train_cnt_session_0 += torch.sum(session_label == 0)\n",
        "        train_cnt_session_1 += torch.sum(session_label == 1)\n",
        "        train_cnt_session_2 += torch.sum(session_label == 2)\n",
        "        train_cnt_session_3 += torch.sum(session_label == 3)\n",
        "\n",
        "        if i % 50 == 1:\n",
        "            print(i, )\n",
        "\n",
        "        if i % 500 == 1:    # print every 2000 mini-batches\n",
        "            print('----- TRAIN -----')\n",
        "            print('[%d, %5d] sess loss: %.3f' % (epoch_idx + 1, i + 1, running_sess_loss / train_cnt))\n",
        "            print('[%d, %5d] buy loss: %.3f'  % (epoch_idx + 1, i + 1, running_buy_loss / train_cnt))\n",
        "            print('- sess acc:', train_sess_acc_sum / train_cnt, flush=True)\n",
        "            print('- buy acc1:', train_buy_acc1_sum / train_cnt, flush=True)\n",
        "            print('- buy real acc1:', train_buy_real_acc1_sum / train_cnt, flush=True)\n",
        "            print('- buy acc2:', train_buy_acc2_sum / train_cnt, flush=True)\n",
        "            print('- buy real acc2:', train_buy_real_acc2_sum / train_cnt, flush=True)\n",
        "            print('- buy acc rule2:', train_buy_acc_rule2_sum / train_cnt, flush=True)\n",
        "            print('- buy real acc rule2:', train_buy_real_acc_rule2_sum / train_cnt, flush=True)\n",
        "            print('- train sess cnt:', train_cnt_session_0, train_cnt_session_1, train_cnt_session_2, train_cnt_session_3)\n",
        "\n",
        "            running_sess_loss = 0.0\n",
        "            running_buy_loss = 0.0\n",
        "            train_cnt = 0\n",
        "            train_sess_acc_sum = 0\n",
        "            train_buy_acc1_sum = 0\n",
        "            train_buy_real_acc1_sum = 0\n",
        "            train_buy_acc2_sum = 0\n",
        "            train_buy_real_acc2_sum = 0\n",
        "            train_buy_acc_rule2_sum = 0\n",
        "            train_buy_real_acc_rule2_sum = 0\n",
        "            train_cnt_session_0 = train_cnt_session_1 = train_cnt_session_2 = train_cnt_session_3 = 0\n",
        "\n",
        "\n",
        "            ## val\n",
        "            model.eval()\n",
        "            valid_cnt = 0\n",
        "            valid_sess_acc_sum = 0\n",
        "            valid_buy_acc1_sum = 0\n",
        "            valid_buy_real_acc1_sum = 0\n",
        "            valid_buy_acc2_sum = 0\n",
        "            valid_buy_real_acc2_sum = 0\n",
        "            valid_buy_acc_rule2_sum = 0\n",
        "            valid_buy_real_acc_rule2_sum = 0\n",
        "            \n",
        "            valid_cnt_session_0 = valid_cnt_session_1 = valid_cnt_session_2 = valid_cnt_session_3 = 0\n",
        "\n",
        "            for _, val_data in tqdm(enumerate(val_dl, 0)):\n",
        "                user_click_history, \\\n",
        "                    user_click_history_discrete_feature, user_click_history_cont_feature, \\\n",
        "                    num_user_click_history, \\\n",
        "                    item_id, item_discrete_feature, item_cont_feature, \\\n",
        "                    user_discrete_feature, label, session_label = val_data\n",
        "                sess_outputs, buy_outputs = model(\n",
        "                    user_click_history,\n",
        "                    user_click_history_discrete_feature,\n",
        "                    user_click_history_cont_feature,\n",
        "                    num_user_click_history,\n",
        "                    item_id,\n",
        "                    item_discrete_feature,\n",
        "                    item_cont_feature,\n",
        "                    user_discrete_feature\n",
        "                )\n",
        "\n",
        "                valid_batch_size = user_click_history.shape[0]\n",
        "\n",
        "                _, sess_predicted = torch.max(sess_outputs.data, 1)\n",
        "                sess_acc = (sess_predicted == session_label).sum().item() / valid_batch_size\n",
        "                buy_acc1, buy_acc2, buy_acc_rule2, buy_real_acc1, buy_real_acc2, buy_real_acc_rule2 = binary_acc(sess_predicted, buy_outputs, label)\n",
        "\n",
        "                valid_sess_acc_sum += sess_acc\n",
        "                valid_buy_acc1_sum += buy_acc1\n",
        "                valid_buy_real_acc1_sum += buy_real_acc1\n",
        "                valid_buy_acc2_sum += buy_acc2\n",
        "                valid_buy_real_acc2_sum += buy_real_acc2\n",
        "                valid_buy_acc_rule2_sum += buy_acc_rule2\n",
        "                valid_buy_real_acc_rule2_sum += buy_real_acc_rule2\n",
        "                valid_cnt += 1\n",
        "\n",
        "                valid_cnt_session_0 += torch.sum(session_label == 0)\n",
        "                valid_cnt_session_1 += torch.sum(session_label == 1)\n",
        "                valid_cnt_session_2 += torch.sum(session_label == 2)\n",
        "                valid_cnt_session_3 += torch.sum(session_label == 3)\n",
        "\n",
        "            print('----- VAL -----')\n",
        "            print('- sess acc:', valid_sess_acc_sum / valid_cnt)\n",
        "            print('- buy acc1:', valid_buy_acc1_sum / valid_cnt)\n",
        "            print('- buy real acc1:', valid_buy_real_acc1_sum / valid_cnt)\n",
        "            print('- buy acc2:', valid_buy_acc2_sum / valid_cnt)\n",
        "            print('- buy real acc2:', valid_buy_real_acc2_sum / valid_cnt)\n",
        "            print('- buy acc rule2:', valid_buy_acc_rule2_sum / valid_cnt)\n",
        "            print('- buy real acc rule2:', valid_buy_real_acc_rule2_sum / valid_cnt)\n",
        "            print('valid sess cnt:', valid_cnt_session_0, valid_cnt_session_1, valid_cnt_session_2, valid_cnt_session_3)\n",
        "\n",
        "print('Finished Training')"
      ],
      "execution_count": 21,
      "outputs": [
        {
          "output_type": "stream",
          "text": [
            "1\n",
            "----- TRAIN -----\n",
            "[1,     2] sess loss: 1.130\n",
            "[1,     2] buy loss: 0.462\n",
            "- sess acc: 0.5625\n",
            "- buy acc1: tensor(0.7951)\n",
            "- buy real acc1: 0.34375\n",
            "- buy acc2: tensor(0.7778)\n",
            "- buy real acc2: 0.3125\n",
            "- buy acc rule2: tensor(0.7951)\n",
            "- buy real acc rule2: 0.34375\n",
            "- train sess cnt: tensor(13) tensor(13) tensor(15) tensor(23)\n"
          ],
          "name": "stdout"
        },
        {
          "output_type": "stream",
          "text": [
            "407it [00:07, 57.00it/s]\n"
          ],
          "name": "stderr"
        },
        {
          "output_type": "stream",
          "text": [
            "----- VAL -----\n",
            "- sess acc: 0.6497353997353997\n",
            "- buy acc1: tensor(0.8032)\n",
            "- buy real acc1: 0.32239297864297867\n",
            "- buy acc2: tensor(0.8004)\n",
            "- buy real acc2: 0.32408216783216787\n",
            "- buy acc rule2: tensor(0.8032)\n",
            "- buy real acc rule2: 0.3225465412965413\n",
            "valid sess cnt: tensor(1589) tensor(2513) tensor(1935) tensor(6968)\n",
            "51\n",
            "101\n",
            "151\n",
            "201\n",
            "251\n",
            "301\n",
            "351\n",
            "401\n",
            "451\n",
            "501\n",
            "----- TRAIN -----\n",
            "[1,   502] sess loss: 0.837\n",
            "[1,   502] buy loss: 0.403\n",
            "- sess acc: 0.6630625\n",
            "- buy acc1: tensor(0.8125)\n",
            "- buy real acc1: 0.328\n",
            "- buy acc2: tensor(0.8105)\n",
            "- buy real acc2: 0.330625\n",
            "- buy acc rule2: tensor(0.8125)\n",
            "- buy real acc rule2: 0.3284375\n",
            "- train sess cnt: tensor(1866) tensor(3123) tensor(2347) tensor(8664)\n"
          ],
          "name": "stdout"
        },
        {
          "output_type": "stream",
          "text": [
            "407it [00:06, 58.47it/s]\n"
          ],
          "name": "stderr"
        },
        {
          "output_type": "stream",
          "text": [
            "----- VAL -----\n",
            "- sess acc: 0.652995652995653\n",
            "- buy acc1: tensor(0.8049)\n",
            "- buy real acc1: 0.3154826592326593\n",
            "- buy acc2: tensor(0.8027)\n",
            "- buy real acc2: 0.3182054432054432\n",
            "- buy acc rule2: tensor(0.8050)\n",
            "- buy real acc rule2: 0.31578978453978457\n",
            "valid sess cnt: tensor(1589) tensor(2513) tensor(1935) tensor(6968)\n",
            "551\n",
            "601\n",
            "651\n",
            "701\n",
            "751\n",
            "801\n",
            "851\n",
            "901\n",
            "951\n",
            "1001\n",
            "----- TRAIN -----\n",
            "[1,  1002] sess loss: 0.828\n",
            "[1,  1002] buy loss: 0.401\n",
            "- sess acc: 0.67025\n",
            "- buy acc1: tensor(0.8147)\n",
            "- buy real acc1: 0.334375\n",
            "- buy acc2: tensor(0.8131)\n",
            "- buy real acc2: 0.3365625\n",
            "- buy acc rule2: tensor(0.8148)\n",
            "- buy real acc rule2: 0.3349375\n",
            "- train sess cnt: tensor(1877) tensor(3131) tensor(2284) tensor(8708)\n"
          ],
          "name": "stdout"
        },
        {
          "output_type": "stream",
          "text": [
            "407it [00:07, 58.01it/s]\n"
          ],
          "name": "stderr"
        },
        {
          "output_type": "stream",
          "text": [
            "----- VAL -----\n",
            "- sess acc: 0.6551455301455301\n",
            "- buy acc1: tensor(0.8058)\n",
            "- buy real acc1: 0.3219736344736345\n",
            "- buy acc2: tensor(0.8038)\n",
            "- buy real acc2: 0.3232375732375733\n",
            "- buy acc rule2: tensor(0.8060)\n",
            "- buy real acc rule2: 0.3224343224343224\n",
            "valid sess cnt: tensor(1589) tensor(2513) tensor(1935) tensor(6968)\n",
            "1051\n",
            "1101\n",
            "1151\n",
            "1201\n",
            "1251\n",
            "1301\n",
            "1351\n",
            "1401\n",
            "1451\n",
            "1501\n",
            "----- TRAIN -----\n",
            "[1,  1502] sess loss: 0.821\n",
            "[1,  1502] buy loss: 0.397\n",
            "- sess acc: 0.6763125\n",
            "- buy acc1: tensor(0.8164)\n",
            "- buy real acc1: 0.3365625\n",
            "- buy acc2: tensor(0.8150)\n",
            "- buy real acc2: 0.33975\n",
            "- buy acc rule2: tensor(0.8164)\n",
            "- buy real acc rule2: 0.337125\n",
            "- train sess cnt: tensor(1916) tensor(3041) tensor(2322) tensor(8721)\n"
          ],
          "name": "stdout"
        },
        {
          "output_type": "stream",
          "text": [
            "407it [00:06, 58.22it/s]\n"
          ],
          "name": "stderr"
        },
        {
          "output_type": "stream",
          "text": [
            "----- VAL -----\n",
            "- sess acc: 0.6561436873936874\n",
            "- buy acc1: tensor(0.8055)\n",
            "- buy real acc1: 0.32450741825741825\n",
            "- buy acc2: tensor(0.8032)\n",
            "- buy real acc2: 0.326692732942733\n",
            "- buy acc rule2: tensor(0.8056)\n",
            "- buy real acc rule2: 0.3251216688716689\n",
            "valid sess cnt: tensor(1589) tensor(2513) tensor(1935) tensor(6968)\n",
            "1551\n",
            "1601\n",
            "1651\n",
            "1701\n",
            "1751\n",
            "1801\n",
            "1851\n",
            "1901\n",
            "1951\n",
            "2001\n",
            "----- TRAIN -----\n",
            "[1,  2002] sess loss: 0.834\n",
            "[1,  2002] buy loss: 0.400\n",
            "- sess acc: 0.6671875\n",
            "- buy acc1: tensor(0.8136)\n",
            "- buy real acc1: 0.3260625\n",
            "- buy acc2: tensor(0.8123)\n",
            "- buy real acc2: 0.328\n",
            "- buy acc rule2: tensor(0.8136)\n",
            "- buy real acc rule2: 0.3263125\n",
            "- train sess cnt: tensor(1934) tensor(3205) tensor(2306) tensor(8555)\n"
          ],
          "name": "stdout"
        },
        {
          "output_type": "stream",
          "text": [
            "407it [00:07, 57.89it/s]\n"
          ],
          "name": "stderr"
        },
        {
          "output_type": "stream",
          "text": [
            "----- VAL -----\n",
            "- sess acc: 0.6559133434133434\n",
            "- buy acc1: tensor(0.8062)\n",
            "- buy real acc1: 0.32281822906822905\n",
            "- buy acc2: tensor(0.8039)\n",
            "- buy real acc2: 0.3254642317142317\n",
            "- buy acc rule2: tensor(0.8063)\n",
            "- buy real acc rule2: 0.3235860423360423\n",
            "valid sess cnt: tensor(1589) tensor(2513) tensor(1935) tensor(6968)\n",
            "2051\n",
            "2101\n",
            "2151\n",
            "2201\n",
            "2251\n",
            "2301\n",
            "2351\n",
            "2401\n",
            "2451\n",
            "2501\n",
            "----- TRAIN -----\n",
            "[1,  2502] sess loss: 0.822\n",
            "[1,  2502] buy loss: 0.396\n",
            "- sess acc: 0.6668125\n",
            "- buy acc1: tensor(0.8158)\n",
            "- buy real acc1: 0.33025\n",
            "- buy acc2: tensor(0.8145)\n",
            "- buy real acc2: 0.3329375\n",
            "- buy acc rule2: tensor(0.8158)\n",
            "- buy real acc rule2: 0.331\n",
            "- train sess cnt: tensor(1897) tensor(3159) tensor(2255) tensor(8689)\n"
          ],
          "name": "stdout"
        },
        {
          "output_type": "stream",
          "text": [
            "407it [00:07, 57.00it/s]\n"
          ],
          "name": "stderr"
        },
        {
          "output_type": "stream",
          "text": [
            "----- VAL -----\n",
            "- sess acc: 0.6561436873936874\n",
            "- buy acc1: tensor(0.8066)\n",
            "- buy real acc1: 0.32888395388395386\n",
            "- buy acc2: tensor(0.8043)\n",
            "- buy real acc2: 0.33007111132111133\n",
            "- buy acc rule2: tensor(0.8066)\n",
            "- buy real acc rule2: 0.32934464184464185\n",
            "valid sess cnt: tensor(1589) tensor(2513) tensor(1935) tensor(6968)\n",
            "2551\n",
            "2601\n",
            "2651\n",
            "2701\n",
            "2751\n",
            "2801\n",
            "2851\n",
            "2901\n",
            "2951\n",
            "3001\n",
            "----- TRAIN -----\n",
            "[1,  3002] sess loss: 0.840\n",
            "[1,  3002] buy loss: 0.404\n",
            "- sess acc: 0.66375\n",
            "- buy acc1: tensor(0.8130)\n",
            "- buy real acc1: 0.331125\n",
            "- buy acc2: tensor(0.8123)\n",
            "- buy real acc2: 0.3326875\n",
            "- buy acc rule2: tensor(0.8130)\n",
            "- buy real acc rule2: 0.3314375\n",
            "- train sess cnt: tensor(1901) tensor(3107) tensor(2446) tensor(8546)\n"
          ],
          "name": "stdout"
        },
        {
          "output_type": "stream",
          "text": [
            "407it [00:07, 57.26it/s]\n"
          ],
          "name": "stderr"
        },
        {
          "output_type": "stream",
          "text": [
            "----- VAL -----\n",
            "- sess acc: 0.6563740313740314\n",
            "- buy acc1: tensor(0.8066)\n",
            "- buy real acc1: 0.3238163863163863\n",
            "- buy acc2: tensor(0.8043)\n",
            "- buy real acc2: 0.3254642317142317\n",
            "- buy acc rule2: tensor(0.8067)\n",
            "- buy real acc rule2: 0.32450741825741825\n",
            "valid sess cnt: tensor(1589) tensor(2513) tensor(1935) tensor(6968)\n",
            "3051\n",
            "3101\n",
            "3151\n",
            "3201\n",
            "3251\n",
            "3301\n",
            "3351\n",
            "3401\n",
            "3451\n",
            "3501\n",
            "----- TRAIN -----\n",
            "[1,  3502] sess loss: 0.826\n",
            "[1,  3502] buy loss: 0.399\n",
            "- sess acc: 0.6735\n",
            "- buy acc1: tensor(0.8139)\n",
            "- buy real acc1: 0.335625\n",
            "- buy acc2: tensor(0.8124)\n",
            "- buy real acc2: 0.337125\n",
            "- buy acc rule2: tensor(0.8138)\n",
            "- buy real acc rule2: 0.3364375\n",
            "- train sess cnt: tensor(1920) tensor(3132) tensor(2293) tensor(8655)\n"
          ],
          "name": "stdout"
        },
        {
          "output_type": "stream",
          "text": [
            "407it [00:07, 56.31it/s]\n"
          ],
          "name": "stderr"
        },
        {
          "output_type": "stream",
          "text": [
            "----- VAL -----\n",
            "- sess acc: 0.6575257512757513\n",
            "- buy acc1: tensor(0.8071)\n",
            "- buy real acc1: 0.32373960498960497\n",
            "- buy acc2: tensor(0.8052)\n",
            "- buy real acc2: 0.3261552636552637\n",
            "- buy acc rule2: tensor(0.8071)\n",
            "- buy real acc rule2: 0.3241235116235116\n",
            "valid sess cnt: tensor(1589) tensor(2513) tensor(1935) tensor(6968)\n",
            "3551\n",
            "3601\n",
            "3651\n",
            "3701\n",
            "3751\n",
            "3801\n",
            "3851\n",
            "3901\n",
            "3951\n",
            "4001\n",
            "----- TRAIN -----\n",
            "[1,  4002] sess loss: 0.822\n",
            "[1,  4002] buy loss: 0.399\n",
            "- sess acc: 0.6701875\n",
            "- buy acc1: tensor(0.8134)\n",
            "- buy real acc1: 0.3325625\n",
            "- buy acc2: tensor(0.8115)\n",
            "- buy real acc2: 0.333875\n",
            "- buy acc rule2: tensor(0.8133)\n",
            "- buy real acc rule2: 0.33325\n",
            "- train sess cnt: tensor(1837) tensor(3085) tensor(2359) tensor(8719)\n"
          ],
          "name": "stdout"
        },
        {
          "output_type": "stream",
          "text": [
            "407it [00:07, 57.47it/s]\n"
          ],
          "name": "stderr"
        },
        {
          "output_type": "stream",
          "text": [
            "----- VAL -----\n",
            "- sess acc: 0.6566043753543753\n",
            "- buy acc1: tensor(0.8074)\n",
            "- buy real acc1: 0.32719476469476466\n",
            "- buy acc2: tensor(0.8053)\n",
            "- buy real acc2: 0.32853548478548483\n",
            "- buy acc rule2: tensor(0.8074)\n",
            "- buy real acc rule2: 0.32765545265545265\n",
            "valid sess cnt: tensor(1589) tensor(2513) tensor(1935) tensor(6968)\n",
            "4051\n",
            "4101\n",
            "4151\n",
            "4201\n",
            "4251\n",
            "4301\n",
            "4351\n",
            "4401\n",
            "4451\n",
            "4501\n",
            "----- TRAIN -----\n",
            "[1,  4502] sess loss: 0.815\n",
            "[1,  4502] buy loss: 0.395\n",
            "- sess acc: 0.671125\n",
            "- buy acc1: tensor(0.8159)\n",
            "- buy real acc1: 0.3405\n",
            "- buy acc2: tensor(0.8144)\n",
            "- buy real acc2: 0.341125\n",
            "- buy acc rule2: tensor(0.8160)\n",
            "- buy real acc rule2: 0.3411875\n",
            "- train sess cnt: tensor(1863) tensor(3028) tensor(2374) tensor(8735)\n"
          ],
          "name": "stdout"
        },
        {
          "output_type": "stream",
          "text": [
            "407it [00:07, 57.28it/s]\n"
          ],
          "name": "stderr"
        },
        {
          "output_type": "stream",
          "text": [
            "----- VAL -----\n",
            "- sess acc: 0.6575257512757513\n",
            "- buy acc1: tensor(0.8070)\n",
            "- buy real acc1: 0.3290375165375165\n",
            "- buy acc2: tensor(0.8051)\n",
            "- buy real acc2: 0.3305317992817993\n",
            "- buy acc rule2: tensor(0.8071)\n",
            "- buy real acc rule2: 0.3295749858249858\n",
            "valid sess cnt: tensor(1589) tensor(2513) tensor(1935) tensor(6968)\n",
            "4551\n",
            "4601\n",
            "4651\n",
            "4701\n",
            "4751\n",
            "4801\n",
            "4851\n",
            "4901\n",
            "4951\n",
            "5001\n",
            "----- TRAIN -----\n",
            "[1,  5002] sess loss: 0.822\n",
            "[1,  5002] buy loss: 0.395\n",
            "- sess acc: 0.667625\n",
            "- buy acc1: tensor(0.8162)\n",
            "- buy real acc1: 0.3355625\n",
            "- buy acc2: tensor(0.8150)\n",
            "- buy real acc2: 0.33925\n",
            "- buy acc rule2: tensor(0.8160)\n",
            "- buy real acc rule2: 0.336125\n",
            "- train sess cnt: tensor(1935) tensor(3093) tensor(2345) tensor(8627)\n"
          ],
          "name": "stdout"
        },
        {
          "output_type": "stream",
          "text": [
            "407it [00:07, 58.03it/s]\n"
          ],
          "name": "stderr"
        },
        {
          "output_type": "stream",
          "text": [
            "----- VAL -----\n",
            "- sess acc: 0.6572954072954073\n",
            "- buy acc1: tensor(0.8071)\n",
            "- buy real acc1: 0.32619660744660745\n",
            "- buy acc2: tensor(0.8048)\n",
            "- buy real acc2: 0.3281515781515782\n",
            "- buy acc rule2: tensor(0.8071)\n",
            "- buy real acc rule2: 0.32673407673407673\n",
            "valid sess cnt: tensor(1589) tensor(2513) tensor(1935) tensor(6968)\n",
            "5051\n",
            "5101\n",
            "5151\n",
            "5201\n",
            "5251\n",
            "5301\n",
            "5351\n",
            "5401\n",
            "5451\n",
            "5501\n",
            "----- TRAIN -----\n",
            "[1,  5502] sess loss: 0.832\n",
            "[1,  5502] buy loss: 0.402\n",
            "- sess acc: 0.6665\n",
            "- buy acc1: tensor(0.8118)\n",
            "- buy real acc1: 0.328375\n",
            "- buy acc2: tensor(0.8098)\n",
            "- buy real acc2: 0.330125\n",
            "- buy acc rule2: tensor(0.8120)\n",
            "- buy real acc rule2: 0.328875\n",
            "- train sess cnt: tensor(1923) tensor(3089) tensor(2362) tensor(8626)\n"
          ],
          "name": "stdout"
        },
        {
          "output_type": "stream",
          "text": [
            "407it [00:06, 58.18it/s]\n"
          ],
          "name": "stderr"
        },
        {
          "output_type": "stream",
          "text": [
            "----- VAL -----\n",
            "- sess acc: 0.6563740313740314\n",
            "- buy acc1: tensor(0.8077)\n",
            "- buy real acc1: 0.3295749858249858\n",
            "- buy acc2: tensor(0.8048)\n",
            "- buy real acc2: 0.3313763938763939\n",
            "- buy acc rule2: tensor(0.8077)\n",
            "- buy real acc rule2: 0.3300356737856738\n",
            "valid sess cnt: tensor(1589) tensor(2513) tensor(1935) tensor(6968)\n",
            "5551\n",
            "5601\n",
            "5651\n",
            "5701\n",
            "5751\n",
            "5801\n",
            "5851\n",
            "5901\n",
            "5951\n",
            "6001\n",
            "----- TRAIN -----\n",
            "[1,  6002] sess loss: 0.822\n",
            "[1,  6002] buy loss: 0.394\n",
            "- sess acc: 0.671\n",
            "- buy acc1: tensor(0.8169)\n",
            "- buy real acc1: 0.33725\n",
            "- buy acc2: tensor(0.8157)\n",
            "- buy real acc2: 0.3385625\n",
            "- buy acc rule2: tensor(0.8170)\n",
            "- buy real acc rule2: 0.338\n",
            "- train sess cnt: tensor(1911) tensor(3062) tensor(2352) tensor(8675)\n"
          ],
          "name": "stdout"
        },
        {
          "output_type": "stream",
          "text": [
            "407it [00:06, 58.36it/s]\n"
          ],
          "name": "stderr"
        },
        {
          "output_type": "stream",
          "text": [
            "----- VAL -----\n",
            "- sess acc: 0.6576025326025327\n",
            "- buy acc1: tensor(0.8080)\n",
            "- buy real acc1: 0.32888395388395386\n",
            "- buy acc2: tensor(0.8055)\n",
            "- buy real acc2: 0.3312996125496126\n",
            "- buy acc rule2: tensor(0.8081)\n",
            "- buy real acc rule2: 0.3298053298053298\n",
            "valid sess cnt: tensor(1589) tensor(2513) tensor(1935) tensor(6968)\n",
            "6051\n",
            "6101\n",
            "6151\n",
            "6201\n",
            "6251\n",
            "6301\n",
            "6351\n",
            "6401\n",
            "6451\n",
            "6501\n",
            "----- TRAIN -----\n",
            "[1,  6502] sess loss: 0.824\n",
            "[1,  6502] buy loss: 0.398\n",
            "- sess acc: 0.6705625\n",
            "- buy acc1: tensor(0.8166)\n",
            "- buy real acc1: 0.3371875\n",
            "- buy acc2: tensor(0.8148)\n",
            "- buy real acc2: 0.338875\n",
            "- buy acc rule2: tensor(0.8167)\n",
            "- buy real acc rule2: 0.338\n",
            "- train sess cnt: tensor(1874) tensor(3072) tensor(2367) tensor(8687)\n"
          ],
          "name": "stdout"
        },
        {
          "output_type": "stream",
          "text": [
            "407it [00:06, 58.19it/s]\n"
          ],
          "name": "stderr"
        },
        {
          "output_type": "stream",
          "text": [
            "----- VAL -----\n",
            "- sess acc: 0.6580632205632205\n",
            "- buy acc1: tensor(0.8080)\n",
            "- buy real acc1: 0.3281161406161406\n",
            "- buy acc2: tensor(0.8057)\n",
            "- buy real acc2: 0.32899617274617277\n",
            "- buy acc rule2: tensor(0.8081)\n",
            "- buy real acc rule2: 0.3285768285768286\n",
            "valid sess cnt: tensor(1589) tensor(2513) tensor(1935) tensor(6968)\n",
            "6551\n",
            "6601\n",
            "6651\n",
            "6701\n",
            "6751\n",
            "6801\n",
            "6851\n",
            "6901\n",
            "6951\n",
            "7001\n",
            "----- TRAIN -----\n",
            "[1,  7002] sess loss: 0.818\n",
            "[1,  7002] buy loss: 0.396\n",
            "- sess acc: 0.677625\n",
            "- buy acc1: tensor(0.8170)\n",
            "- buy real acc1: 0.3403125\n",
            "- buy acc2: tensor(0.8151)\n",
            "- buy real acc2: 0.3435625\n",
            "- buy acc rule2: tensor(0.8169)\n",
            "- buy real acc rule2: 0.340875\n",
            "- train sess cnt: tensor(1933) tensor(3049) tensor(2368) tensor(8650)\n"
          ],
          "name": "stdout"
        },
        {
          "output_type": "stream",
          "text": [
            "407it [00:07, 57.45it/s]\n"
          ],
          "name": "stderr"
        },
        {
          "output_type": "stream",
          "text": [
            "----- VAL -----\n",
            "- sess acc: 0.6575257512757513\n",
            "- buy acc1: tensor(0.8071)\n",
            "- buy real acc1: 0.331264175014175\n",
            "- buy acc2: tensor(0.8050)\n",
            "- buy real acc2: 0.33314236439236444\n",
            "- buy acc rule2: tensor(0.8073)\n",
            "- buy real acc rule2: 0.33203198828198827\n",
            "valid sess cnt: tensor(1589) tensor(2513) tensor(1935) tensor(6968)\n",
            "7051\n",
            "7101\n",
            "7151\n",
            "7201\n",
            "7251\n",
            "7301\n",
            "7351\n",
            "7401\n",
            "7451\n",
            "7501\n",
            "----- TRAIN -----\n",
            "[1,  7502] sess loss: 0.824\n",
            "[1,  7502] buy loss: 0.396\n",
            "- sess acc: 0.6689375\n",
            "- buy acc1: tensor(0.8177)\n",
            "- buy real acc1: 0.33925\n",
            "- buy acc2: tensor(0.8160)\n",
            "- buy real acc2: 0.34\n",
            "- buy acc rule2: tensor(0.8176)\n",
            "- buy real acc rule2: 0.339625\n",
            "- train sess cnt: tensor(1902) tensor(3045) tensor(2422) tensor(8631)\n"
          ],
          "name": "stdout"
        },
        {
          "output_type": "stream",
          "text": [
            "407it [00:07, 57.97it/s]\n"
          ],
          "name": "stderr"
        },
        {
          "output_type": "stream",
          "text": [
            "----- VAL -----\n",
            "- sess acc: 0.6597524097524098\n",
            "- buy acc1: tensor(0.8082)\n",
            "- buy real acc1: 0.3268876393876394\n",
            "- buy acc2: tensor(0.8062)\n",
            "- buy real acc2: 0.3293032980532981\n",
            "- buy acc rule2: tensor(0.8083)\n",
            "- buy real acc rule2: 0.32734832734832736\n",
            "valid sess cnt: tensor(1589) tensor(2513) tensor(1935) tensor(6968)\n",
            "7551\n",
            "7601\n",
            "7651\n",
            "7701\n",
            "1\n",
            "----- TRAIN -----\n",
            "[2,     2] sess loss: 0.785\n",
            "[2,     2] buy loss: 0.402\n",
            "- sess acc: 0.703125\n",
            "- buy acc1: tensor(0.8073)\n",
            "- buy real acc1: 0.328125\n",
            "- buy acc2: tensor(0.8021)\n",
            "- buy real acc2: 0.328125\n",
            "- buy acc rule2: tensor(0.8073)\n",
            "- buy real acc rule2: 0.328125\n",
            "- train sess cnt: tensor(6) tensor(12) tensor(12) tensor(34)\n"
          ],
          "name": "stdout"
        },
        {
          "output_type": "stream",
          "text": [
            "407it [00:07, 57.23it/s]\n"
          ],
          "name": "stderr"
        },
        {
          "output_type": "stream",
          "text": [
            "----- VAL -----\n",
            "- sess acc: 0.6590613778113779\n",
            "- buy acc1: tensor(0.8074)\n",
            "- buy real acc1: 0.33310692685692683\n",
            "- buy acc2: tensor(0.8048)\n",
            "- buy real acc2: 0.33414052164052166\n",
            "- buy acc rule2: tensor(0.8075)\n",
            "- buy real acc rule2: 0.3335676148176148\n",
            "valid sess cnt: tensor(1589) tensor(2513) tensor(1935) tensor(6968)\n",
            "51\n",
            "101\n",
            "151\n",
            "201\n",
            "251\n",
            "301\n",
            "351\n",
            "401\n",
            "451\n",
            "501\n",
            "----- TRAIN -----\n",
            "[2,   502] sess loss: 0.823\n",
            "[2,   502] buy loss: 0.397\n",
            "- sess acc: 0.6664375\n",
            "- buy acc1: tensor(0.8152)\n",
            "- buy real acc1: 0.3353125\n",
            "- buy acc2: tensor(0.8123)\n",
            "- buy real acc2: 0.335625\n",
            "- buy acc rule2: tensor(0.8151)\n",
            "- buy real acc rule2: 0.3355625\n",
            "- train sess cnt: tensor(1951) tensor(3108) tensor(2381) tensor(8560)\n"
          ],
          "name": "stdout"
        },
        {
          "output_type": "stream",
          "text": [
            "407it [00:07, 57.68it/s]\n"
          ],
          "name": "stderr"
        },
        {
          "output_type": "stream",
          "text": [
            "----- VAL -----\n",
            "- sess acc: 0.6581400018900019\n",
            "- buy acc1: tensor(0.8074)\n",
            "- buy real acc1: 0.33379795879795876\n",
            "- buy acc2: tensor(0.8051)\n",
            "- buy real acc2: 0.3359064921564922\n",
            "- buy acc rule2: tensor(0.8076)\n",
            "- buy real acc rule2: 0.3346425533925534\n",
            "valid sess cnt: tensor(1589) tensor(2513) tensor(1935) tensor(6968)\n",
            "551\n",
            "601\n",
            "651\n",
            "701\n",
            "751\n",
            "801\n",
            "851\n",
            "901\n",
            "951\n",
            "1001\n",
            "----- TRAIN -----\n",
            "[2,  1002] sess loss: 0.806\n",
            "[2,  1002] buy loss: 0.393\n",
            "- sess acc: 0.6754375\n",
            "- buy acc1: tensor(0.8189)\n",
            "- buy real acc1: 0.34675\n",
            "- buy acc2: tensor(0.8171)\n",
            "- buy real acc2: 0.3495625\n",
            "- buy acc rule2: tensor(0.8189)\n",
            "- buy real acc rule2: 0.3475\n",
            "- train sess cnt: tensor(1931) tensor(3031) tensor(2256) tensor(8782)\n"
          ],
          "name": "stdout"
        },
        {
          "output_type": "stream",
          "text": [
            "407it [00:06, 58.36it/s]\n"
          ],
          "name": "stderr"
        },
        {
          "output_type": "stream",
          "text": [
            "----- VAL -----\n",
            "- sess acc: 0.6598291910791911\n",
            "- buy acc1: tensor(0.8082)\n",
            "- buy real acc1: 0.32934464184464185\n",
            "- buy acc2: tensor(0.8062)\n",
            "- buy real acc2: 0.3313763938763939\n",
            "- buy acc rule2: tensor(0.8083)\n",
            "- buy real acc rule2: 0.3300356737856738\n",
            "valid sess cnt: tensor(1589) tensor(2513) tensor(1935) tensor(6968)\n",
            "1051\n",
            "1101\n",
            "1151\n",
            "1201\n",
            "1251\n",
            "1301\n",
            "1351\n",
            "1401\n",
            "1451\n",
            "1501\n",
            "----- TRAIN -----\n",
            "[2,  1502] sess loss: 0.816\n",
            "[2,  1502] buy loss: 0.395\n",
            "- sess acc: 0.672375\n",
            "- buy acc1: tensor(0.8177)\n",
            "- buy real acc1: 0.339375\n",
            "- buy acc2: tensor(0.8159)\n",
            "- buy real acc2: 0.3413125\n",
            "- buy acc rule2: tensor(0.8176)\n",
            "- buy real acc rule2: 0.3396875\n",
            "- train sess cnt: tensor(1917) tensor(3040) tensor(2419) tensor(8624)\n"
          ],
          "name": "stdout"
        },
        {
          "output_type": "stream",
          "text": [
            "407it [00:06, 58.46it/s]\n"
          ],
          "name": "stderr"
        },
        {
          "output_type": "stream",
          "text": [
            "----- VAL -----\n",
            "- sess acc: 0.6586006898506899\n",
            "- buy acc1: tensor(0.8071)\n",
            "- buy real acc1: 0.3294982044982045\n",
            "- buy acc2: tensor(0.8050)\n",
            "- buy real acc2: 0.3322977697977698\n",
            "- buy acc rule2: tensor(0.8071)\n",
            "- buy real acc rule2: 0.3301124551124551\n",
            "valid sess cnt: tensor(1589) tensor(2513) tensor(1935) tensor(6968)\n",
            "1551\n",
            "1601\n",
            "1651\n",
            "1701\n",
            "1751\n",
            "1801\n",
            "1851\n",
            "1901\n",
            "1951\n",
            "2001\n",
            "----- TRAIN -----\n",
            "[2,  2002] sess loss: 0.817\n",
            "[2,  2002] buy loss: 0.396\n",
            "- sess acc: 0.6730625\n",
            "- buy acc1: tensor(0.8176)\n",
            "- buy real acc1: 0.3423125\n",
            "- buy acc2: tensor(0.8155)\n",
            "- buy real acc2: 0.343875\n",
            "- buy acc rule2: tensor(0.8176)\n",
            "- buy real acc rule2: 0.343\n",
            "- train sess cnt: tensor(1912) tensor(3063) tensor(2368) tensor(8657)\n"
          ],
          "name": "stdout"
        },
        {
          "output_type": "stream",
          "text": [
            "407it [00:06, 58.23it/s]\n"
          ],
          "name": "stderr"
        },
        {
          "output_type": "stream",
          "text": [
            "----- VAL -----\n",
            "- sess acc: 0.6590613778113779\n",
            "- buy acc1: tensor(0.8077)\n",
            "- buy real acc1: 0.32588948213948216\n",
            "- buy acc2: tensor(0.8056)\n",
            "- buy real acc2: 0.32922651672651676\n",
            "- buy acc rule2: tensor(0.8078)\n",
            "- buy real acc rule2: 0.32673407673407673\n",
            "valid sess cnt: tensor(1589) tensor(2513) tensor(1935) tensor(6968)\n",
            "2051\n",
            "2101\n",
            "2151\n",
            "2201\n",
            "2251\n",
            "2301\n",
            "2351\n",
            "2401\n",
            "2451\n",
            "2501\n",
            "----- TRAIN -----\n",
            "[2,  2502] sess loss: 0.806\n",
            "[2,  2502] buy loss: 0.391\n",
            "- sess acc: 0.6805\n",
            "- buy acc1: tensor(0.8201)\n",
            "- buy real acc1: 0.349875\n",
            "- buy acc2: tensor(0.8185)\n",
            "- buy real acc2: 0.3536875\n",
            "- buy acc rule2: tensor(0.8200)\n",
            "- buy real acc rule2: 0.3504375\n",
            "- train sess cnt: tensor(1942) tensor(3091) tensor(2275) tensor(8692)\n"
          ],
          "name": "stdout"
        },
        {
          "output_type": "stream",
          "text": [
            "407it [00:07, 57.92it/s]\n"
          ],
          "name": "stderr"
        },
        {
          "output_type": "stream",
          "text": [
            "----- VAL -----\n",
            "- sess acc: 0.6584471271971272\n",
            "- buy acc1: tensor(0.8075)\n",
            "- buy real acc1: 0.33256945756945755\n",
            "- buy acc2: tensor(0.8050)\n",
            "- buy real acc2: 0.33490833490833494\n",
            "- buy acc rule2: tensor(0.8076)\n",
            "- buy real acc rule2: 0.3331837081837082\n",
            "valid sess cnt: tensor(1589) tensor(2513) tensor(1935) tensor(6968)\n",
            "2551\n",
            "2601\n",
            "2651\n",
            "2701\n",
            "2751\n",
            "2801\n",
            "2851\n",
            "2901\n",
            "2951\n",
            "3001\n",
            "----- TRAIN -----\n",
            "[2,  3002] sess loss: 0.811\n",
            "[2,  3002] buy loss: 0.393\n",
            "- sess acc: 0.680125\n",
            "- buy acc1: tensor(0.8184)\n",
            "- buy real acc1: 0.3389375\n",
            "- buy acc2: tensor(0.8178)\n",
            "- buy real acc2: 0.3418125\n",
            "- buy acc rule2: tensor(0.8185)\n",
            "- buy real acc rule2: 0.3396875\n",
            "- train sess cnt: tensor(1901) tensor(3242) tensor(2309) tensor(8548)\n"
          ],
          "name": "stdout"
        },
        {
          "output_type": "stream",
          "text": [
            "407it [00:07, 57.96it/s]\n"
          ],
          "name": "stderr"
        },
        {
          "output_type": "stream",
          "text": [
            "----- VAL -----\n",
            "- sess acc: 0.656757938007938\n",
            "- buy acc1: tensor(0.8075)\n",
            "- buy real acc1: 0.3238931676431676\n",
            "- buy acc2: tensor(0.8056)\n",
            "- buy real acc2: 0.326232044982045\n",
            "- buy acc rule2: tensor(0.8075)\n",
            "- buy real acc rule2: 0.3243538556038556\n",
            "valid sess cnt: tensor(1589) tensor(2513) tensor(1935) tensor(6968)\n",
            "3051\n",
            "3101\n",
            "3151\n",
            "3201\n",
            "3251\n",
            "3301\n",
            "3351\n",
            "3401\n",
            "3451\n",
            "3501\n",
            "----- TRAIN -----\n",
            "[2,  3502] sess loss: 0.810\n",
            "[2,  3502] buy loss: 0.391\n",
            "- sess acc: 0.6731875\n",
            "- buy acc1: tensor(0.8176)\n",
            "- buy real acc1: 0.337625\n",
            "- buy acc2: tensor(0.8164)\n",
            "- buy real acc2: 0.3404375\n",
            "- buy acc rule2: tensor(0.8177)\n",
            "- buy real acc rule2: 0.3383125\n",
            "- train sess cnt: tensor(1932) tensor(3035) tensor(2362) tensor(8671)\n"
          ],
          "name": "stdout"
        },
        {
          "output_type": "stream",
          "text": [
            "407it [00:07, 57.35it/s]\n"
          ],
          "name": "stderr"
        },
        {
          "output_type": "stream",
          "text": [
            "----- VAL -----\n",
            "- sess acc: 0.6590613778113779\n",
            "- buy acc1: tensor(0.8076)\n",
            "- buy real acc1: 0.33456577206577204\n",
            "- buy acc2: tensor(0.8054)\n",
            "- buy real acc2: 0.33828671328671334\n",
            "- buy acc rule2: tensor(0.8077)\n",
            "- buy real acc rule2: 0.33518002268002267\n",
            "valid sess cnt: tensor(1589) tensor(2513) tensor(1935) tensor(6968)\n",
            "3551\n",
            "3601\n",
            "3651\n",
            "3701\n",
            "3751\n",
            "3801\n",
            "3851\n",
            "3901\n",
            "3951\n",
            "4001\n",
            "----- TRAIN -----\n",
            "[2,  4002] sess loss: 0.815\n",
            "[2,  4002] buy loss: 0.392\n",
            "- sess acc: 0.67475\n",
            "- buy acc1: tensor(0.8191)\n",
            "- buy real acc1: 0.34125\n",
            "- buy acc2: tensor(0.8180)\n",
            "- buy real acc2: 0.3449375\n",
            "- buy acc rule2: tensor(0.8192)\n",
            "- buy real acc rule2: 0.34225\n",
            "- train sess cnt: tensor(1868) tensor(3116) tensor(2361) tensor(8655)\n"
          ],
          "name": "stdout"
        },
        {
          "output_type": "stream",
          "text": [
            "407it [00:07, 57.98it/s]\n"
          ],
          "name": "stderr"
        },
        {
          "output_type": "stream",
          "text": [
            "----- VAL -----\n",
            "- sess acc: 0.6606737856737857\n",
            "- buy acc1: tensor(0.8080)\n",
            "- buy real acc1: 0.3309570497070497\n",
            "- buy acc2: tensor(0.8062)\n",
            "- buy real acc2: 0.334217302967303\n",
            "- buy acc rule2: tensor(0.8081)\n",
            "- buy real acc rule2: 0.331724862974863\n",
            "valid sess cnt: tensor(1589) tensor(2513) tensor(1935) tensor(6968)\n",
            "4051\n",
            "4101\n",
            "4151\n",
            "4201\n",
            "4251\n",
            "4301\n",
            "4351\n",
            "4401\n",
            "4451\n",
            "4501\n",
            "----- TRAIN -----\n",
            "[2,  4502] sess loss: 0.819\n",
            "[2,  4502] buy loss: 0.393\n",
            "- sess acc: 0.6723125\n",
            "- buy acc1: tensor(0.8169)\n",
            "- buy real acc1: 0.3373125\n",
            "- buy acc2: tensor(0.8159)\n",
            "- buy real acc2: 0.34075\n",
            "- buy acc rule2: tensor(0.8171)\n",
            "- buy real acc rule2: 0.3378125\n",
            "- train sess cnt: tensor(1875) tensor(3054) tensor(2422) tensor(8649)\n"
          ],
          "name": "stdout"
        },
        {
          "output_type": "stream",
          "text": [
            "407it [00:06, 58.21it/s]\n"
          ],
          "name": "stderr"
        },
        {
          "output_type": "stream",
          "text": [
            "----- VAL -----\n",
            "- sess acc: 0.6595220657720657\n",
            "- buy acc1: tensor(0.8081)\n",
            "- buy real acc1: 0.3295749858249858\n",
            "- buy acc2: tensor(0.8060)\n",
            "- buy real acc2: 0.33237455112455117\n",
            "- buy acc rule2: tensor(0.8081)\n",
            "- buy real acc rule2: 0.3300356737856738\n",
            "valid sess cnt: tensor(1589) tensor(2513) tensor(1935) tensor(6968)\n",
            "4551\n",
            "4601\n",
            "4651\n",
            "4701\n",
            "4751\n",
            "4801\n",
            "4851\n",
            "4901\n",
            "4951\n",
            "5001\n",
            "----- TRAIN -----\n",
            "[2,  5002] sess loss: 0.818\n",
            "[2,  5002] buy loss: 0.397\n",
            "- sess acc: 0.672375\n",
            "- buy acc1: tensor(0.8153)\n",
            "- buy real acc1: 0.333875\n",
            "- buy acc2: tensor(0.8140)\n",
            "- buy real acc2: 0.3355625\n",
            "- buy acc rule2: tensor(0.8153)\n",
            "- buy real acc rule2: 0.3345\n",
            "- train sess cnt: tensor(1926) tensor(3093) tensor(2325) tensor(8656)\n"
          ],
          "name": "stdout"
        },
        {
          "output_type": "stream",
          "text": [
            "407it [00:07, 57.11it/s]\n"
          ],
          "name": "stderr"
        },
        {
          "output_type": "stream",
          "text": [
            "----- VAL -----\n",
            "- sess acc: 0.6619790682290683\n",
            "- buy acc1: tensor(0.8083)\n",
            "- buy real acc1: 0.32965176715176714\n",
            "- buy acc2: tensor(0.8063)\n",
            "- buy real acc2: 0.3329888017388018\n",
            "- buy acc rule2: tensor(0.8083)\n",
            "- buy real acc rule2: 0.33026601776601777\n",
            "valid sess cnt: tensor(1589) tensor(2513) tensor(1935) tensor(6968)\n",
            "5051\n",
            "5101\n",
            "5151\n",
            "5201\n",
            "5251\n",
            "5301\n",
            "5351\n",
            "5401\n",
            "5451\n",
            "5501\n",
            "----- TRAIN -----\n",
            "[2,  5502] sess loss: 0.816\n",
            "[2,  5502] buy loss: 0.393\n",
            "- sess acc: 0.671875\n",
            "- buy acc1: tensor(0.8172)\n",
            "- buy real acc1: 0.3338125\n",
            "- buy acc2: tensor(0.8156)\n",
            "- buy real acc2: 0.3369375\n",
            "- buy acc rule2: tensor(0.8171)\n",
            "- buy real acc rule2: 0.3341875\n",
            "- train sess cnt: tensor(1880) tensor(3153) tensor(2336) tensor(8631)\n"
          ],
          "name": "stdout"
        },
        {
          "output_type": "stream",
          "text": [
            "407it [00:07, 57.78it/s]\n"
          ],
          "name": "stderr"
        },
        {
          "output_type": "stream",
          "text": [
            "----- VAL -----\n",
            "- sess acc: 0.6591381591381591\n",
            "- buy acc1: tensor(0.8084)\n",
            "- buy real acc1: 0.3280393592893593\n",
            "- buy acc2: tensor(0.8060)\n",
            "- buy real acc2: 0.33007111132111133\n",
            "- buy acc rule2: tensor(0.8085)\n",
            "- buy real acc rule2: 0.32865360990360987\n",
            "valid sess cnt: tensor(1589) tensor(2513) tensor(1935) tensor(6968)\n",
            "5551\n",
            "5601\n",
            "5651\n",
            "5701\n",
            "5751\n",
            "5801\n",
            "5851\n",
            "5901\n",
            "5951\n",
            "6001\n",
            "----- TRAIN -----\n",
            "[2,  6002] sess loss: 0.810\n",
            "[2,  6002] buy loss: 0.394\n",
            "- sess acc: 0.673\n",
            "- buy acc1: tensor(0.8182)\n",
            "- buy real acc1: 0.3411875\n",
            "- buy acc2: tensor(0.8157)\n",
            "- buy real acc2: 0.3411875\n",
            "- buy acc rule2: tensor(0.8182)\n",
            "- buy real acc rule2: 0.34175\n",
            "- train sess cnt: tensor(1847) tensor(3088) tensor(2348) tensor(8717)\n"
          ],
          "name": "stdout"
        },
        {
          "output_type": "stream",
          "text": [
            "407it [00:07, 58.00it/s]\n"
          ],
          "name": "stderr"
        },
        {
          "output_type": "stream",
          "text": [
            "----- VAL -----\n",
            "- sess acc: 0.6590613778113779\n",
            "- buy acc1: tensor(0.8082)\n",
            "- buy real acc1: 0.3304195804195804\n",
            "- buy acc2: tensor(0.8055)\n",
            "- buy real acc2: 0.33291202041202045\n",
            "- buy acc rule2: tensor(0.8083)\n",
            "- buy real acc rule2: 0.3309570497070497\n",
            "valid sess cnt: tensor(1589) tensor(2513) tensor(1935) tensor(6968)\n",
            "6051\n",
            "6101\n",
            "6151\n",
            "6201\n",
            "6251\n",
            "6301\n",
            "6351\n",
            "6401\n",
            "6451\n",
            "6501\n",
            "----- TRAIN -----\n",
            "[2,  6502] sess loss: 0.806\n",
            "[2,  6502] buy loss: 0.391\n",
            "- sess acc: 0.6805625\n",
            "- buy acc1: tensor(0.8198)\n",
            "- buy real acc1: 0.3393125\n",
            "- buy acc2: tensor(0.8184)\n",
            "- buy real acc2: 0.342\n",
            "- buy acc rule2: tensor(0.8198)\n",
            "- buy real acc rule2: 0.34\n",
            "- train sess cnt: tensor(1907) tensor(2993) tensor(2347) tensor(8753)\n"
          ],
          "name": "stdout"
        },
        {
          "output_type": "stream",
          "text": [
            "407it [00:06, 58.14it/s]\n"
          ],
          "name": "stderr"
        },
        {
          "output_type": "stream",
          "text": [
            "----- VAL -----\n",
            "- sess acc: 0.6582935645435646\n",
            "- buy acc1: tensor(0.8081)\n",
            "- buy real acc1: 0.32496810621810623\n",
            "- buy acc2: tensor(0.8061)\n",
            "- buy real acc2: 0.3276141088641089\n",
            "- buy acc rule2: tensor(0.8082)\n",
            "- buy real acc rule2: 0.3258127008127008\n",
            "valid sess cnt: tensor(1589) tensor(2513) tensor(1935) tensor(6968)\n",
            "6551\n",
            "6601\n",
            "6651\n",
            "6701\n",
            "6751\n",
            "6801\n",
            "6851\n",
            "6901\n",
            "6951\n",
            "7001\n",
            "----- TRAIN -----\n",
            "[2,  7002] sess loss: 0.803\n",
            "[2,  7002] buy loss: 0.390\n",
            "- sess acc: 0.6784375\n",
            "- buy acc1: tensor(0.8188)\n",
            "- buy real acc1: 0.3458125\n",
            "- buy acc2: tensor(0.8169)\n",
            "- buy real acc2: 0.3485\n",
            "- buy acc rule2: tensor(0.8188)\n",
            "- buy real acc rule2: 0.3465\n",
            "- train sess cnt: tensor(1844) tensor(3156) tensor(2289) tensor(8711)\n"
          ],
          "name": "stdout"
        },
        {
          "output_type": "stream",
          "text": [
            "407it [00:07, 57.83it/s]\n"
          ],
          "name": "stderr"
        },
        {
          "output_type": "stream",
          "text": [
            "----- VAL -----\n",
            "- sess acc: 0.6585239085239085\n",
            "- buy acc1: tensor(0.8087)\n",
            "- buy real acc1: 0.3279212341712342\n",
            "- buy acc2: tensor(0.8059)\n",
            "- buy real acc2: 0.3299529862029862\n",
            "- buy acc rule2: tensor(0.8087)\n",
            "- buy real acc rule2: 0.3284587034587035\n",
            "valid sess cnt: tensor(1589) tensor(2513) tensor(1935) tensor(6968)\n",
            "7051\n",
            "7101\n",
            "7151\n",
            "7201\n",
            "7251\n",
            "7301\n",
            "7351\n",
            "7401\n",
            "7451\n",
            "7501\n",
            "----- TRAIN -----\n",
            "[2,  7502] sess loss: 0.807\n",
            "[2,  7502] buy loss: 0.388\n",
            "- sess acc: 0.6786875\n",
            "- buy acc1: tensor(0.8213)\n",
            "- buy real acc1: 0.3445625\n",
            "- buy acc2: tensor(0.8197)\n",
            "- buy real acc2: 0.3479375\n",
            "- buy acc rule2: tensor(0.8214)\n",
            "- buy real acc rule2: 0.345625\n",
            "- train sess cnt: tensor(1885) tensor(3096) tensor(2377) tensor(8642)\n"
          ],
          "name": "stdout"
        },
        {
          "output_type": "stream",
          "text": [
            "407it [00:07, 57.13it/s]\n"
          ],
          "name": "stderr"
        },
        {
          "output_type": "stream",
          "text": [
            "----- VAL -----\n",
            "- sess acc: 0.6593685031185031\n",
            "- buy acc1: tensor(0.8088)\n",
            "- buy real acc1: 0.3343354280854281\n",
            "- buy acc2: tensor(0.8062)\n",
            "- buy real acc2: 0.3364439614439615\n",
            "- buy acc rule2: tensor(0.8087)\n",
            "- buy real acc rule2: 0.3349496786996787\n",
            "valid sess cnt: tensor(1589) tensor(2513) tensor(1935) tensor(6968)\n",
            "7551\n",
            "7601\n",
            "7651\n",
            "7701\n",
            "Finished Training\n"
          ],
          "name": "stdout"
        }
      ]
    },
    {
      "cell_type": "code",
      "metadata": {
        "id": "0Df1QMAUl0tJ"
      },
      "source": [
        "torch.save(model, '4sess_pred_deepermodel_epoch2.pth')"
      ],
      "execution_count": 22,
      "outputs": []
    },
    {
      "cell_type": "code",
      "metadata": {
        "id": "tiGDnJW0HRXB"
      },
      "source": [
        ""
      ],
      "execution_count": null,
      "outputs": []
    },
    {
      "cell_type": "code",
      "metadata": {
        "id": "EbyIIARLHSOc"
      },
      "source": [
        ""
      ],
      "execution_count": null,
      "outputs": []
    },
    {
      "cell_type": "markdown",
      "metadata": {
        "id": "fs0871p6l08l"
      },
      "source": [
        "## test"
      ]
    },
    {
      "cell_type": "code",
      "metadata": {
        "id": "z2e8vb-bC0eE"
      },
      "source": [
        "def load_test_data(data_path='/content/drive/MyDrive/202108-bigdatacup2021/data/',\n",
        "                   filename='track1_testset.csv'):\n",
        "    test_samples = []\n",
        "    df_test = pd.read_csv(f'{data_path}/{filename}', sep=' ')\n",
        "\n",
        "    total_num = int(df_test.shape[0])\n",
        "\n",
        "    for i in tqdm(range(total_num)):\n",
        "        if df_test.at[i, 'user_click_history'] == '0:0':\n",
        "            user_click_list = [0]\n",
        "        else:\n",
        "            user_click_list = df_test.at[i, 'user_click_history'].split(',')\n",
        "            user_click_list = [int(sample.split(':')[0]) for sample in user_click_list]\n",
        "        num_user_click_history = len(user_click_list)\n",
        "        tmp = np.zeros(400, dtype=np.int64)\n",
        "        tmp[:len(user_click_list)] = user_click_list\n",
        "        user_click_list = tmp\n",
        "        \n",
        "        exposed_items = [int(s) for s in df_test.at[i, 'exposed_items'].split(',')]\n",
        "\n",
        "        user_portrait = [int(s) for s in df_test.at[i, 'user_protrait'].split(',')]\n",
        "        # portraitidx_to_idx_dict_list: list of 10 dict, int:int\n",
        "        for j in range(10):\n",
        "            user_portrait[j] = portraitidx_to_idx_dict_list[j][user_portrait[j]]\n",
        "        one_sample = {\n",
        "            'user_click_list': user_click_list,\n",
        "            'num_user_click_history': num_user_click_history,\n",
        "            'user_portrait': np.array(user_portrait, dtype=np.int64),\n",
        "            'item_id': np.array(exposed_items, dtype=np.int64),\n",
        "        }\n",
        "        test_samples.append(one_sample)\n",
        "    return test_samples\n",
        "\n",
        "\n",
        "\n",
        "class BigDataCupTestDataset(torch.utils.data.Dataset):\n",
        "    def __init__(self, \n",
        "                 item_info_dict,\n",
        "                 database\n",
        "                ):\n",
        "        super().__init__()\n",
        "        self.item_info_dict = item_info_dict\n",
        "        self.database = database\n",
        "\n",
        "    def __len__(self, ):\n",
        "        return len(self.database)\n",
        "\n",
        "    def __getitem__(self, idx):\n",
        "        one_sample = self.database[idx]\n",
        "        user_click_history = one_sample['user_click_list']\n",
        "        num_user_click_history = one_sample['num_user_click_history']\n",
        "        user_discrete_feature = one_sample['user_portrait']\n",
        "        item_id = one_sample['item_id']\n",
        "\n",
        "        user_click_history_discrete_feature = np.zeros((400, 3+1)).astype(np.int64)\n",
        "        user_click_history_cont_feature = np.zeros((400, 2+1)).astype(np.float64)\n",
        "        for i in range(num_user_click_history):\n",
        "            if user_click_history[i] == 0:\n",
        "                continue # 这里不太好，但先这样吧。0表示没有任何点击，这里的discrete和cont feature直接用了全0\n",
        "            else:\n",
        "                user_click_history_discrete_feature[i] = self.item_info_dict[user_click_history[i]]['discrete']\n",
        "                user_click_history_cont_feature[i] = self.item_info_dict[user_click_history[i]]['cont']\n",
        "\n",
        "        item_discrete_feature = np.zeros((9, 3+1)).astype(np.int64)\n",
        "        item_cont_feature = np.zeros((9, 2+1)).astype(np.float64)\n",
        "        for i in range(9):\n",
        "            item_discrete_feature[i] = self.item_info_dict[item_id[i]]['discrete']\n",
        "            item_cont_feature[i] = self.item_info_dict[item_id[i]]['cont']\n",
        "\n",
        "        user_click_history = torch.IntTensor(user_click_history)\n",
        "        user_click_history_discrete_feature = torch.IntTensor(user_click_history_discrete_feature)\n",
        "        user_click_history_cont_feature = torch.FloatTensor(user_click_history_cont_feature)\n",
        "        num_user_click_history = torch.IntTensor([num_user_click_history])\n",
        "        user_discrete_feature = torch.IntTensor(user_discrete_feature)\n",
        "        item_id = torch.IntTensor(item_id)\n",
        "        item_discrete_feature = torch.IntTensor(item_discrete_feature)\n",
        "        item_cont_feature = torch.FloatTensor(item_cont_feature)\n",
        "        \n",
        "        return user_click_history, \\\n",
        "            user_click_history_discrete_feature, user_click_history_cont_feature, \\\n",
        "            num_user_click_history, \\\n",
        "            item_id, item_discrete_feature, item_cont_feature, \\\n",
        "            user_discrete_feature\n"
      ],
      "execution_count": 23,
      "outputs": []
    },
    {
      "cell_type": "code",
      "metadata": {
        "colab": {
          "base_uri": "https://localhost:8080/"
        },
        "id": "xBTlmys4XqKF",
        "outputId": "83819fb5-7325-47af-f108-950fafce3a1e"
      },
      "source": [
        "test_samples = load_test_data(data_path='/content/drive/MyDrive/202108-bigdatacup2021/data/', \n",
        "                                              filename='track1_testset.csv')\n",
        "\n",
        "test_ds = BigDataCupTestDataset(item_info_dict, test_samples)\n",
        "test_dl = torch.utils.data.DataLoader(dataset=test_ds, batch_size=32, shuffle=False)"
      ],
      "execution_count": 24,
      "outputs": [
        {
          "output_type": "stream",
          "text": [
            "100%|██████████| 206254/206254 [00:11<00:00, 18131.83it/s]\n"
          ],
          "name": "stderr"
        }
      ]
    },
    {
      "cell_type": "code",
      "metadata": {
        "colab": {
          "base_uri": "https://localhost:8080/"
        },
        "id": "fbDGC0xUl7RX",
        "outputId": "6fd8d63b-347c-4a91-b6cd-314282b017ec"
      },
      "source": [
        "model = model.eval()\n",
        "\n",
        "fp = open('4sess_pred_model_epoch2_track1.csv', 'w')\n",
        "print('id,category', file=fp)\n",
        "\n",
        "bs = 32\n",
        "\n",
        "for i, data in tqdm(enumerate(test_dl, 0)):\n",
        "    user_click_history, \\\n",
        "        user_click_history_discrete_feature, user_click_history_cont_feature, \\\n",
        "        num_user_click_history, \\\n",
        "        item_id, item_discrete_feature, item_cont_feature, \\\n",
        "        user_discrete_feature = data\n",
        "    sess_outputs, buy_outputs = model(\n",
        "        user_click_history,\n",
        "        user_click_history_discrete_feature,\n",
        "        user_click_history_cont_feature,\n",
        "        num_user_click_history,\n",
        "        item_id,\n",
        "        item_discrete_feature,\n",
        "        item_cont_feature,\n",
        "        user_discrete_feature\n",
        "    )\n",
        "\n",
        "    y_pred_tag = torch.round(torch.sigmoid(buy_outputs))\n",
        "    _, sess_pred = torch.max(sess_outputs.data, 1)\n",
        "        \n",
        "    for j in range(y_pred_tag.shape[0]):\n",
        "        if sess_pred[j] == 0:\n",
        "            y_pred_tag[j][:] = 0\n",
        "        elif sess_pred[j] == 1:\n",
        "            y_pred_tag[j][3:] = 0\n",
        "        elif sess_pred[j] == 2:\n",
        "            y_pred_tag[j][:3] = 1\n",
        "            y_pred_tag[j][6:] = 0\n",
        "        elif sess_pred[j] == 3:\n",
        "            y_pred_tag[j][:6] = 1\n",
        "\n",
        "        tmp = list(y_pred_tag[j].detach().numpy().astype(np.int32))\n",
        "        tmp = [str(a) for a in tmp]\n",
        "        p = ' '.join(tmp)\n",
        "        print(f'{i * bs + j + 1},{p}', file=fp)\n",
        "    # break\n",
        "\n",
        "fp.close()"
      ],
      "execution_count": 28,
      "outputs": [
        {
          "output_type": "stream",
          "text": [
            "6446it [01:08, 93.53it/s] \n"
          ],
          "name": "stderr"
        }
      ]
    },
    {
      "cell_type": "code",
      "metadata": {
        "id": "uY-NWb910UJH"
      },
      "source": [
        ""
      ],
      "execution_count": null,
      "outputs": []
    },
    {
      "cell_type": "markdown",
      "metadata": {
        "id": "48tdWQuI0UqW"
      },
      "source": [
        "## validation analysis"
      ]
    },
    {
      "cell_type": "code",
      "metadata": {
        "id": "VAXYAVTKoEWp"
      },
      "source": [
        "m = torch.load('4sess_pred_deepermodel_epoch2.pth')"
      ],
      "execution_count": 7,
      "outputs": []
    },
    {
      "cell_type": "code",
      "metadata": {
        "colab": {
          "base_uri": "https://localhost:8080/"
        },
        "id": "XZyAyicFzfNH",
        "outputId": "40a2bb52-b91d-4060-a18b-c9d2f3d299f6"
      },
      "source": [
        "m"
      ],
      "execution_count": 8,
      "outputs": [
        {
          "output_type": "execute_result",
          "data": {
            "text/plain": [
              "SessionPredictionModel(\n",
              "  (item_emb): Embedding(382, 32)\n",
              "  (item_discrete_feature_emb_list): ModuleList(\n",
              "    (0): Embedding(4, 8)\n",
              "    (1): Embedding(10, 8)\n",
              "    (2): Embedding(2, 8)\n",
              "    (3): Embedding(3, 8)\n",
              "  )\n",
              "  (user_discrete_feature_emb_list): ModuleList(\n",
              "    (0): Embedding(3, 8)\n",
              "    (1): Embedding(1430, 8)\n",
              "    (2): Embedding(20, 8)\n",
              "    (3): Embedding(10, 8)\n",
              "    (4): Embedding(198, 8)\n",
              "    (5): Embedding(52, 8)\n",
              "    (6): Embedding(3, 8)\n",
              "    (7): Embedding(13, 8)\n",
              "    (8): Embedding(2, 8)\n",
              "    (9): Embedding(2347, 8)\n",
              "  )\n",
              "  (backbone): Sequential(\n",
              "    (0): Linear(in_features=750, out_features=400, bias=True)\n",
              "    (1): PReLU(num_parameters=1)\n",
              "    (2): Linear(in_features=400, out_features=200, bias=True)\n",
              "    (3): PReLU(num_parameters=1)\n",
              "  )\n",
              "  (session_prediction_head): Sequential(\n",
              "    (0): Linear(in_features=200, out_features=80, bias=True)\n",
              "    (1): PReLU(num_parameters=1)\n",
              "    (2): Linear(in_features=80, out_features=20, bias=True)\n",
              "    (3): PReLU(num_parameters=1)\n",
              "    (4): Linear(in_features=20, out_features=4, bias=True)\n",
              "  )\n",
              "  (buy_prediction_head): Sequential(\n",
              "    (0): Linear(in_features=200, out_features=80, bias=True)\n",
              "    (1): PReLU(num_parameters=1)\n",
              "    (2): Linear(in_features=80, out_features=20, bias=True)\n",
              "    (3): PReLU(num_parameters=1)\n",
              "    (4): Linear(in_features=20, out_features=9, bias=True)\n",
              "  )\n",
              ")"
            ]
          },
          "metadata": {
            "tags": []
          },
          "execution_count": 8
        }
      ]
    },
    {
      "cell_type": "code",
      "metadata": {
        "colab": {
          "base_uri": "https://localhost:8080/"
        },
        "id": "lyGOaITH2aZe",
        "outputId": "9985c903-5527-4089-be27-f4bf2af79590"
      },
      "source": [
        "train_samples, val_samples = load_train_data()\n",
        "\n",
        "# train_ds = BigDataCupDataset(item_info_dict, train_samples)\n",
        "# train_dl = torch.utils.data.DataLoader(dataset=train_ds, batch_size=32, shuffle=True)\n",
        "\n",
        "val_ds = BigDataCupDataset(item_info_dict, val_samples)\n",
        "val_dl = torch.utils.data.DataLoader(dataset=val_ds, batch_size=32, shuffle=False)"
      ],
      "execution_count": 17,
      "outputs": [
        {
          "output_type": "stream",
          "text": [
            "100%|██████████| 260087/260087 [00:17<00:00, 15243.55it/s]\n"
          ],
          "name": "stderr"
        }
      ]
    },
    {
      "cell_type": "code",
      "metadata": {
        "colab": {
          "base_uri": "https://localhost:8080/"
        },
        "id": "s9rLPFfPzhmw",
        "outputId": "46ab1962-81f5-41fd-f8bc-c0e384666334"
      },
      "source": [
        "model = m.eval()\n",
        "# sess_pred_list = []\n",
        "# sess_gt_list = []\n",
        "\n",
        "one_zero  = np.zeros(9) # 本来买了1，预测称没买0\n",
        "zero_one  = np.zeros(9) # 本来没买0，预测成购买1\n",
        "one_one   = np.zeros(9) # 本来买了，预测成买了\n",
        "zero_zero = np.zeros(9) # 本来没买，预测称没买\n",
        "\n",
        "pred_num_list = []\n",
        "gt_num_list = []\n",
        "\n",
        "valid_cnt = 0\n",
        "valid_sess_acc_sum = 0\n",
        "valid_buy_acc1_sum = 0\n",
        "valid_buy_real_acc1_sum = 0\n",
        "valid_buy_acc2_sum = 0\n",
        "valid_buy_real_acc2_sum = 0\n",
        "valid_buy_acc_rule2_sum = 0\n",
        "valid_buy_real_acc_rule2_sum = 0\n",
        "\n",
        "for i, data in tqdm(enumerate(val_dl, 0)):\n",
        "    user_click_history, \\\n",
        "        user_click_history_discrete_feature, user_click_history_cont_feature, \\\n",
        "        num_user_click_history, \\\n",
        "        item_id, item_discrete_feature, item_cont_feature, \\\n",
        "        user_discrete_feature, label, session_label = data\n",
        "    sess_outputs, buy_outputs = model(\n",
        "        user_click_history,\n",
        "        user_click_history_discrete_feature,\n",
        "        user_click_history_cont_feature,\n",
        "        num_user_click_history,\n",
        "        item_id,\n",
        "        item_discrete_feature,\n",
        "        item_cont_feature,\n",
        "        user_discrete_feature\n",
        "    )\n",
        "    bs = user_click_history.shape[0]\n",
        "\n",
        "    ## let all 0,1,2 item buy (this will reduce performance, tested)\n",
        "    # buy_outputs[:, :3] = 1 \n",
        "\n",
        "    _, sess_predicted = torch.max(sess_outputs.data, 1)\n",
        "    sess_acc = (sess_predicted == session_label).sum().item() / bs\n",
        "    buy_acc1, buy_acc2, buy_acc_rule2, buy_real_acc1, buy_real_acc2, buy_real_acc_rule2 = binary_acc(sess_predicted, buy_outputs, label)\n",
        "\n",
        "    y_pred_tag = torch.round(torch.sigmoid(buy_outputs)).detach().numpy()\n",
        "    label = label.numpy()\n",
        "\n",
        "    pred_num = np.sum(y_pred_tag, axis=1)\n",
        "    gt_num = np.sum(label, axis=1)\n",
        "    pred_num_list.extend(list(pred_num))\n",
        "    gt_num_list.extend(list(gt_num))\n",
        "\n",
        "    valid_sess_acc_sum += sess_acc\n",
        "    valid_buy_acc1_sum += buy_acc1\n",
        "    valid_buy_real_acc1_sum += buy_real_acc1\n",
        "    valid_buy_acc2_sum += buy_acc2\n",
        "    valid_buy_real_acc2_sum += buy_real_acc2\n",
        "    valid_buy_acc_rule2_sum += buy_acc_rule2\n",
        "    valid_buy_real_acc_rule2_sum += buy_real_acc_rule2\n",
        "    valid_cnt += 1\n",
        "\n",
        "    for b in range(bs):\n",
        "        y_pred = y_pred_tag[b]\n",
        "        y_gt = label[b]\n",
        "        for i in range(9):\n",
        "            if y_pred[i] == 1 and y_gt[i] == 1:\n",
        "                one_one[i] += 1\n",
        "            elif y_pred[i] == 0 and y_gt[i] == 0:\n",
        "                zero_zero[i] += 1\n",
        "            elif y_pred[i] == 1 and y_gt[i] == 0:\n",
        "                one_zero[i] += 1\n",
        "            elif y_pred[i] == 0 and y_gt[i] == 1:\n",
        "                zero_one[i] += 1\n",
        "\n",
        "    # _, sess_pred = torch.max(sess_outputs.data, 1)\n",
        "    # sess_pred_list.extend(list(sess_pred.numpy()))\n",
        "    # sess_gt_list.extend(list(session_label))\n",
        "\n",
        "\n",
        "print('----- VAL -----')\n",
        "print('- sess acc:', valid_sess_acc_sum / valid_cnt)\n",
        "print('- buy acc1:', valid_buy_acc1_sum / valid_cnt)\n",
        "print('- buy real acc1:', valid_buy_real_acc1_sum / valid_cnt)\n",
        "print('- buy acc2:', valid_buy_acc2_sum / valid_cnt)\n",
        "print('- buy real acc2:', valid_buy_real_acc2_sum / valid_cnt)\n",
        "print('- buy acc rule2:', valid_buy_acc_rule2_sum / valid_cnt)\n",
        "print('- buy real acc rule2:', valid_buy_real_acc_rule2_sum / valid_cnt)\n",
        "\n"
      ],
      "execution_count": 63,
      "outputs": [
        {
          "output_type": "stream",
          "text": [
            "407it [00:07, 53.32it/s]"
          ],
          "name": "stderr"
        },
        {
          "output_type": "stream",
          "text": [
            "----- VAL -----\n",
            "- sess acc: 0.6595988470988471\n",
            "- buy acc1: tensor(0.8087)\n",
            "- buy real acc1: 0.331494518994519\n",
            "- buy acc2: tensor(0.8067)\n",
            "- buy real acc2: 0.33383339633339637\n",
            "- buy acc rule2: tensor(0.8088)\n",
            "- buy real acc rule2: 0.33180164430164427\n"
          ],
          "name": "stdout"
        },
        {
          "output_type": "stream",
          "text": [
            "\n"
          ],
          "name": "stderr"
        }
      ]
    },
    {
      "cell_type": "code",
      "metadata": {
        "id": "vHFJDA21_0lt"
      },
      "source": [
        ""
      ],
      "execution_count": 58,
      "outputs": []
    },
    {
      "cell_type": "code",
      "metadata": {
        "id": "jPtKmxUT_0y2"
      },
      "source": [
        ""
      ],
      "execution_count": 58,
      "outputs": []
    },
    {
      "cell_type": "code",
      "metadata": {
        "id": "1B7xY2Oc2_ee"
      },
      "source": [
        "from sklearn.metrics import confusion_matrix\n",
        "from sklearn.metrics import ConfusionMatrixDisplay\n"
      ],
      "execution_count": 76,
      "outputs": []
    },
    {
      "cell_type": "code",
      "metadata": {
        "colab": {
          "base_uri": "https://localhost:8080/",
          "height": 541
        },
        "id": "rSZVhBGJ3hFR",
        "outputId": "86d245ba-1d38-4df3-9f39-b344d350083b"
      },
      "source": [
        "# Confusion matrix whose i-th row and j-th column entry indicates \n",
        "# the number of samples with \n",
        "# true label being i-th class, and \n",
        "# predicted label being j-th class.\n",
        "a = confusion_matrix(sess_gt_list, sess_pred_list)\n",
        "a_per = a / np.sum(a, axis=1, keepdims=True) * 100\n",
        "cm_display = ConfusionMatrixDisplay(a, display_labels=range(4)).plot(values_format='d')\n",
        "cm_display = ConfusionMatrixDisplay(a_per, display_labels=range(4)).plot(values_format='2.0f')"
      ],
      "execution_count": 92,
      "outputs": [
        {
          "output_type": "display_data",
          "data": {
            "image/png": "[encoded data removed]",
            "text/plain": [
              "<Figure size 432x288 with 2 Axes>"
            ]
          },
          "metadata": {
            "tags": [],
            "needs_background": "light"
          }
        },
        {
          "output_type": "display_data",
          "data": {
            "image/png": "[encoded data removed]",
            "text/plain": [
              "<Figure size 432x288 with 2 Axes>"
            ]
          },
          "metadata": {
            "tags": [],
            "needs_background": "light"
          }
        }
      ]
    },
    {
      "cell_type": "code",
      "metadata": {
        "colab": {
          "base_uri": "https://localhost:8080/",
          "height": 541
        },
        "id": "WLY2gryVB1aH",
        "outputId": "7639851a-3012-4f35-f67a-4d2c76e5a9bb"
      },
      "source": [
        "a = confusion_matrix(pred_num_list, gt_num_list)\n",
        "a_per = a / np.sum(a, axis=1, keepdims=True) * 100\n",
        "cm_display = ConfusionMatrixDisplay(a, display_labels=range(10)).plot(values_format='d')\n",
        "cm_display = ConfusionMatrixDisplay(a_per, display_labels=range(10)).plot(values_format='2.0f')"
      ],
      "execution_count": 93,
      "outputs": [
        {
          "output_type": "display_data",
          "data": {
            "image/png": "[encoded data removed]",
            "text/plain": [
              "<Figure size 432x288 with 2 Axes>"
            ]
          },
          "metadata": {
            "tags": [],
            "needs_background": "light"
          }
        },
        {
          "output_type": "display_data",
          "data": {
            "image/png": "[encoded data removed]",
            "text/plain": [
              "<Figure size 432x288 with 2 Axes>"
            ]
          },
          "metadata": {
            "tags": [],
            "needs_background": "light"
          }
        }
      ]
    },
    {
      "cell_type": "code",
      "metadata": {
        "colab": {
          "base_uri": "https://localhost:8080/"
        },
        "id": "C-kfakmqB3kP",
        "outputId": "006de0bf-40df-40c4-9a37-d2df52367d45"
      },
      "source": [
        "s = 0\n",
        "for i in range(10):\n",
        "    s += a[i][i]\n",
        "print(s)"
      ],
      "execution_count": 70,
      "outputs": [
        {
          "output_type": "stream",
          "text": [
            "4605\n"
          ],
          "name": "stdout"
        }
      ]
    },
    {
      "cell_type": "code",
      "metadata": {
        "colab": {
          "base_uri": "https://localhost:8080/"
        },
        "id": "WDCD7YFJCCji",
        "outputId": "891b4968-18c1-466d-b5d6-5e676745bc13"
      },
      "source": [
        "4605 / np.sum(a)"
      ],
      "execution_count": 72,
      "outputs": [
        {
          "output_type": "execute_result",
          "data": {
            "text/plain": [
              "0.35409457900807384"
            ]
          },
          "metadata": {
            "tags": []
          },
          "execution_count": 72
        }
      ]
    },
    {
      "cell_type": "code",
      "metadata": {
        "colab": {
          "base_uri": "https://localhost:8080/"
        },
        "id": "NHtQR8-ICQBJ",
        "outputId": "3b86497a-25a9-4a37-8923-c39a659ee2b6"
      },
      "source": [
        "np.sum(a)"
      ],
      "execution_count": 73,
      "outputs": [
        {
          "output_type": "execute_result",
          "data": {
            "text/plain": [
              "13005"
            ]
          },
          "metadata": {
            "tags": []
          },
          "execution_count": 73
        }
      ]
    },
    {
      "cell_type": "code",
      "metadata": {
        "colab": {
          "base_uri": "https://localhost:8080/"
        },
        "id": "VPt69Xkk4XgA",
        "outputId": "2c4aaac0-2f28-498e-f9dd-c8604edbb986"
      },
      "source": [
        "a = one_zero + zero_one + one_one + zero_zero\n",
        "print(one_zero)\n",
        "print(zero_one)\n",
        "print(one_one)\n",
        "print(zero_zero) \n",
        "print('')\n",
        "print(np.round(one_zero  / a, 2))\n",
        "print(np.round(zero_one  / a, 2))\n",
        "print(np.round(one_one   / a, 2))\n",
        "print(np.round(zero_zero / a, 2)) "
      ],
      "execution_count": 62,
      "outputs": [
        {
          "output_type": "stream",
          "text": [
            "[1842. 1766. 1681. 1399. 1459. 1411. 1192. 1327.  869.]\n",
            "[ 489.  600.  778. 1235. 1222. 1231. 1344. 1203. 1334.]\n",
            "[9831. 9651. 9357. 6867. 6842. 6742. 4269. 4093. 2000.]\n",
            "[ 843.  988. 1189. 3504. 3482. 3621. 6200. 6382. 8802.]\n",
            "\n",
            "[0.14 0.14 0.13 0.11 0.11 0.11 0.09 0.1  0.07]\n",
            "[0.04 0.05 0.06 0.09 0.09 0.09 0.1  0.09 0.1 ]\n",
            "[0.76 0.74 0.72 0.53 0.53 0.52 0.33 0.31 0.15]\n",
            "[0.06 0.08 0.09 0.27 0.27 0.28 0.48 0.49 0.68]\n"
          ],
          "name": "stdout"
        }
      ]
    },
    {
      "cell_type": "code",
      "metadata": {
        "id": "An-TH5M6AhKL"
      },
      "source": [
        ""
      ],
      "execution_count": null,
      "outputs": []
    }
  ]
}